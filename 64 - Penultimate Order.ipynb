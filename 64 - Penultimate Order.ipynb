{
 "cells": [
  {
   "cell_type": "markdown",
   "metadata": {
    "application/vnd.databricks.v1+cell": {
     "cellMetadata": {},
     "inputWidgets": {},
     "nuid": "d3f145f9-bad4-4695-93fc-5f3e518b1fb6",
     "showTitle": false,
     "tableResultSettingsMap": {},
     "title": ""
    }
   },
   "source": [
    "You are a data analyst working for an e-commerce company, responsible for analysing customer orders to gain insights into their purchasing behaviour. Your task is to write a SQL query to retrieve the details of the penultimate order for each customer. However, if a customer has placed only one order, you need to retrieve the details of that order instead, display the output in ascending order of customer name."
   ]
  },
  {
   "cell_type": "code",
   "execution_count": 0,
   "metadata": {
    "application/vnd.databricks.v1+cell": {
     "cellMetadata": {
      "byteLimit": 2048000,
      "rowLimit": 10000
     },
     "inputWidgets": {},
     "nuid": "ae7c0882-8644-4b2c-b27c-bddb1030381c",
     "showTitle": false,
     "tableResultSettingsMap": {},
     "title": ""
    }
   },
   "outputs": [
    {
     "output_type": "stream",
     "name": "stdout",
     "output_type": "stream",
     "text": [
      "+--------+----------+-------------+------------+-----+\n|order_id|order_date|customer_name|product_name|sales|\n+--------+----------+-------------+------------+-----+\n|       1|2023-01-01|        Alexa|      iphone|  100|\n|       2|2023-01-02|        Alexa|        boAt|  300|\n|       3|2023-01-03|        Alexa|       Rolex|  400|\n|       4|2023-01-01|       Ramesh|       Titan|  200|\n|       5|2023-01-02|       Ramesh|       Shirt|  300|\n|       6|2023-01-03|         Neha|       Dress|  100|\n+--------+----------+-------------+------------+-----+\n\n"
     ]
    }
   ],
   "source": [
    "from pyspark.sql import SparkSession\n",
    "\n",
    "from pyspark.sql.types import StructType, StructField, IntegerType, StringType\n",
    "from pyspark.sql.functions import *\n",
    "from pyspark.sql.window import *\n",
    "\n",
    "# Initialize a Spark session\n",
    "spark = SparkSession.builder \\\n",
    "    .appName(\"Orders DataFrame\") \\\n",
    "    .getOrCreate()\n",
    "\n",
    "# Define the data\n",
    "data = [\n",
    "    (1, \"2023-01-01\", \"Alexa\", \"iphone\", 100),\n",
    "    (2, \"2023-01-02\", \"Alexa\", \"boAt\", 300),\n",
    "    (3, \"2023-01-03\", \"Alexa\", \"Rolex\", 400),\n",
    "    (4, \"2023-01-01\", \"Ramesh\", \"Titan\", 200),\n",
    "    (5, \"2023-01-02\", \"Ramesh\", \"Shirt\", 300),\n",
    "    (6, \"2023-01-03\", \"Neha\", \"Dress\", 100),\n",
    "]\n",
    "\n",
    "\n",
    "\n",
    "# Define the schema\n",
    "schema = StructType([\n",
    "    StructField(\"order_id\", IntegerType(), True),\n",
    "    StructField(\"order_date\", StringType(), True),\n",
    "    StructField(\"customer_name\", StringType(), True),\n",
    "    StructField(\"product_name\", StringType(), True),\n",
    "    StructField(\"sales\", IntegerType(), True)\n",
    "])\n",
    "\n",
    "\n",
    "# Create the DataFrame\n",
    "orders = spark.createDataFrame(data, schema=schema)\n",
    "\n",
    "# Show the DataFrame\n",
    "orders.show()\n",
    "\n"
   ]
  },
  {
   "cell_type": "code",
   "execution_count": 0,
   "metadata": {
    "application/vnd.databricks.v1+cell": {
     "cellMetadata": {
      "byteLimit": 2048000,
      "rowLimit": 10000
     },
     "inputWidgets": {},
     "nuid": "ac305cdb-1bf2-4eed-93f6-29e3b1afce23",
     "showTitle": false,
     "tableResultSettingsMap": {},
     "title": ""
    }
   },
   "outputs": [],
   "source": [
    "#Checking the schema\n",
    "orders.printSchema()\n",
    "\n",
    "\n",
    "#Converting the order_date to date\n",
    "orders=orders.withColumn(\"order_date\",to_date(col(\"order_date\"),\"yyyy-MM-dd\"))\n",
    "\n",
    "#Specifying the Windown Function\n",
    "window_spec=Window.partitionBy(col(\"customer_name\")).orderBy(col(\"order_date\").desc())\n",
    "\n",
    "#2nd Last order of every customer and if customer have 1 order that should be reflect also\n",
    "\n",
    "orders=orders.withColumn(\"rn\",row_number().over(window_spec)) \\\n",
    "    .withColumn(\"cnt\",count(\"*\").over(Window.partitionBy(col(\"customer_name\")))) \\\n",
    "        .filter((col(\"rn\")==2) | (col(\"cnt\")==1))\n"
   ]
  },
  {
   "cell_type": "code",
   "execution_count": 0,
   "metadata": {
    "application/vnd.databricks.v1+cell": {
     "cellMetadata": {
      "byteLimit": 2048000,
      "rowLimit": 10000
     },
     "inputWidgets": {},
     "nuid": "98e6a810-2217-41aa-9844-124216f0f3dd",
     "showTitle": false,
     "tableResultSettingsMap": {},
     "title": ""
    }
   },
   "outputs": [
    {
     "output_type": "display_data",
     "data": {
      "text/html": [
       "<style scoped>\n",
       "  .table-result-container {\n",
       "    max-height: 300px;\n",
       "    overflow: auto;\n",
       "  }\n",
       "  table, th, td {\n",
       "    border: 1px solid black;\n",
       "    border-collapse: collapse;\n",
       "  }\n",
       "  th, td {\n",
       "    padding: 5px;\n",
       "  }\n",
       "  th {\n",
       "    text-align: left;\n",
       "  }\n",
       "</style><div class='table-result-container'><table class='table-result'><thead style='background-color: white'><tr><th>order_id</th><th>order_date</th><th>customer_name</th><th>product_name</th><th>sales</th><th>rn</th><th>cnt</th></tr></thead><tbody><tr><td>2</td><td>2023-01-02</td><td>Alexa</td><td>boAt</td><td>300</td><td>2</td><td>3</td></tr><tr><td>6</td><td>2023-01-03</td><td>Neha</td><td>Dress</td><td>100</td><td>1</td><td>1</td></tr><tr><td>4</td><td>2023-01-01</td><td>Ramesh</td><td>Titan</td><td>200</td><td>2</td><td>2</td></tr></tbody></table></div>"
      ]
     },
     "metadata": {
      "application/vnd.databricks.v1+output": {
       "addedWidgets": {},
       "aggData": [],
       "aggError": "",
       "aggOverflow": false,
       "aggSchema": [],
       "aggSeriesLimitReached": false,
       "aggType": "",
       "arguments": {},
       "columnCustomDisplayInfos": {},
       "data": [
        [
         2,
         "2023-01-02",
         "Alexa",
         "boAt",
         300,
         2,
         3
        ],
        [
         6,
         "2023-01-03",
         "Neha",
         "Dress",
         100,
         1,
         1
        ],
        [
         4,
         "2023-01-01",
         "Ramesh",
         "Titan",
         200,
         2,
         2
        ]
       ],
       "datasetInfos": [],
       "dbfsResultPath": null,
       "isJsonSchema": true,
       "metadata": {},
       "overflow": false,
       "plotOptions": {
        "customPlotOptions": {},
        "displayType": "table",
        "pivotAggregation": null,
        "pivotColumns": null,
        "xColumns": null,
        "yColumns": null
       },
       "removedWidgets": [],
       "schema": [
        {
         "metadata": "{}",
         "name": "order_id",
         "type": "\"integer\""
        },
        {
         "metadata": "{}",
         "name": "order_date",
         "type": "\"string\""
        },
        {
         "metadata": "{}",
         "name": "customer_name",
         "type": "\"string\""
        },
        {
         "metadata": "{}",
         "name": "product_name",
         "type": "\"string\""
        },
        {
         "metadata": "{}",
         "name": "sales",
         "type": "\"integer\""
        },
        {
         "metadata": "{}",
         "name": "rn",
         "type": "\"integer\""
        },
        {
         "metadata": "{}",
         "name": "cnt",
         "type": "\"long\""
        }
       ],
       "type": "table"
      }
     },
     "output_type": "display_data"
    }
   ],
   "source": [
    "\n",
    "orders=orders.withColumn(\"rn\",row_number().over(window_spec)) \\\n",
    "    .withColumn(\"cnt\",count(\"*\").over(Window.partitionBy(col(\"customer_name\")))) \\\n",
    "        .filter((col(\"rn\")==2) | (col(\"cnt\")==1))\n"
   ]
  },
  {
   "cell_type": "code",
   "execution_count": 0,
   "metadata": {
    "application/vnd.databricks.v1+cell": {
     "cellMetadata": {},
     "inputWidgets": {},
     "nuid": "63bd3a7c-51c4-4b67-93ac-3bb7f38b16e9",
     "showTitle": false,
     "tableResultSettingsMap": {},
     "title": ""
    }
   },
   "outputs": [],
   "source": []
  }
 ],
 "metadata": {
  "application/vnd.databricks.v1+notebook": {
   "dashboards": [],
   "environmentMetadata": null,
   "language": "python",
   "notebookMetadata": {
    "pythonIndentUnit": 4
   },
   "notebookName": "64 - Penultimate Order",
   "widgets": {}
  }
 },
 "nbformat": 4,
 "nbformat_minor": 0
}
