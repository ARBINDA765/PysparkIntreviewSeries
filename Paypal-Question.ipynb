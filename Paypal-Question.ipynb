{
 "cells": [
  {
   "cell_type": "code",
   "execution_count": 0,
   "metadata": {
    "application/vnd.databricks.v1+cell": {
     "cellMetadata": {},
     "inputWidgets": {},
     "nuid": "5ba33cbe-eca8-4f7d-a1e5-6880ea32e05d",
     "showTitle": false,
     "title": ""
    }
   },
   "outputs": [],
   "source": [
    "#Q:  Write a Pyspark code to find the output table as given below-\n",
    "#   employeeid, default_number, total_entry, total_login, total_logout, latest_login, latest_logout. "
   ]
  },
  {
   "cell_type": "code",
   "execution_count": 0,
   "metadata": {
    "application/vnd.databricks.v1+cell": {
     "cellMetadata": {
      "byteLimit": 2048000,
      "rowLimit": 10000
     },
     "inputWidgets": {},
     "nuid": "3611a5a8-e7c6-403e-85be-243ebf2911dd",
     "showTitle": false,
     "title": ""
    }
   },
   "outputs": [],
   "source": [
    "from pyspark.sql.types import *\n",
    "from pyspark.sql.functions import *\n",
    "from pyspark.sql.window import *"
   ]
  },
  {
   "cell_type": "code",
   "execution_count": 0,
   "metadata": {
    "application/vnd.databricks.v1+cell": {
     "cellMetadata": {
      "byteLimit": 2048000,
      "rowLimit": 10000
     },
     "inputWidgets": {},
     "nuid": "c83f67fc-b3e6-4bd8-a53c-5b028f3064b9",
     "showTitle": false,
     "title": ""
    }
   },
   "outputs": [],
   "source": [
    "checkin_df = spark.createDataFrame(\n",
    "    [\n",
    "(1000, 'login', '2023-06-16 01:00:15.34'),\n",
    " (1000, 'login', '2023-06-16 02:00:15.34'),\n",
    " (1000, 'login', '2023-06-16 03:00:15.34'),\n",
    " (1000, 'logout', '2023-06-16 12:00:15.34'),\n",
    " (1001, 'login', '2023-06-16 01:00:15.34'),\n",
    " (1001, 'login', '2023-06-16 02:00:15.34'),\n",
    " (1001, 'login', '2023-06-16 03:00:15.34'),\n",
    " (1001, 'logout', '2023-06-16 12:00:15.34')\n",
    " ],\n",
    " [\"employeeid\", \"entry_details\", \"timestamp_details\"]\n",
    " )\n",
    "\n",
    "detail_df = spark.createDataFrame([(1001, 9999, 'false'),\n",
    " (1001, 1111, 'false'),\n",
    " (1001, 2222, 'true'),\n",
    " (1003, 3333, 'false')],\n",
    " [\"id\", \"phone_number\", \"isdefault\"])"
   ]
  },
  {
   "cell_type": "code",
   "execution_count": 0,
   "metadata": {
    "application/vnd.databricks.v1+cell": {
     "cellMetadata": {
      "byteLimit": 2048000,
      "rowLimit": 10000
     },
     "inputWidgets": {},
     "nuid": "6106e18f-aa15-42fd-8a8d-a95c13e3ee4c",
     "showTitle": false,
     "title": ""
    }
   },
   "outputs": [
    {
     "output_type": "stream",
     "name": "stdout",
     "output_type": "stream",
     "text": [
      "+----------+-------------+----------------------+\n|employeeid|entry_details|timestamp_details     |\n+----------+-------------+----------------------+\n|1000      |login        |2023-06-16 01:00:15.34|\n|1000      |login        |2023-06-16 02:00:15.34|\n|1000      |login        |2023-06-16 03:00:15.34|\n|1000      |logout       |2023-06-16 12:00:15.34|\n|1001      |login        |2023-06-16 01:00:15.34|\n|1001      |login        |2023-06-16 02:00:15.34|\n|1001      |login        |2023-06-16 03:00:15.34|\n|1001      |logout       |2023-06-16 12:00:15.34|\n+----------+-------------+----------------------+\n\n"
     ]
    }
   ],
   "source": [
    "checkin_df.show(truncate=0)"
   ]
  },
  {
   "cell_type": "code",
   "execution_count": 0,
   "metadata": {
    "application/vnd.databricks.v1+cell": {
     "cellMetadata": {
      "byteLimit": 2048000,
      "rowLimit": 10000
     },
     "inputWidgets": {},
     "nuid": "1fcac575-8903-45b2-84e8-cf2e3fd0e33d",
     "showTitle": false,
     "title": ""
    }
   },
   "outputs": [
    {
     "output_type": "display_data",
     "data": {
      "text/html": [
       "<style scoped>\n",
       "  .table-result-container {\n",
       "    max-height: 300px;\n",
       "    overflow: auto;\n",
       "  }\n",
       "  table, th, td {\n",
       "    border: 1px solid black;\n",
       "    border-collapse: collapse;\n",
       "  }\n",
       "  th, td {\n",
       "    padding: 5px;\n",
       "  }\n",
       "  th {\n",
       "    text-align: left;\n",
       "  }\n",
       "</style><div class='table-result-container'><table class='table-result'><thead style='background-color: white'><tr><th>id</th><th>phone_number</th><th>isdefault</th></tr></thead><tbody><tr><td>1001</td><td>9999</td><td>false</td></tr><tr><td>1001</td><td>1111</td><td>false</td></tr><tr><td>1001</td><td>2222</td><td>true</td></tr><tr><td>1003</td><td>3333</td><td>false</td></tr></tbody></table></div>"
      ]
     },
     "metadata": {
      "application/vnd.databricks.v1+output": {
       "addedWidgets": {},
       "aggData": [],
       "aggError": "",
       "aggOverflow": false,
       "aggSchema": [],
       "aggSeriesLimitReached": false,
       "aggType": "",
       "arguments": {},
       "columnCustomDisplayInfos": {},
       "data": [
        [
         1001,
         9999,
         "false"
        ],
        [
         1001,
         1111,
         "false"
        ],
        [
         1001,
         2222,
         "true"
        ],
        [
         1003,
         3333,
         "false"
        ]
       ],
       "datasetInfos": [],
       "dbfsResultPath": null,
       "isJsonSchema": true,
       "metadata": {},
       "overflow": false,
       "plotOptions": {
        "customPlotOptions": {},
        "displayType": "table",
        "pivotAggregation": null,
        "pivotColumns": null,
        "xColumns": null,
        "yColumns": null
       },
       "removedWidgets": [],
       "schema": [
        {
         "metadata": "{}",
         "name": "id",
         "type": "\"long\""
        },
        {
         "metadata": "{}",
         "name": "phone_number",
         "type": "\"long\""
        },
        {
         "metadata": "{}",
         "name": "isdefault",
         "type": "\"string\""
        }
       ],
       "type": "table"
      }
     },
     "output_type": "display_data"
    }
   ],
   "source": [
    "display(detail_df)"
   ]
  },
  {
   "cell_type": "code",
   "execution_count": 0,
   "metadata": {
    "application/vnd.databricks.v1+cell": {
     "cellMetadata": {
      "byteLimit": 2048000,
      "rowLimit": 10000
     },
     "inputWidgets": {},
     "nuid": "67410119-cc68-4abc-aef8-632bace13be2",
     "showTitle": false,
     "title": ""
    }
   },
   "outputs": [
    {
     "output_type": "stream",
     "name": "stdout",
     "output_type": "stream",
     "text": [
      "Out[6]: 0"
     ]
    }
   ],
   "source": [
    "joined_df = checkin_df.join(detail_df,checkin_df['employeeid']==detail_df['id'],'left')\n",
    "\n"
   ]
  },
  {
   "cell_type": "code",
   "execution_count": 0,
   "metadata": {
    "application/vnd.databricks.v1+cell": {
     "cellMetadata": {
      "byteLimit": 2048000,
      "rowLimit": 10000
     },
     "inputWidgets": {},
     "nuid": "4a26a1dd-241b-422b-bfdc-909515526c15",
     "showTitle": false,
     "title": ""
    }
   },
   "outputs": [
    {
     "output_type": "stream",
     "name": "stdout",
     "output_type": "stream",
     "text": [
      "+----------+-------------+----------------------+----+------------+---------+\n|employeeid|entry_details|timestamp_details     |id  |phone_number|isdefault|\n+----------+-------------+----------------------+----+------------+---------+\n|1000      |login        |2023-06-16 01:00:15.34|null|null        |null     |\n|1000      |login        |2023-06-16 02:00:15.34|null|null        |null     |\n|1000      |login        |2023-06-16 03:00:15.34|null|null        |null     |\n|1000      |logout       |2023-06-16 12:00:15.34|null|null        |null     |\n|1001      |login        |2023-06-16 01:00:15.34|1001|2222        |true     |\n|1001      |login        |2023-06-16 01:00:15.34|1001|1111        |false    |\n|1001      |login        |2023-06-16 01:00:15.34|1001|9999        |false    |\n|1001      |login        |2023-06-16 02:00:15.34|1001|2222        |true     |\n|1001      |login        |2023-06-16 02:00:15.34|1001|1111        |false    |\n|1001      |login        |2023-06-16 02:00:15.34|1001|9999        |false    |\n|1001      |login        |2023-06-16 03:00:15.34|1001|2222        |true     |\n|1001      |login        |2023-06-16 03:00:15.34|1001|1111        |false    |\n|1001      |login        |2023-06-16 03:00:15.34|1001|9999        |false    |\n|1001      |logout       |2023-06-16 12:00:15.34|1001|2222        |true     |\n|1001      |logout       |2023-06-16 12:00:15.34|1001|1111        |false    |\n|1001      |logout       |2023-06-16 12:00:15.34|1001|9999        |false    |\n+----------+-------------+----------------------+----+------------+---------+\n\n"
     ]
    }
   ],
   "source": [
    "joined_df.show(truncate=0)"
   ]
  },
  {
   "cell_type": "code",
   "execution_count": 0,
   "metadata": {
    "application/vnd.databricks.v1+cell": {
     "cellMetadata": {
      "byteLimit": 2048000,
      "rowLimit": 10000
     },
     "inputWidgets": {},
     "nuid": "bc75de29-feb9-4051-870e-6240c9693282",
     "showTitle": false,
     "title": ""
    }
   },
   "outputs": [],
   "source": [
    "#Fetch only  when isdefault is true \n",
    "joined_df=joined_df.filter(col(\"isdefault\")==\"true\")"
   ]
  },
  {
   "cell_type": "code",
   "execution_count": 0,
   "metadata": {
    "application/vnd.databricks.v1+cell": {
     "cellMetadata": {
      "byteLimit": 2048000,
      "rowLimit": 10000
     },
     "inputWidgets": {},
     "nuid": "43ece596-0a55-44d8-938b-e5a2fd48c398",
     "showTitle": false,
     "title": ""
    }
   },
   "outputs": [
    {
     "output_type": "display_data",
     "data": {
      "text/html": [
       "<style scoped>\n",
       "  .table-result-container {\n",
       "    max-height: 300px;\n",
       "    overflow: auto;\n",
       "  }\n",
       "  table, th, td {\n",
       "    border: 1px solid black;\n",
       "    border-collapse: collapse;\n",
       "  }\n",
       "  th, td {\n",
       "    padding: 5px;\n",
       "  }\n",
       "  th {\n",
       "    text-align: left;\n",
       "  }\n",
       "</style><div class='table-result-container'><table class='table-result'><thead style='background-color: white'><tr><th>employeeid</th><th>entry_details</th><th>timestamp_details</th><th>id</th><th>phone_number</th><th>isdefault</th></tr></thead><tbody><tr><td>1001</td><td>login</td><td>2023-06-16 01:00:15.34</td><td>1001</td><td>2222</td><td>true</td></tr><tr><td>1001</td><td>login</td><td>2023-06-16 02:00:15.34</td><td>1001</td><td>2222</td><td>true</td></tr><tr><td>1001</td><td>login</td><td>2023-06-16 03:00:15.34</td><td>1001</td><td>2222</td><td>true</td></tr><tr><td>1001</td><td>logout</td><td>2023-06-16 12:00:15.34</td><td>1001</td><td>2222</td><td>true</td></tr></tbody></table></div>"
      ]
     },
     "metadata": {
      "application/vnd.databricks.v1+output": {
       "addedWidgets": {},
       "aggData": [],
       "aggError": "",
       "aggOverflow": false,
       "aggSchema": [],
       "aggSeriesLimitReached": false,
       "aggType": "",
       "arguments": {},
       "columnCustomDisplayInfos": {},
       "data": [
        [
         1001,
         "login",
         "2023-06-16 01:00:15.34",
         1001,
         2222,
         "true"
        ],
        [
         1001,
         "login",
         "2023-06-16 02:00:15.34",
         1001,
         2222,
         "true"
        ],
        [
         1001,
         "login",
         "2023-06-16 03:00:15.34",
         1001,
         2222,
         "true"
        ],
        [
         1001,
         "logout",
         "2023-06-16 12:00:15.34",
         1001,
         2222,
         "true"
        ]
       ],
       "datasetInfos": [],
       "dbfsResultPath": null,
       "isJsonSchema": true,
       "metadata": {},
       "overflow": false,
       "plotOptions": {
        "customPlotOptions": {},
        "displayType": "table",
        "pivotAggregation": null,
        "pivotColumns": null,
        "xColumns": null,
        "yColumns": null
       },
       "removedWidgets": [],
       "schema": [
        {
         "metadata": "{}",
         "name": "employeeid",
         "type": "\"long\""
        },
        {
         "metadata": "{}",
         "name": "entry_details",
         "type": "\"string\""
        },
        {
         "metadata": "{}",
         "name": "timestamp_details",
         "type": "\"string\""
        },
        {
         "metadata": "{}",
         "name": "id",
         "type": "\"long\""
        },
        {
         "metadata": "{}",
         "name": "phone_number",
         "type": "\"long\""
        },
        {
         "metadata": "{}",
         "name": "isdefault",
         "type": "\"string\""
        }
       ],
       "type": "table"
      }
     },
     "output_type": "display_data"
    }
   ],
   "source": [
    "display(joined_df)"
   ]
  },
  {
   "cell_type": "code",
   "execution_count": 0,
   "metadata": {
    "application/vnd.databricks.v1+cell": {
     "cellMetadata": {
      "byteLimit": 2048000,
      "rowLimit": 10000
     },
     "inputWidgets": {},
     "nuid": "c2163fdc-802b-41fc-9e0d-9d73026d2498",
     "showTitle": false,
     "title": ""
    }
   },
   "outputs": [],
   "source": [
    "#calculate the total_entry \n",
    "total_entry=joined_df.groupBy(\"employeeid\").agg(count('*').alias(\"Total_Entry\"))"
   ]
  },
  {
   "cell_type": "code",
   "execution_count": 0,
   "metadata": {
    "application/vnd.databricks.v1+cell": {
     "cellMetadata": {
      "byteLimit": 2048000,
      "rowLimit": 10000
     },
     "inputWidgets": {},
     "nuid": "22616435-5737-44a7-abc3-b0a4648afbd4",
     "showTitle": false,
     "title": ""
    }
   },
   "outputs": [
    {
     "output_type": "display_data",
     "data": {
      "text/html": [
       "<style scoped>\n",
       "  .table-result-container {\n",
       "    max-height: 300px;\n",
       "    overflow: auto;\n",
       "  }\n",
       "  table, th, td {\n",
       "    border: 1px solid black;\n",
       "    border-collapse: collapse;\n",
       "  }\n",
       "  th, td {\n",
       "    padding: 5px;\n",
       "  }\n",
       "  th {\n",
       "    text-align: left;\n",
       "  }\n",
       "</style><div class='table-result-container'><table class='table-result'><thead style='background-color: white'><tr><th>employeeid</th><th>Total_Entry</th></tr></thead><tbody><tr><td>1001</td><td>4</td></tr></tbody></table></div>"
      ]
     },
     "metadata": {
      "application/vnd.databricks.v1+output": {
       "addedWidgets": {},
       "aggData": [],
       "aggError": "",
       "aggOverflow": false,
       "aggSchema": [],
       "aggSeriesLimitReached": false,
       "aggType": "",
       "arguments": {},
       "columnCustomDisplayInfos": {},
       "data": [
        [
         1001,
         4
        ]
       ],
       "datasetInfos": [],
       "dbfsResultPath": null,
       "isJsonSchema": true,
       "metadata": {},
       "overflow": false,
       "plotOptions": {
        "customPlotOptions": {},
        "displayType": "table",
        "pivotAggregation": null,
        "pivotColumns": null,
        "xColumns": null,
        "yColumns": null
       },
       "removedWidgets": [],
       "schema": [
        {
         "metadata": "{}",
         "name": "employeeid",
         "type": "\"long\""
        },
        {
         "metadata": "{}",
         "name": "Total_Entry",
         "type": "\"long\""
        }
       ],
       "type": "table"
      }
     },
     "output_type": "display_data"
    }
   ],
   "source": [
    "display(total_entry)"
   ]
  },
  {
   "cell_type": "code",
   "execution_count": 0,
   "metadata": {
    "application/vnd.databricks.v1+cell": {
     "cellMetadata": {
      "byteLimit": 2048000,
      "rowLimit": 10000
     },
     "inputWidgets": {},
     "nuid": "e06e669b-5a0c-4b8d-9133-ae0afaf47d24",
     "showTitle": false,
     "title": ""
    }
   },
   "outputs": [],
   "source": [
    "#total_login calculation\n",
    "total_login=joined_df.filter(col(\"entry_details\")==\"login\").groupBy(\"employeeid\").agg(count('*').alias(\"Total_Login_Entry\"))"
   ]
  },
  {
   "cell_type": "code",
   "execution_count": 0,
   "metadata": {
    "application/vnd.databricks.v1+cell": {
     "cellMetadata": {
      "byteLimit": 2048000,
      "rowLimit": 10000
     },
     "inputWidgets": {},
     "nuid": "dddd297c-02d4-456c-8a8a-04643ee91637",
     "showTitle": false,
     "title": ""
    }
   },
   "outputs": [],
   "source": [
    "#total_login calculation\n",
    "total_logout=joined_df.filter(col(\"entry_details\")==\"logout\").groupBy(\"employeeid\").agg(count('*').alias(\"Total_Logout_Entry\"))"
   ]
  },
  {
   "cell_type": "code",
   "execution_count": 0,
   "metadata": {
    "application/vnd.databricks.v1+cell": {
     "cellMetadata": {
      "byteLimit": 2048000,
      "rowLimit": 10000
     },
     "inputWidgets": {},
     "nuid": "1810a35c-26ea-4e76-8122-d3b604fb970a",
     "showTitle": false,
     "title": ""
    }
   },
   "outputs": [
    {
     "output_type": "display_data",
     "data": {
      "text/html": [
       "<style scoped>\n",
       "  .table-result-container {\n",
       "    max-height: 300px;\n",
       "    overflow: auto;\n",
       "  }\n",
       "  table, th, td {\n",
       "    border: 1px solid black;\n",
       "    border-collapse: collapse;\n",
       "  }\n",
       "  th, td {\n",
       "    padding: 5px;\n",
       "  }\n",
       "  th {\n",
       "    text-align: left;\n",
       "  }\n",
       "</style><div class='table-result-container'><table class='table-result'><thead style='background-color: white'><tr><th>employeeid</th><th>Total_Logout_Entry</th></tr></thead><tbody><tr><td>1001</td><td>1</td></tr></tbody></table></div>"
      ]
     },
     "metadata": {
      "application/vnd.databricks.v1+output": {
       "addedWidgets": {},
       "aggData": [],
       "aggError": "",
       "aggOverflow": false,
       "aggSchema": [],
       "aggSeriesLimitReached": false,
       "aggType": "",
       "arguments": {},
       "columnCustomDisplayInfos": {},
       "data": [
        [
         1001,
         1
        ]
       ],
       "datasetInfos": [],
       "dbfsResultPath": null,
       "isJsonSchema": true,
       "metadata": {},
       "overflow": false,
       "plotOptions": {
        "customPlotOptions": {},
        "displayType": "table",
        "pivotAggregation": null,
        "pivotColumns": null,
        "xColumns": null,
        "yColumns": null
       },
       "removedWidgets": [],
       "schema": [
        {
         "metadata": "{}",
         "name": "employeeid",
         "type": "\"long\""
        },
        {
         "metadata": "{}",
         "name": "Total_Logout_Entry",
         "type": "\"long\""
        }
       ],
       "type": "table"
      }
     },
     "output_type": "display_data"
    }
   ],
   "source": [
    "display(total_logout)"
   ]
  },
  {
   "cell_type": "code",
   "execution_count": 0,
   "metadata": {
    "application/vnd.databricks.v1+cell": {
     "cellMetadata": {
      "byteLimit": 2048000,
      "rowLimit": 10000
     },
     "inputWidgets": {},
     "nuid": "098c5cac-5fb6-4714-8570-1b6b15a709e3",
     "showTitle": false,
     "title": ""
    }
   },
   "outputs": [],
   "source": [
    "#Latest login details\n",
    "latest_login=joined_df.filter(col(\"entry_details\")==\"login\").groupBy(\"employeeid\").agg(min(\"timestamp_details\").alias(\"Latest_Login\"))\n",
    "\n",
    "#Latest Logout Details\n",
    "latest_logout=joined_df.filter(col(\"entry_details\")==\"logout\").groupBy(\"employeeid\").agg(max(\"timestamp_details\").alias(\"Latest_Logout\"))"
   ]
  },
  {
   "cell_type": "code",
   "execution_count": 0,
   "metadata": {
    "application/vnd.databricks.v1+cell": {
     "cellMetadata": {
      "byteLimit": 2048000,
      "rowLimit": 10000
     },
     "inputWidgets": {},
     "nuid": "91543163-e86e-4bb6-85fe-0c033fc62245",
     "showTitle": false,
     "title": ""
    }
   },
   "outputs": [
    {
     "output_type": "stream",
     "name": "stdout",
     "output_type": "stream",
     "text": [
      "+----------+----------------------+\n|employeeid|Latest_Logout         |\n+----------+----------------------+\n|1001      |2023-06-16 12:00:15.34|\n+----------+----------------------+\n\n"
     ]
    }
   ],
   "source": [
    "latest_logout.show(truncate=0)"
   ]
  },
  {
   "cell_type": "code",
   "execution_count": 0,
   "metadata": {
    "application/vnd.databricks.v1+cell": {
     "cellMetadata": {
      "byteLimit": 2048000,
      "rowLimit": 10000
     },
     "inputWidgets": {},
     "nuid": "e12c03b6-878a-4c45-997b-1964e985362a",
     "showTitle": false,
     "title": ""
    }
   },
   "outputs": [],
   "source": [
    "#Joining all the information to make a single data frame\n",
    "final_df=total_entry.join(total_login,total_entry[\"employeeid\"]==total_login[\"employeeid\"],\"inner\").select(total_entry[\"employeeid\"],\"Total_Entry\",\"Total_Login_Entry\")\n",
    "final_df=final_df.join(total_logout,final_df[\"employeeid\"]==total_logout[\"employeeid\"],\"inner\").select(final_df[\"employeeid\"],\"Total_Entry\",\"Total_Login_Entry\",\"Total_Logout_Entry\")\n",
    "final_df=final_df.join(latest_login,final_df[\"employeeid\"]==latest_login[\"employeeid\"],\"inner\").select(final_df[\"employeeid\"],\"Total_Entry\",\"Total_Login_Entry\",\"Total_Logout_Entry\",\"Latest_Login\")\n",
    "final_df=final_df.join(latest_logout,final_df[\"employeeid\"]==latest_logout[\"employeeid\"],\"inner\").select(final_df[\"employeeid\"],\"Total_Entry\",\"Total_Login_Entry\",\"Total_Logout_Entry\",\"Latest_Login\",\"Latest_Logout\")\n",
    "\n",
    "\n"
   ]
  },
  {
   "cell_type": "code",
   "execution_count": 0,
   "metadata": {
    "application/vnd.databricks.v1+cell": {
     "cellMetadata": {
      "byteLimit": 2048000,
      "rowLimit": 10000
     },
     "inputWidgets": {},
     "nuid": "2f76e9b6-8445-4274-b048-e97d9fc1a57b",
     "showTitle": false,
     "title": ""
    }
   },
   "outputs": [
    {
     "output_type": "stream",
     "name": "stdout",
     "output_type": "stream",
     "text": [
      "+----------+-----------+-----------------+------------------+--------------------+--------------------+\n|employeeid|Total_Entry|Total_Login_Entry|Total_Logout_Entry|        Latest_Login|       Latest_Logout|\n+----------+-----------+-----------------+------------------+--------------------+--------------------+\n|      1001|          4|                3|                 1|2023-06-16 01:00:...|2023-06-16 12:00:...|\n+----------+-----------+-----------------+------------------+--------------------+--------------------+\n\n"
     ]
    }
   ],
   "source": [
    "final_df.show()"
   ]
  },
  {
   "cell_type": "code",
   "execution_count": 0,
   "metadata": {
    "application/vnd.databricks.v1+cell": {
     "cellMetadata": {},
     "inputWidgets": {},
     "nuid": "6d78d517-e261-443a-b673-3b50cb0a4959",
     "showTitle": false,
     "title": ""
    }
   },
   "outputs": [],
   "source": []
  }
 ],
 "metadata": {
  "application/vnd.databricks.v1+notebook": {
   "dashboards": [],
   "environmentMetadata": null,
   "language": "python",
   "notebookMetadata": {
    "pythonIndentUnit": 4
   },
   "notebookName": "Paypal-Question",
   "widgets": {}
  }
 },
 "nbformat": 4,
 "nbformat_minor": 0
}
