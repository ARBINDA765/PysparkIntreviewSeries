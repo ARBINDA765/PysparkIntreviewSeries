{
 "cells": [
  {
   "cell_type": "markdown",
   "metadata": {
    "application/vnd.databricks.v1+cell": {
     "cellMetadata": {
      "byteLimit": 2048000,
      "rowLimit": 10000
     },
     "inputWidgets": {},
     "nuid": "854a35d2-2550-4454-a03e-effe81681497",
     "showTitle": false,
     "title": ""
    }
   },
   "source": [
    "You have a DataFrame containing a list of transactions for each user.\n",
    " Your task is to calculate the total amount spent by each user."
   ]
  },
  {
   "cell_type": "code",
   "execution_count": 0,
   "metadata": {
    "application/vnd.databricks.v1+cell": {
     "cellMetadata": {
      "byteLimit": 2048000,
      "rowLimit": 10000
     },
     "inputWidgets": {},
     "nuid": "c07d9453-2fff-487e-aa7a-1ebd99f320c3",
     "showTitle": false,
     "title": ""
    }
   },
   "outputs": [],
   "source": [
    "from pyspark.sql import SparkSession\n",
    "from pyspark.sql.functions import *\n",
    "from pyspark.sql.types import *\n",
    "from pyspark.sql.window import *\n",
    "\n"
   ]
  },
  {
   "cell_type": "code",
   "execution_count": 0,
   "metadata": {
    "application/vnd.databricks.v1+cell": {
     "cellMetadata": {
      "byteLimit": 2048000,
      "rowLimit": 10000
     },
     "inputWidgets": {},
     "nuid": "4d91e564-c69d-4e2b-b5db-d0f679ac4f67",
     "showTitle": false,
     "title": ""
    }
   },
   "outputs": [
    {
     "output_type": "stream",
     "name": "stdout",
     "output_type": "stream",
     "text": [
      "+-------+-----------+\n|user_id|total_spent|\n+-------+-----------+\n|      1|        105|\n|      2|         50|\n|      3|        200|\n+-------+-----------+\n\n"
     ]
    }
   ],
   "source": [
    "from pyspark.sql import SparkSession\n",
    "from pyspark.sql.functions import explode, col, sum\n",
    "\n",
    "# Initialize Spark session\n",
    "spark = SparkSession.builder.appName(\"TotalSpentByUser\").getOrCreate()\n",
    "\n",
    "# Sample data\n",
    "data = [\n",
    " (1, [{\"amount\": 45}, {\"amount\": 60}]), \n",
    " (2, [{\"amount\": 30}, {\"amount\": 20}]), \n",
    " (3, [{\"amount\": 120}, {\"amount\": 80}])\n",
    "]\n",
    "\n",
    "# Create DataFrame\n",
    "df = spark.createDataFrame(data, [\"user_id\", \"transactions\"])\n",
    "\n",
    "# Explode the transactions column to get individual amounts\n",
    "df_exploded = df.withColumn(\"transaction\", explode(col(\"transactions\")))\n",
    "\n",
    "\n",
    "# Extract the 'amount' field from the transactions\n",
    "df_with_amount = df_exploded.withColumn(\"amount\", col(\"transaction.amount\"))\n",
    "\n",
    "# Group by user_id and sum up the amounts\n",
    "df_result = df_with_amount.groupBy(\"user_id\").agg(sum(\"amount\").alias(\"total_spent\"))\n",
    "\n",
    "# Show the result\n",
    "df_result.show()"
   ]
  },
  {
   "cell_type": "code",
   "execution_count": 0,
   "metadata": {
    "application/vnd.databricks.v1+cell": {
     "cellMetadata": {},
     "inputWidgets": {},
     "nuid": "04416ab7-9177-4164-b779-78796089a7e9",
     "showTitle": false,
     "title": ""
    }
   },
   "outputs": [],
   "source": []
  }
 ],
 "metadata": {
  "application/vnd.databricks.v1+notebook": {
   "dashboards": [],
   "environmentMetadata": null,
   "language": "python",
   "notebookMetadata": {
    "pythonIndentUnit": 4
   },
   "notebookName": "Explode Function Question",
   "widgets": {}
  }
 },
 "nbformat": 4,
 "nbformat_minor": 0
}
