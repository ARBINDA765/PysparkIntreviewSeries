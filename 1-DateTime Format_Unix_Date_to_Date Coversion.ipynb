{
 "cells": [
  {
   "cell_type": "code",
   "execution_count": 0,
   "metadata": {
    "application/vnd.databricks.v1+cell": {
     "cellMetadata": {
      "byteLimit": 2048000,
      "rowLimit": 10000
     },
     "inputWidgets": {},
     "nuid": "8b6549c5-0d62-434c-b124-2a7b78c62405",
     "showTitle": false,
     "title": ""
    }
   },
   "outputs": [],
   "source": [
    "from pyspark.sql.functions import *\n",
    "from pyspark.sql.types import *\n",
    "spark.conf.set(\"spark.sql.legacy.timeParserPolicy\",\"LEGACY\")\n"
   ]
  },
  {
   "cell_type": "code",
   "execution_count": 0,
   "metadata": {
    "application/vnd.databricks.v1+cell": {
     "cellMetadata": {
      "byteLimit": 2048000,
      "rowLimit": 10000
     },
     "inputWidgets": {},
     "nuid": "f524b518-9d76-42ab-b759-d7294e03078c",
     "showTitle": false,
     "title": ""
    }
   },
   "outputs": [
    {
     "output_type": "stream",
     "name": "stdout",
     "output_type": "stream",
     "text": [
      "root\n |-- inp_col: string (nullable = true)\n\n+-------------------+\n|            inp_col|\n+-------------------+\n|2022/03/31 01:55 AM|\n|2022/03/30 01:15 AM|\n|2022/03/29 02:15 PM|\n|2022/04/01 04:15 PM|\n+-------------------+\n\nroot\n |-- inp_col: string (nullable = true)\n\n"
     ]
    }
   ],
   "source": [
    "list_data=[\n",
    "           [\"2022/03/31 01:55 AM\"],\n",
    "           [\"2022/03/30 01:15 AM\"],\n",
    "           [\"2022/03/29 02:15 PM\"],\n",
    "           [\"2022/04/01 04:15 PM\"],\n",
    "          ]\n",
    "list_schema=[\"inp_col\"]\n",
    "\n",
    "#Create DataFrame from the list \n",
    "df1=spark.createDataFrame(list_data,list_schema)\n",
    "\n",
    "df1.printSchema()\n",
    "\n",
    "df1.show()\n",
    "df1.printSchema()"
   ]
  },
  {
   "cell_type": "code",
   "execution_count": 0,
   "metadata": {
    "application/vnd.databricks.v1+cell": {
     "cellMetadata": {
      "byteLimit": 2048000,
      "rowLimit": 10000
     },
     "inputWidgets": {},
     "nuid": "e20b5ae0-6b63-4a69-b6f2-8ba54e88d08c",
     "showTitle": false,
     "title": ""
    }
   },
   "outputs": [
    {
     "output_type": "stream",
     "name": "stdout",
     "output_type": "stream",
     "text": [
      "root\n |-- inp_col: string (nullable = true)\n |-- date_p: date (nullable = true)\n |-- time: timestamp (nullable = true)\n\n"
     ]
    }
   ],
   "source": [
    "df2=df1.withColumn(\"date_p\",to_date(\"inp_col\",\"yyyy/MM/dd\"))\\\n",
    ".withColumn(\"time\",to_timestamp(\"inp_col\",\"yyyy/MM/dd hh:mm a\"))\n",
    "df2.printSchema()"
   ]
  },
  {
   "cell_type": "code",
   "execution_count": 0,
   "metadata": {
    "application/vnd.databricks.v1+cell": {
     "cellMetadata": {
      "byteLimit": 2048000,
      "rowLimit": 10000
     },
     "inputWidgets": {},
     "nuid": "9b8e8158-239f-40af-a69b-e9087215cf98",
     "showTitle": false,
     "title": ""
    }
   },
   "outputs": [],
   "source": [
    "#Get Month,Year,Day,Hour,Min,Quarter,WeekofYear\n",
    "df2=df2.withColumn(\"Year_P\",year(\"time\"))\\\n",
    "   .withColumn(\"Month_P\",month(\"time\"))\\\n",
    "    .withColumn(\"day\",dayofmonth(\"time\"))\\\n",
    "    .withColumn(\"hour_p\",hour(\"time\"))\\\n",
    "    .withColumn(\"Minute_P\",minute(\"time\"))\\\n",
    "    .withColumn(\"Quarter_P\",quarter(\"time\"))\\\n",
    "    .withColumn(\"week-of-year\",weekofyear(\"time\"))\n"
   ]
  },
  {
   "cell_type": "code",
   "execution_count": 0,
   "metadata": {
    "application/vnd.databricks.v1+cell": {
     "cellMetadata": {
      "byteLimit": 2048000,
      "rowLimit": 10000
     },
     "inputWidgets": {},
     "nuid": "914990ee-9604-4167-bd61-f4f84c4d610a",
     "showTitle": false,
     "title": ""
    }
   },
   "outputs": [
    {
     "output_type": "stream",
     "name": "stdout",
     "output_type": "stream",
     "text": [
      "+-------------------+----------+-------------------+------+-------+---+------+--------+---------+------------+-----------+---------+----------+\n|            inp_col|    date_p|               time|Year_P|Month_P|day|hour_p|Minute_P|Quarter_P|week-of-year|DAY_OF_WEEK|  DAYNAME|MONTH_NAME|\n+-------------------+----------+-------------------+------+-------+---+------+--------+---------+------------+-----------+---------+----------+\n|2022/03/31 01:55 AM|2022-03-31|2022-03-31 01:55:00|  2022|      3| 31|     1|      55|        1|          13|          5| Thursday|     March|\n|2022/03/30 01:15 AM|2022-03-30|2022-03-30 01:15:00|  2022|      3| 30|     1|      15|        1|          13|          4|Wednesday|     March|\n|2022/03/29 02:15 PM|2022-03-29|2022-03-29 14:15:00|  2022|      3| 29|    14|      15|        1|          13|          3|  Tuesday|     March|\n|2022/04/01 04:15 PM|2022-04-01|2022-04-01 16:15:00|  2022|      4|  1|    16|      15|        2|          13|          6|   Friday|     April|\n+-------------------+----------+-------------------+------+-------+---+------+--------+---------+------------+-----------+---------+----------+\n\n"
     ]
    }
   ],
   "source": [
    "#Get Month name ,Dayname in pyspark\n",
    "df3=df2.withColumn(\"DAY_OF_WEEK\",dayofweek(\"time\"))\\\n",
    ".withColumn(\"DAYNAME\",date_format(\"time\",\"EEEE\"))\\\n",
    "    .withColumn(\"MONTH_NAME\",date_format(\"time\",\"LLLL\"))\n",
    "df3.show()"
   ]
  },
  {
   "cell_type": "code",
   "execution_count": 0,
   "metadata": {
    "application/vnd.databricks.v1+cell": {
     "cellMetadata": {
      "byteLimit": 2048000,
      "rowLimit": 10000
     },
     "inputWidgets": {},
     "nuid": "37df69a7-99f5-4084-854e-ab739918c799",
     "showTitle": false,
     "title": ""
    }
   },
   "outputs": [
    {
     "output_type": "stream",
     "name": "stdout",
     "output_type": "stream",
     "text": [
      "+-------------------+----------+-------------------+------+-------+---+------+--------+---------+------------+-----------+---------+----------+-------------------+\n|inp_col            |date_p    |time               |Year_P|Month_P|day|hour_p|Minute_P|Quarter_P|week-of-year|DAY_OF_WEEK|DAYNAME  |MONTH_NAME|datetrunc_week     |\n+-------------------+----------+-------------------+------+-------+---+------+--------+---------+------------+-----------+---------+----------+-------------------+\n|2022/03/31 01:55 AM|2022-03-31|2022-03-31 01:55:00|2022  |3      |31 |1     |55      |1        |13          |5          |Thursday |March     |2022-03-28 00:00:00|\n|2022/03/30 01:15 AM|2022-03-30|2022-03-30 01:15:00|2022  |3      |30 |1     |15      |1        |13          |4          |Wednesday|March     |2022-03-28 00:00:00|\n|2022/03/29 02:15 PM|2022-03-29|2022-03-29 14:15:00|2022  |3      |29 |14    |15      |1        |13          |3          |Tuesday  |March     |2022-03-28 00:00:00|\n|2022/04/01 04:15 PM|2022-04-01|2022-04-01 16:15:00|2022  |4      |1  |16    |15      |2        |13          |6          |Friday   |April     |2022-03-28 00:00:00|\n+-------------------+----------+-------------------+------+-------+---+------+--------+---------+------------+-----------+---------+----------+-------------------+\n\n"
     ]
    }
   ],
   "source": [
    "\n",
    "#Get Todays date\n",
    "df4=df3.withColumn(\"cur_date\",current_date()) \n",
    "\n",
    "#Get Date difference\n",
    "df4=df4.withColumn(\"datedif\",datediff(\"date_p\",\"cur_date\"))\n",
    "\n",
    "#Add N days to date\n",
    "df4=df3.withColumn(\"dateadd\",date_add(\"date_p\",5))\n",
    "\n",
    "#Add N month to date\n",
    "df4=df3.withColumn(\"monthadd\",add_months(\"date_p\",2))\n",
    "\n",
    "# Add 2 quarters (6 months) to a date\n",
    "df4=df3.withColumn(\"quartedadd\",add_months(\"date_p\",2*3))\n",
    "\n",
    "#Subtract N days to date\n",
    "df4=df3.withColumn(\"datesub\",date_sub(\"date_p\",5))\n",
    "# Subtract 3 years from a date\n",
    "df4=df3.withColumn(\"Substrsct_Year\",date_add(\"date_p\",-365*3))\n",
    "\n",
    "#date truncate\n",
    "df4=df3.withColumn(\"datetrnc\",date_trunc('mm',\"time\"))\n",
    "\n",
    "#date_trunc to year\n",
    "# Truncate timestamp to year\n",
    "df4=df3.withColumn(\"datetrunc_year\",date_trunc(\"year\",\"date_p\"))\n",
    "\n",
    "#truncate to week,quarter\n",
    "df4=df3.withColumn(\"datetrunc_quarter\",date_trunc(\"quarter\",\"date_p\"))\n",
    "\n",
    "#truncate to week,quarter\n",
    "df4=df3.withColumn(\"datetrunc_week\",date_trunc(\"week\",\"time\"))\n",
    "\n",
    "   \n",
    "df4.show(truncate=0)"
   ]
  },
  {
   "cell_type": "code",
   "execution_count": 0,
   "metadata": {
    "application/vnd.databricks.v1+cell": {
     "cellMetadata": {
      "byteLimit": 2048000,
      "rowLimit": 10000
     },
     "inputWidgets": {},
     "nuid": "f96491a7-8b65-4513-a3ed-06e1d43bce88",
     "showTitle": false,
     "title": ""
    }
   },
   "outputs": [
    {
     "output_type": "stream",
     "name": "stdout",
     "output_type": "stream",
     "text": [
      "root\n |-- inp_col: string (nullable = true)\n |-- date_p: date (nullable = true)\n |-- time: timestamp (nullable = true)\n |-- Year_P: integer (nullable = true)\n |-- Month_P: integer (nullable = true)\n |-- day: integer (nullable = true)\n |-- hour_p: integer (nullable = true)\n |-- Minute_P: integer (nullable = true)\n |-- Quarter_P: integer (nullable = true)\n |-- week-of-year: integer (nullable = true)\n |-- DAY_OF_WEEK: integer (nullable = true)\n |-- DAYNAME: string (nullable = true)\n |-- MONTH_NAME: string (nullable = true)\n |-- datetrunc_week: timestamp (nullable = true)\n\n"
     ]
    }
   ],
   "source": [
    "df4.printSchema()"
   ]
  },
  {
   "cell_type": "code",
   "execution_count": 0,
   "metadata": {
    "application/vnd.databricks.v1+cell": {
     "cellMetadata": {
      "byteLimit": 2048000,
      "rowLimit": 10000
     },
     "inputWidgets": {},
     "nuid": "4ef19590-abb1-4e44-bc15-948b1a1a004e",
     "showTitle": false,
     "title": ""
    }
   },
   "outputs": [],
   "source": [
    "# Import pandas module\n",
    "import pandas as pd\n",
    "\n",
    "# Set the maximum number of columns to display\n",
    "pd.set_option('display.max_columns', None)\n"
   ]
  },
  {
   "cell_type": "code",
   "execution_count": 0,
   "metadata": {
    "application/vnd.databricks.v1+cell": {
     "cellMetadata": {
      "byteLimit": 2048000,
      "rowLimit": 10000
     },
     "inputWidgets": {},
     "nuid": "899e5557-e57e-4d88-8980-08f036ff8d04",
     "showTitle": false,
     "title": ""
    }
   },
   "outputs": [
    {
     "output_type": "display_data",
     "data": {
      "text/html": [
       "<style scoped>\n",
       "  .table-result-container {\n",
       "    max-height: 300px;\n",
       "    overflow: auto;\n",
       "  }\n",
       "  table, th, td {\n",
       "    border: 1px solid black;\n",
       "    border-collapse: collapse;\n",
       "  }\n",
       "  th, td {\n",
       "    padding: 5px;\n",
       "  }\n",
       "  th {\n",
       "    text-align: left;\n",
       "  }\n",
       "</style><div class='table-result-container'><table class='table-result'><thead style='background-color: white'><tr><th>RechargeId</th><th>RechargeDate</th><th>Validity</th></tr></thead><tbody><tr><td>R20165</td><td>20230111</td><td>1</td></tr><tr><td>R20166</td><td>20231012</td><td>1</td></tr><tr><td>R20167</td><td>20230413</td><td>1</td></tr><tr><td>R20168</td><td>20230314</td><td>1</td></tr><tr><td>R20169</td><td>20230215</td><td>1</td></tr></tbody></table></div>"
      ]
     },
     "metadata": {
      "application/vnd.databricks.v1+output": {
       "addedWidgets": {},
       "aggData": [],
       "aggError": "",
       "aggOverflow": false,
       "aggSchema": [],
       "aggSeriesLimitReached": false,
       "aggType": "",
       "arguments": {},
       "columnCustomDisplayInfos": {},
       "data": [
        [
         "R20165",
         20230111,
         1
        ],
        [
         "R20166",
         20231012,
         1
        ],
        [
         "R20167",
         20230413,
         1
        ],
        [
         "R20168",
         20230314,
         1
        ],
        [
         "R20169",
         20230215,
         1
        ]
       ],
       "datasetInfos": [],
       "dbfsResultPath": null,
       "isJsonSchema": true,
       "metadata": {},
       "overflow": false,
       "plotOptions": {
        "customPlotOptions": {},
        "displayType": "table",
        "pivotAggregation": null,
        "pivotColumns": null,
        "xColumns": null,
        "yColumns": null
       },
       "removedWidgets": [],
       "schema": [
        {
         "metadata": "{}",
         "name": "RechargeId",
         "type": "\"string\""
        },
        {
         "metadata": "{}",
         "name": "RechargeDate",
         "type": "\"long\""
        },
        {
         "metadata": "{}",
         "name": "Validity",
         "type": "\"long\""
        }
       ],
       "type": "table"
      }
     },
     "output_type": "display_data"
    },
    {
     "output_type": "stream",
     "name": "stdout",
     "output_type": "stream",
     "text": [
      "root\n |-- RechargeId: string (nullable = true)\n |-- RechargeDate: long (nullable = true)\n |-- Validity: long (nullable = true)\n\n"
     ]
    }
   ],
   "source": [
    "data_unix=[\n",
    "    (\"R20165\",20230111,1),\n",
    "    (\"R20166\",20231012,1),\n",
    "    (\"R20167\",20230413,1),\n",
    "    (\"R20168\",20230314,1),\n",
    "    (\"R20169\",20230215,1)]\n",
    "schema1=[\"RechargeId\",\"RechargeDate\",\"Validity\"]\n",
    "df_unix=spark.createDataFrame(data_unix,schema1)\n",
    "display(df_unix)\n",
    "display(df_unix.printSchema())"
   ]
  },
  {
   "cell_type": "code",
   "execution_count": 0,
   "metadata": {
    "application/vnd.databricks.v1+cell": {
     "cellMetadata": {
      "byteLimit": 2048000,
      "rowLimit": 10000
     },
     "inputWidgets": {},
     "nuid": "f1a9dd19-7698-483e-86aa-fb3280b16342",
     "showTitle": false,
     "title": ""
    }
   },
   "outputs": [],
   "source": [
    "var_hold=to_date(col(\"RechargeDate\").cast(\"string\"),\"yyyyMMdd\")\n",
    "df_unix=df_unix.withColumn(\"Recharge_Date_Unix\",var_hold)\n",
    "df_unix=df_unix.select(\"RechargeId\",\"RechargeDate\",\"Recharge_Date_Unix\",col(\"Validity\").cast(\"integer\"))\n",
    "\n",
    "from pyspark.sql.functions import col\n",
    "\n",
    "# Assuming 'column_name' is the name of the column you want to convert\n",
    "#df = df.withColumn(\"column_name\", col(\"column_name\").cast(\"string\"))\n",
    "## Assuming 'column_name' is the name of the column you want to convert\n",
    "#df = df.withColumn(\"column_name\", col(\"column_name\").cast(\"long\"))\n",
    "\n",
    "\n",
    "\n"
   ]
  },
  {
   "cell_type": "code",
   "execution_count": 0,
   "metadata": {
    "application/vnd.databricks.v1+cell": {
     "cellMetadata": {
      "byteLimit": 2048000,
      "rowLimit": 10000
     },
     "inputWidgets": {},
     "nuid": "1b57f08b-5f25-4d64-9586-8e21eb2dcad1",
     "showTitle": false,
     "title": ""
    }
   },
   "outputs": [],
   "source": [
    "df_unix=df_unix.withColumn(\"Validity_end\",date_add(\"Recharge_Date_Unix\",\"Validity\"))"
   ]
  },
  {
   "cell_type": "code",
   "execution_count": 0,
   "metadata": {
    "application/vnd.databricks.v1+cell": {
     "cellMetadata": {
      "byteLimit": 2048000,
      "rowLimit": 10000
     },
     "inputWidgets": {},
     "nuid": "969611d8-5ab2-4d9f-870b-e20ee18f98df",
     "showTitle": false,
     "title": ""
    }
   },
   "outputs": [
    {
     "output_type": "stream",
     "name": "stdout",
     "output_type": "stream",
     "text": [
      "root\n |-- RechargeId: string (nullable = true)\n |-- RechargeDate: long (nullable = true)\n |-- Recharge_Date_Unix: date (nullable = true)\n |-- Validity: integer (nullable = true)\n |-- Validity_end: date (nullable = true)\n\n"
     ]
    }
   ],
   "source": [
    "df_unix.printSchema()"
   ]
  },
  {
   "cell_type": "code",
   "execution_count": 0,
   "metadata": {
    "application/vnd.databricks.v1+cell": {
     "cellMetadata": {
      "byteLimit": 2048000,
      "rowLimit": 10000
     },
     "inputWidgets": {},
     "nuid": "a3608f78-e150-43b5-9e23-0c65434e8c38",
     "showTitle": false,
     "title": ""
    }
   },
   "outputs": [
    {
     "output_type": "stream",
     "name": "stdout",
     "output_type": "stream",
     "text": [
      "+----------+------------+------------------+--------+------------+\n|RechargeId|RechargeDate|Recharge_Date_Unix|Validity|Validity_end|\n+----------+------------+------------------+--------+------------+\n|    R20165|    20230111|        2023-01-11|       1|  2023-01-12|\n|    R20166|    20231012|        2023-10-12|       1|  2023-10-13|\n|    R20167|    20230413|        2023-04-13|       1|  2023-04-14|\n|    R20168|    20230314|        2023-03-14|       1|  2023-03-15|\n|    R20169|    20230215|        2023-02-15|       1|  2023-02-16|\n+----------+------------+------------------+--------+------------+\n\n"
     ]
    }
   ],
   "source": [
    "df_unix.show()"
   ]
  },
  {
   "cell_type": "code",
   "execution_count": 0,
   "metadata": {
    "application/vnd.databricks.v1+cell": {
     "cellMetadata": {
      "byteLimit": 2048000,
      "rowLimit": 10000
     },
     "inputWidgets": {},
     "nuid": "7ebe14b2-ccee-4a64-97e4-67976dab0c5c",
     "showTitle": false,
     "title": ""
    }
   },
   "outputs": [],
   "source": []
  }
 ],
 "metadata": {
  "application/vnd.databricks.v1+notebook": {
   "dashboards": [],
   "language": "python",
   "notebookMetadata": {
    "pythonIndentUnit": 4
   },
   "notebookName": "10-DateTime Format_Unix_Date_to_Date Coversion",
   "widgets": {}
  }
 },
 "nbformat": 4,
 "nbformat_minor": 0
}
