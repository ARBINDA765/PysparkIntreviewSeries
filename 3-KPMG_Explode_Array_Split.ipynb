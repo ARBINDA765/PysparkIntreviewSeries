{
 "cells": [
  {
   "cell_type": "code",
   "execution_count": 0,
   "metadata": {
    "application/vnd.databricks.v1+cell": {
     "cellMetadata": {},
     "inputWidgets": {},
     "nuid": "3a78d8a8-880b-4d0c-b377-34c8a6d81d59",
     "showTitle": false,
     "title": ""
    }
   },
   "outputs": [],
   "source": [
    "''' KPMG Intreview Question 1'''\n"
   ]
  },
  {
   "cell_type": "code",
   "execution_count": 0,
   "metadata": {
    "application/vnd.databricks.v1+cell": {
     "cellMetadata": {
      "byteLimit": 2048000,
      "rowLimit": 10000
     },
     "inputWidgets": {},
     "nuid": "68d79060-d175-4d47-977f-8e7a65da4878",
     "showTitle": false,
     "title": ""
    },
    "jupyter": {
     "outputs_hidden": true
    }
   },
   "outputs": [],
   "source": [
    "from pyspark.sql.functions import *\n",
    "from pyspark.sql.types import *\n"
   ]
  },
  {
   "cell_type": "code",
   "execution_count": 0,
   "metadata": {
    "application/vnd.databricks.v1+cell": {
     "cellMetadata": {
      "byteLimit": 2048000,
      "rowLimit": 10000
     },
     "inputWidgets": {},
     "nuid": "b2d76f11-a83f-4e20-a49a-5ffc55cab481",
     "showTitle": false,
     "title": ""
    }
   },
   "outputs": [
    {
     "output_type": "stream",
     "name": "stdout",
     "output_type": "stream",
     "text": [
      "+--------+------------------+\n|Name    |Sports            |\n+--------+------------------+\n|Arabinda|Cricket,Badmintaon|\n|John    |Tennis,Football   |\n|Sony    |Basketball,Running|\n|Patricks|null              |\n+--------+------------------+\n\n"
     ]
    }
   ],
   "source": [
    "#Create a dataframe\n",
    "data=[('Arabinda','Cricket,Badmintaon'),('John','Tennis,Football'),('Sony','Basketball,Running'),('Patricks',None)]\n",
    "columns=[\"Name\",\"Sports\"]\n",
    "df=spark.createDataFrame(data=data,schema=columns)\n",
    "df.show(truncate=False)"
   ]
  },
  {
   "cell_type": "code",
   "execution_count": 0,
   "metadata": {
    "application/vnd.databricks.v1+cell": {
     "cellMetadata": {
      "byteLimit": 2048000,
      "rowLimit": 10000
     },
     "inputWidgets": {},
     "nuid": "aeab43c5-c592-4a65-b831-2198f1740596",
     "showTitle": false,
     "title": ""
    }
   },
   "outputs": [
    {
     "output_type": "stream",
     "name": "stdout",
     "output_type": "stream",
     "text": [
      "+--------+---------------------+\n|Name    |Sports               |\n+--------+---------------------+\n|Arabinda|[Cricket, Badmintaon]|\n|John    |[Tennis, Football]   |\n|Sony    |[Basketball, Running]|\n|Patricks|null                 |\n+--------+---------------------+\n\n"
     ]
    }
   ],
   "source": [
    "#Lets check after the split\n",
    "df.select(col(\"Name\"),split(col(\"Sports\"),',').alias(\"Sports\")).show(truncate=False)"
   ]
  },
  {
   "cell_type": "code",
   "execution_count": 0,
   "metadata": {
    "application/vnd.databricks.v1+cell": {
     "cellMetadata": {
      "byteLimit": 2048000,
      "rowLimit": 10000
     },
     "inputWidgets": {},
     "nuid": "ce1675e2-96c3-40d4-826e-c3158cc21650",
     "showTitle": false,
     "title": ""
    }
   },
   "outputs": [
    {
     "output_type": "stream",
     "name": "stdout",
     "output_type": "stream",
     "text": [
      "root\n |-- Name: string (nullable = true)\n |-- Sports: array (nullable = true)\n |    |-- element: string (containsNull = false)\n\n"
     ]
    }
   ],
   "source": [
    "#Lets check the schema\n",
    "#\n",
    "df.select(col(\"Name\"),split(col(\"Sports\"),',').alias(\"Sports\")).printSchema()"
   ]
  },
  {
   "cell_type": "code",
   "execution_count": 0,
   "metadata": {
    "application/vnd.databricks.v1+cell": {
     "cellMetadata": {
      "byteLimit": 2048000,
      "rowLimit": 10000
     },
     "inputWidgets": {},
     "nuid": "1d058f07-9039-4487-b7c9-61f52883ef37",
     "showTitle": false,
     "title": ""
    }
   },
   "outputs": [
    {
     "output_type": "stream",
     "name": "stdout",
     "output_type": "stream",
     "text": [
      "+--------+-------------+\n|Name    |Sport_New_Col|\n+--------+-------------+\n|Arabinda|Cricket      |\n|Arabinda|Badmintaon   |\n|John    |Tennis       |\n|John    |Football     |\n|Sony    |Basketball   |\n|Sony    |Running      |\n|Patricks|null         |\n+--------+-------------+\n\n"
     ]
    }
   ],
   "source": [
    "df.select(col(\"Name\"),explode_outer(split(col(\"Sports\"),',').alias(\"Sports\")).alias(\"Sport_New_Col\")).show(truncate=False)"
   ]
  },
  {
   "cell_type": "code",
   "execution_count": 0,
   "metadata": {
    "application/vnd.databricks.v1+cell": {
     "cellMetadata": {
      "byteLimit": 2048000,
      "rowLimit": 10000
     },
     "inputWidgets": {},
     "nuid": "faa35e9a-0223-4b43-81a9-7699891c9b65",
     "showTitle": false,
     "title": ""
    }
   },
   "outputs": [
    {
     "output_type": "stream",
     "name": "stdout",
     "output_type": "stream",
     "text": [
      "root\n |-- Name: string (nullable = true)\n |-- split(Sports, ,, -1): array (nullable = true)\n |    |-- element: string (containsNull = false)\n\n"
     ]
    }
   ],
   "source": []
  },
  {
   "cell_type": "code",
   "execution_count": 0,
   "metadata": {
    "application/vnd.databricks.v1+cell": {
     "cellMetadata": {},
     "inputWidgets": {},
     "nuid": "b3f68caf-eea5-4f81-abe3-47a8d906eece",
     "showTitle": false,
     "title": ""
    }
   },
   "outputs": [],
   "source": []
  }
 ],
 "metadata": {
  "application/vnd.databricks.v1+notebook": {
   "dashboards": [],
   "language": "python",
   "notebookMetadata": {
    "pythonIndentUnit": 4
   },
   "notebookName": "3-KPMG_Explode_Array_Split",
   "widgets": {}
  }
 },
 "nbformat": 4,
 "nbformat_minor": 0
}
