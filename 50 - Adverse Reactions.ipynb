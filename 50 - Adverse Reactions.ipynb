{
 "cells": [
  {
   "cell_type": "markdown",
   "metadata": {
    "application/vnd.databricks.v1+cell": {
     "cellMetadata": {},
     "inputWidgets": {},
     "nuid": "5b253710-d67d-4f41-a505-38853f0645fc",
     "showTitle": false,
     "title": ""
    }
   },
   "source": [
    "In the field of pharmacovigilance, it's crucial to monitor and assess adverse reactions that patients may experience after taking certain medications. Adverse reactions, also known as side effects, can range from mild to severe and can impact the safety and efficacy of a medication.\n",
    "\n",
    "For each medication, count the number of adverse reactions reported within the first 30 days of the prescription being issued. Assume that the prescription date in the Prescriptions table represents the start date of the medication usage, display the output in ascending order of medication name.\n"
   ]
  },
  {
   "cell_type": "code",
   "execution_count": 0,
   "metadata": {
    "application/vnd.databricks.v1+cell": {
     "cellMetadata": {
      "byteLimit": 2048000,
      "rowLimit": 10000
     },
     "inputWidgets": {},
     "nuid": "758b21b7-8176-487d-a5d9-9faa649b8317",
     "showTitle": false,
     "title": ""
    }
   },
   "outputs": [],
   "source": [
    "from pyspark.sql import SparkSession\n",
    "from pyspark.sql.types import StructType, StructField, IntegerType, StringType, DateType\n",
    "from pyspark.sql.functions import *\n",
    "\n",
    "# Initialize Spark session\n",
    "spark = SparkSession.builder.appName(\"HealthcareData\").getOrCreate()\n",
    "\n",
    "# Define schema for patients\n",
    "patients_schema = StructType([\n",
    "    StructField(\"patient_id\", IntegerType(), True),\n",
    "    StructField(\"name\", StringType(), True),\n",
    "    StructField(\"age\", IntegerType(), True),\n",
    "    StructField(\"gender\", StringType(), True)\n",
    "])\n",
    "\n",
    "# Data for patients\n",
    "patients_data = [\n",
    "    (1, \"John Doe\", 35, \"Male\"),\n",
    "    (2, \"Jane Smith\", 45, \"Female\"),\n",
    "    (3, \"Alice Johnson\", 25, \"Female\")\n",
    "]\n",
    "\n",
    "# Create DataFrame for patients\n",
    "patients_df = spark.createDataFrame(patients_data, schema=patients_schema)\n",
    "\n",
    "# Define schema for medications\n",
    "medications_schema = StructType([\n",
    "    StructField(\"medication_id\", IntegerType(), True),\n",
    "    StructField(\"medication_name\", StringType(), True),\n",
    "    StructField(\"manufacturer\", StringType(), True)\n",
    "])\n",
    "\n",
    "# Data for medications\n",
    "medications_data = [\n",
    "    (1, \"Aspirin\", \"Pfizer\"),\n",
    "    (2, \"Tylenol\", \"Johnson & Johnson\"),\n",
    "    (3, \"Lipitor\", \"Pfizer\")\n",
    "]\n",
    "\n",
    "# Create DataFrame for medications\n",
    "medications_df = spark.createDataFrame(medications_data, schema=medications_schema)\n",
    "\n",
    "# Define schema for prescriptions\n",
    "prescriptions_schema = StructType([\n",
    "    StructField(\"prescription_id\", IntegerType(), True),\n",
    "    StructField(\"patient_id\", IntegerType(), True),\n",
    "    StructField(\"medication_id\", IntegerType(), True),\n",
    "    StructField(\"prescription_date\", StringType(), True)\n",
    "])\n",
    "\n",
    "# Data for prescriptions\n",
    "prescriptions_data = [\n",
    "    (1, 1, 1, \"2023-01-01\"),\n",
    "    (2, 1, 2, \"2023-02-15\"),\n",
    "    (3, 2, 1, \"2023-03-10\"),\n",
    "    (4, 3, 3, \"2023-04-20\")\n",
    "]\n",
    "\n",
    "# Create DataFrame for prescriptions\n",
    "prescriptions_df = spark.createDataFrame(prescriptions_data, schema=prescriptions_schema)\n",
    "\n",
    "# Define schema for adverse reactions\n",
    "adverse_reactions_schema = StructType([\n",
    "    StructField(\"reaction_id\", IntegerType(), True),\n",
    "    StructField(\"patient_id\", IntegerType(), True),\n",
    "    StructField(\"reaction_description\", StringType(), True),\n",
    "    StructField(\"reaction_date\", StringType(), True)\n",
    "])\n",
    "\n",
    "# Data for adverse reactions\n",
    "adverse_reactions_data = [\n",
    "    (1, 1, \"Nausea\", \"2023-01-05\"),\n",
    "    (2, 2, \"Headache\", \"2023-03-20\"),\n",
    "    (3, 3, \"Dizziness\", \"2023-05-01\"),\n",
    "    (4, 1, \"Rash\", \"2023-01-20\"),\n",
    "    (5, 2, \"Nausea\", \"2023-04-05\")\n",
    "]\n",
    "\n",
    "# Create DataFrame for adverse reactions\n",
    "adverse_reactions_df = spark.createDataFrame(adverse_reactions_data, schema=adverse_reactions_schema)\n",
    "\n",
    "# Show DataFrames\n",
    "#patients_df.show()\n",
    "##medications_df.show()\n",
    "#prescriptions_df.show()\n",
    "#adverse_reactions_df.show()\n",
    "\n",
    "\n"
   ]
  },
  {
   "cell_type": "code",
   "execution_count": 0,
   "metadata": {
    "application/vnd.databricks.v1+cell": {
     "cellMetadata": {
      "byteLimit": 2048000,
      "rowLimit": 10000
     },
     "inputWidgets": {},
     "nuid": "982f7ee1-3eff-4237-b716-64abe6b25190",
     "showTitle": false,
     "title": ""
    }
   },
   "outputs": [
    {
     "output_type": "stream",
     "name": "stdout",
     "output_type": "stream",
     "text": [
      "+---------------+-----------------+---------------------+\n|medication_name|     manufacturer|num_adverse_reactions|\n+---------------+-----------------+---------------------+\n|        Aspirin|           Pfizer|                    4|\n|        Lipitor|           Pfizer|                    1|\n|        Tylenol|Johnson & Johnson|                    0|\n+---------------+-----------------+---------------------+\n\n"
     ]
    }
   ],
   "source": [
    "\n",
    "\n",
    "# Convert from string to Date data type for  prescription_date and reaction_date \n",
    "prescriptions_df = prescriptions_df.withColumn(\"prescription_date\", to_date(col(\"prescription_date\"), \"yyyy-MM-dd\"))\n",
    "adverse_reactions_df = adverse_reactions_df.withColumn(\"reaction_date\", to_date(col(\"reaction_date\"), \"yyyy-MM-dd\"))\n",
    "\n",
    "# Join medications and prescriptions\n",
    "df_join = medications_df.join(prescriptions_df, medications_df.medication_id == prescriptions_df.medication_id, how=\"left\")\n",
    "\n",
    "# Join the resulting DataFrame with adverse_reactions\n",
    "df_join_1 = df_join.join(\n",
    "    adverse_reactions_df,\n",
    "    (df_join.patient_id == adverse_reactions_df.patient_id) &\n",
    "    (adverse_reactions_df.reaction_date >= df_join.prescription_date) &\n",
    "    (adverse_reactions_df.reaction_date < date_add(df_join.prescription_date, 30)),\n",
    "    how=\"left\"\n",
    ").dropDuplicates([\"medication_name\", \"manufacturer\", \"reaction_id\"])\n",
    "\n",
    "# Group by medication_name and manufacturer, and count the number of adverse reactions\n",
    "result_df = df_join_1.groupBy(\"medication_name\", \"manufacturer\").agg(count(col(\"reaction_id\")).alias(\"num_adverse_reactions\"))\n",
    "\n",
    "# Display the result in ascending order of medication_name\n",
    "result_df.orderBy(\"medication_name\").show()\n"
   ]
  },
  {
   "cell_type": "code",
   "execution_count": 0,
   "metadata": {
    "application/vnd.databricks.v1+cell": {
     "cellMetadata": {},
     "inputWidgets": {},
     "nuid": "89913fec-bfd0-48f2-a074-5426b35ab3a5",
     "showTitle": false,
     "title": ""
    }
   },
   "outputs": [],
   "source": []
  }
 ],
 "metadata": {
  "application/vnd.databricks.v1+notebook": {
   "dashboards": [],
   "environmentMetadata": null,
   "language": "python",
   "notebookMetadata": {
    "pythonIndentUnit": 4
   },
   "notebookName": "50 - Adverse Reactions",
   "widgets": {}
  }
 },
 "nbformat": 4,
 "nbformat_minor": 0
}
