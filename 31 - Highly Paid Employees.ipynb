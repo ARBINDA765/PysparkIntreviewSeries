{
 "cells": [
  {
   "cell_type": "markdown",
   "metadata": {
    "application/vnd.databricks.v1+cell": {
     "cellMetadata": {},
     "inputWidgets": {},
     "nuid": "1d0679c7-1d1e-494f-88a7-ec89d53b3830",
     "showTitle": false,
     "title": ""
    }
   },
   "source": [
    "You are given the data of employees along with their salary and department. Write an SQL to find list of employees who have salary greater than average employee salary of the company.  However, while calculating the company average salary to compare with an employee salary do not consider salaries of that employee's department, display the output in ascending order of employee ids."
   ]
  },
  {
   "cell_type": "code",
   "execution_count": 0,
   "metadata": {
    "application/vnd.databricks.v1+cell": {
     "cellMetadata": {
      "byteLimit": 2048000,
      "rowLimit": 10000
     },
     "inputWidgets": {},
     "nuid": "3752b98f-db2b-4b9e-b8cc-e6ff6bd54998",
     "showTitle": false,
     "title": ""
    }
   },
   "outputs": [
    {
     "output_type": "stream",
     "name": "stdout",
     "output_type": "stream",
     "text": [
      "+------+------+-----------+\n|emp_id|salary| department|\n+------+------+-----------+\n|   100| 40000|  Analytics|\n|   101| 30000|  Analytics|\n|   102| 50000|  Analytics|\n|   103| 45000|Engineering|\n|   104| 48000|Engineering|\n|   105| 51000|Engineering|\n|   106| 46000|    Science|\n|   107| 38000|    Science|\n|   108| 37000|    Science|\n|   109| 42000|  Analytics|\n|   110| 55000|Engineering|\n|   111| 39000|    Science|\n|   112| 47000|  Analytics|\n|   113| 43000|Engineering|\n|   114| 36000|    Science|\n+------+------+-----------+\n\n"
     ]
    }
   ],
   "source": [
    "from pyspark.sql import SparkSession\n",
    "from pyspark.sql.functions import *\n",
    "from pyspark.sql.types import *\n",
    "\n",
    "# Initialize a Spark session\n",
    "spark = SparkSession.builder.appName(\"Employee Data\").getOrCreate()\n",
    "\n",
    "# Define the data\n",
    "data = [\n",
    "    (100, 40000, \"Analytics\"),\n",
    "    (101, 30000, \"Analytics\"),\n",
    "    (102, 50000, \"Analytics\"),\n",
    "    (103, 45000, \"Engineering\"),\n",
    "    (104, 48000, \"Engineering\"),\n",
    "    (105, 51000, \"Engineering\"),\n",
    "    (106, 46000, \"Science\"),\n",
    "    (107, 38000, \"Science\"),\n",
    "    (108, 37000, \"Science\"),\n",
    "    (109, 42000, \"Analytics\"),\n",
    "    (110, 55000, \"Engineering\"),\n",
    "    (111, 39000, \"Science\"),\n",
    "    (112, 47000, \"Analytics\"),\n",
    "    (113, 43000, \"Engineering\"),\n",
    "    (114, 36000, \"Science\")\n",
    "]\n",
    "\n",
    "# Define the schema (column names)\n",
    "columns = [\"emp_id\", \"salary\", \"department\"]\n",
    "\n",
    "# Create a DataFrame\n",
    "df = spark.createDataFrame(data, schema=columns)\n",
    "\n",
    "# Show the DataFrame\n",
    "df.show()\n"
   ]
  },
  {
   "cell_type": "code",
   "execution_count": 0,
   "metadata": {
    "application/vnd.databricks.v1+cell": {
     "cellMetadata": {
      "byteLimit": 2048000,
      "rowLimit": 10000
     },
     "inputWidgets": {},
     "nuid": "3f935108-166e-4d90-b77d-dd6812254285",
     "showTitle": false,
     "title": ""
    }
   },
   "outputs": [
    {
     "output_type": "stream",
     "name": "stdout",
     "output_type": "stream",
     "text": [
      "+------+------+-----------+\n|emp_id|salary| department|\n+------+------+-----------+\n|   102| 50000|  Analytics|\n|   103| 45000|Engineering|\n|   104| 48000|Engineering|\n|   105| 51000|Engineering|\n|   106| 46000|    Science|\n|   110| 55000|Engineering|\n|   112| 47000|  Analytics|\n|   113| 43000|Engineering|\n+------+------+-----------+\n\n"
     ]
    }
   ],
   "source": [
    "\n",
    "# Calculate the average salary for each department\n",
    "avg_salary_other_departments = (\n",
    "    df.groupBy(\"department\")\n",
    "    .agg(F.avg(\"salary\").alias(\"avg_salary\"))\n",
    ")\n",
    "\n",
    "# Join the original dataframe with the average salary of  departments\n",
    "# and filter where the salary is greater than  the average salary\n",
    "result_df = (\n",
    "    df.alias(\"e1\")\n",
    "    .join(avg_salary_other_departments.alias(\"e2\"), col(\"e1.department\") != col(\"e2.department\"))\n",
    "    .groupBy(\"e1.emp_id\", \"e1.salary\", \"e1.department\")\n",
    "    .agg(F.avg(\"e2.avg_salary\").alias(\"avg_other_department_salary\"))\n",
    "    .filter(col(\"e1.salary\") >= col(\"avg_other_department_salary\"))\n",
    "    .select(\"e1.emp_id\", \"e1.salary\", \"e1.department\")\n",
    "    .orderBy(\"emp_id\")\n",
    ")\n",
    "\n",
    "# Show the result\n",
    "result_df.show()\n"
   ]
  },
  {
   "cell_type": "code",
   "execution_count": 0,
   "metadata": {
    "application/vnd.databricks.v1+cell": {
     "cellMetadata": {
      "byteLimit": 2048000,
      "rowLimit": 10000
     },
     "inputWidgets": {},
     "nuid": "d9b99edf-3af6-43e6-8c7a-89af254d6747",
     "showTitle": false,
     "title": ""
    }
   },
   "outputs": [
    {
     "output_type": "stream",
     "name": "stdout",
     "output_type": "stream",
     "text": [
      "+-----------+----------+\n| department|avg_salary|\n+-----------+----------+\n|  Analytics|   41800.0|\n|Engineering|   48400.0|\n|    Science|   39200.0|\n+-----------+----------+\n\n"
     ]
    }
   ],
   "source": [
    "avg_salary_other_departments.show()"
   ]
  },
  {
   "cell_type": "code",
   "execution_count": 0,
   "metadata": {
    "application/vnd.databricks.v1+cell": {
     "cellMetadata": {
      "byteLimit": 2048000,
      "rowLimit": 10000
     },
     "inputWidgets": {},
     "nuid": "c5738c09-b62b-41fc-bf56-d66ba9e3c81b",
     "showTitle": false,
     "title": ""
    }
   },
   "outputs": [
    {
     "output_type": "stream",
     "name": "stdout",
     "output_type": "stream",
     "text": [
      "+-----------+----------+\n| department|avg-salary|\n+-----------+----------+\n|  Analytics|   41800.0|\n|Engineering|   48400.0|\n|    Science|   39200.0|\n+-----------+----------+\n\n"
     ]
    }
   ],
   "source": [
    "avg_salary_dept.show()"
   ]
  },
  {
   "cell_type": "code",
   "execution_count": 0,
   "metadata": {
    "application/vnd.databricks.v1+cell": {
     "cellMetadata": {},
     "inputWidgets": {},
     "nuid": "dbb62d36-72dd-4099-a5c8-55ed5fa6aa56",
     "showTitle": false,
     "title": ""
    }
   },
   "outputs": [],
   "source": []
  }
 ],
 "metadata": {
  "application/vnd.databricks.v1+notebook": {
   "dashboards": [],
   "environmentMetadata": null,
   "language": "python",
   "notebookMetadata": {
    "pythonIndentUnit": 4
   },
   "notebookName": "31 - Highly Paid Employees",
   "widgets": {}
  }
 },
 "nbformat": 4,
 "nbformat_minor": 0
}
