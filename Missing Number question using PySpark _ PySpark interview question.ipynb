{
 "cells": [
  {
   "cell_type": "code",
   "execution_count": 0,
   "metadata": {
    "application/vnd.databricks.v1+cell": {
     "cellMetadata": {
      "byteLimit": 2048000,
      "rowLimit": 10000
     },
     "inputWidgets": {},
     "nuid": "cbc1b05b-8d53-4937-8ad3-d05ac1404df7",
     "showTitle": false,
     "title": ""
    }
   },
   "outputs": [
    {
     "output_type": "stream",
     "name": "stdout",
     "output_type": "stream",
     "text": [
      "+-----+\n|value|\n+-----+\n|    3|\n|    4|\n|    5|\n|    6|\n|    7|\n|    8|\n|    9|\n+-----+\n\n"
     ]
    }
   ],
   "source": [
    "from pyspark.sql.functions import *\n",
    "from pyspark.sql.types import *\n",
    "from pyspark.sql import SparkSession\n",
    "spark=SparkSession.builder.appName(\"Missing\").getOrCreate()\n",
    "\n",
    "data=[(1,),(2,),(10,)]\n",
    "column=[\"id\"]\n",
    "df=spark.createDataFrame(data=data,schema=column)\n",
    "\n",
    "from pyspark.sql.functions import max as max_\n",
    "from pyspark.sql.functions import min as min_\n",
    "\n",
    "max_id = df.agg(max_(\"id\")).collect()[0][0]\n",
    "min_id= df.agg(min_(\"id\")).collect()[0][0]\n",
    "\n",
    "new_list=range(min_id,max_id,1)\n",
    "\n",
    "column=[\"id\"]\n",
    "df_list=spark.createDataFrame(new_list,IntegerType())\n",
    "\n",
    "df_list.subtract(df).orderBy(asc(col(\"value\"))).show()\n",
    "\n",
    "\n",
    "\n"
   ]
  },
  {
   "cell_type": "code",
   "execution_count": 0,
   "metadata": {
    "application/vnd.databricks.v1+cell": {
     "cellMetadata": {},
     "inputWidgets": {},
     "nuid": "02dbf4af-ed1e-48ef-910d-418b824bf070",
     "showTitle": false,
     "title": ""
    }
   },
   "outputs": [],
   "source": []
  }
 ],
 "metadata": {
  "application/vnd.databricks.v1+notebook": {
   "dashboards": [],
   "environmentMetadata": null,
   "language": "python",
   "notebookMetadata": {
    "pythonIndentUnit": 4
   },
   "notebookName": "Missing Number question using PySpark | PySpark interview question",
   "widgets": {}
  }
 },
 "nbformat": 4,
 "nbformat_minor": 0
}
