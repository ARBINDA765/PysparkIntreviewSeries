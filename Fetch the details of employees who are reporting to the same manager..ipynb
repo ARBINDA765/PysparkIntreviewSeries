{
 "cells": [
  {
   "cell_type": "code",
   "execution_count": 0,
   "metadata": {
    "application/vnd.databricks.v1+cell": {
     "cellMetadata": {
      "byteLimit": 2048000,
      "rowLimit": 10000
     },
     "inputWidgets": {},
     "nuid": "ed9cec44-163b-4618-824a-0e6287dafefc",
     "showTitle": false,
     "title": ""
    }
   },
   "outputs": [],
   "source": [
    "from pyspark.sql.functions import *\n",
    "from pyspark.sql.types import *\n",
    "from pyspark.sql.window import *\n"
   ]
  },
  {
   "cell_type": "code",
   "execution_count": 0,
   "metadata": {
    "application/vnd.databricks.v1+cell": {
     "cellMetadata": {
      "byteLimit": 2048000,
      "rowLimit": 10000
     },
     "inputWidgets": {},
     "nuid": "0f6acd14-f598-4722-8c87-f8c414b5409a",
     "showTitle": false,
     "title": ""
    }
   },
   "outputs": [],
   "source": [
    "#Task : fetch the details of employees who are reporting to the same manager.\n",
    "\n",
    "from pyspark.sql.functions import count\n",
    "data = [\n",
    " (1,'A',4),\n",
    " (2,'B',5),\n",
    " (3,'C',6),\n",
    " (4,'D',5),\n",
    " (5,'E',None),\n",
    " (6,'F',None),\n",
    " ]\n",
    "schema = ['empid','empname','mgrid']\n",
    "emp_df = spark.createDataFrame(data,schema)"
   ]
  },
  {
   "cell_type": "code",
   "execution_count": 0,
   "metadata": {
    "application/vnd.databricks.v1+cell": {
     "cellMetadata": {
      "byteLimit": 2048000,
      "rowLimit": 10000
     },
     "inputWidgets": {},
     "nuid": "2373ce44-78fa-4661-a4af-15a97bfefe20",
     "showTitle": false,
     "title": ""
    }
   },
   "outputs": [
    {
     "output_type": "stream",
     "name": "stdout",
     "output_type": "stream",
     "text": [
      "+-----+-------+-----+\n|empid|empname|mgrid|\n+-----+-------+-----+\n|1    |A      |4    |\n|2    |B      |5    |\n|3    |C      |6    |\n|4    |D      |5    |\n|5    |E      |null |\n|6    |F      |null |\n+-----+-------+-----+\n\n"
     ]
    }
   ],
   "source": [
    "emp_df.show(truncate=0)"
   ]
  },
  {
   "cell_type": "code",
   "execution_count": 0,
   "metadata": {
    "application/vnd.databricks.v1+cell": {
     "cellMetadata": {
      "byteLimit": 2048000,
      "rowLimit": 10000
     },
     "inputWidgets": {},
     "nuid": "ad4abc39-d548-4214-9cb2-e40c5953f7c9",
     "showTitle": false,
     "title": ""
    }
   },
   "outputs": [
    {
     "output_type": "stream",
     "name": "stdout",
     "output_type": "stream",
     "text": [
      "+-----+-------+-----+\n|empid|empname|mgrid|\n+-----+-------+-----+\n|    2|      B|    5|\n|    4|      D|    5|\n+-----+-------+-----+\n\n"
     ]
    }
   ],
   "source": [
    "mgr_df=emp_df.groupby('mgrid').agg(count(col('mgrid')).alias('cnt')).filter(col('cnt')>1)\n",
    "ans_df=emp_df.join(mgr_df,on=[mgr_df.mgrid==emp_df.mgrid],how='inner')\n",
    "ans_df=ans_df.select(emp_df['*'])\n",
    "ans_df.show()"
   ]
  },
  {
   "cell_type": "code",
   "execution_count": 0,
   "metadata": {
    "application/vnd.databricks.v1+cell": {
     "cellMetadata": {
      "byteLimit": 2048000,
      "rowLimit": 10000
     },
     "inputWidgets": {},
     "nuid": "5bf89d73-3536-48d7-b046-3160aed0248c",
     "showTitle": false,
     "title": ""
    }
   },
   "outputs": [
    {
     "output_type": "stream",
     "name": "stdout",
     "output_type": "stream",
     "text": [
      "+-----+-------+-----+\n|empid|empname|mgrid|\n+-----+-------+-----+\n|    2|      B|    5|\n|    4|      D|    5|\n+-----+-------+-----+\n\n"
     ]
    }
   ],
   "source": [
    "mgr_df=emp_df.groupBy(\"mgrid\").agg(count(col(\"mgrid\")).alias(\"counting\")) \\\n",
    "    .filter(col(\"counting\")>1)\n",
    "ans_df=emp_df.join(mgr_df,on=[mgr_df.mgrid==emp_df.mgrid],how=\"inner\")\n",
    "ans_df=ans_df.select(emp_df[\"*\"])\n",
    "ans_df.show()\n"
   ]
  },
  {
   "cell_type": "code",
   "execution_count": 0,
   "metadata": {
    "application/vnd.databricks.v1+cell": {
     "cellMetadata": {
      "byteLimit": 2048000,
      "rowLimit": 10000
     },
     "inputWidgets": {},
     "nuid": "5977bac8-305d-4458-acb0-cd6f462363ad",
     "showTitle": false,
     "title": ""
    }
   },
   "outputs": [],
   "source": []
  }
 ],
 "metadata": {
  "application/vnd.databricks.v1+notebook": {
   "dashboards": [],
   "environmentMetadata": null,
   "language": "python",
   "notebookMetadata": {
    "pythonIndentUnit": 4
   },
   "notebookName": "Fetch the details of employees who are reporting to the same manager.",
   "widgets": {}
  }
 },
 "nbformat": 4,
 "nbformat_minor": 0
}
