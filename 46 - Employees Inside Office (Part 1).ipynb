{
 "cells": [
  {
   "cell_type": "markdown",
   "metadata": {
    "application/vnd.databricks.v1+cell": {
     "cellMetadata": {},
     "inputWidgets": {},
     "nuid": "c3be0272-418d-4bba-951a-cbf9d3ccd530",
     "showTitle": false,
     "title": ""
    }
   },
   "source": [
    "A company record its employee's movement In and Out of office in a table. Please note below points about the data:\n",
    "\n",
    " \n",
    "\n",
    "1- First entry for each employee is “in”\n",
    "2- Every “in” is succeeded by an “out”\n",
    "3- Employee can work across days\n",
    "Write a SQL to find the number of employees inside the Office at “2019-04-01 19:05:00\"."
   ]
  },
  {
   "cell_type": "code",
   "execution_count": 0,
   "metadata": {
    "application/vnd.databricks.v1+cell": {
     "cellMetadata": {
      "byteLimit": 2048000,
      "rowLimit": 10000
     },
     "inputWidgets": {},
     "nuid": "8972d020-adcd-4e4b-8eda-96562839f1e2",
     "showTitle": false,
     "title": ""
    }
   },
   "outputs": [],
   "source": [
    "from pyspark.sql import SparkSession\n",
    "from pyspark.sql.functions import *\n",
    "from pyspark.sql.types import *\n",
    "from pyspark.sql.window import *\n",
    "\n",
    "# Initialize Spark session\n",
    "spark = SparkSession.builder.appName(\"example\").getOrCreate()\n",
    "\n",
    "# Sample data\n",
    "data = [\n",
    "    (\"1\", \"in\", \"2019-04-01 12:00:00\"),\n",
    "    (\"1\", \"out\", \"2019-04-01 15:00:00\"),\n",
    "    (\"1\", \"in\", \"2019-04-01 17:00:00\"),\n",
    "    (\"1\", \"out\", \"2019-04-01 21:00:00\"),\n",
    "    (\"2\", \"in\", \"2019-04-01 10:00:00\"),\n",
    "    (\"2\", \"out\", \"2019-04-01 16:00:00\"),\n",
    "    (\"3\", \"in\", \"2019-04-01 19:00:00\"),\n",
    "    (\"3\", \"out\", \"2019-04-02 05:00:00\"),\n",
    "    (\"4\", \"in\", \"2019-04-01 10:00:00\"),\n",
    "    (\"4\", \"out\", \"2019-04-01 20:00:00\")\n",
    "]\n",
    "\n",
    "# Define schema\n",
    "schema = [\"emp_id\", \"action\", \"created_at\"]\n",
    "\n",
    "# Create DataFrame\n",
    "df = spark.createDataFrame(data, schema)\n",
    "\n",
    "# Converting to correct datatype\n",
    "df=df.withColumn(\"emp_id\",col(\"emp_id\").cast(\"integer\")) \\\n",
    "    .withColumn(\"created_at\",col(\"created_at\").cast(\"timestamp\"))\n"
   ]
  },
  {
   "cell_type": "code",
   "execution_count": 0,
   "metadata": {
    "application/vnd.databricks.v1+cell": {
     "cellMetadata": {
      "byteLimit": 2048000,
      "rowLimit": 10000
     },
     "inputWidgets": {},
     "nuid": "014543f9-632c-401f-a643-9351310ceede",
     "showTitle": false,
     "title": ""
    }
   },
   "outputs": [],
   "source": [
    "#Approach-1\n",
    "df_approach_1=df.groupBy(col(\"emp_id\")).agg(min(\"created_at\").alias(\"Login\"),max(col(\"created_at\")).alias(\"logout\")) \\\n",
    "  .filter((col(\"login\") <\"2019-04-01 19:05:00\") & (col(\"logout\") >\"2019-04-01 19:05:00\")).agg(count(col(\"emp_id\")).alias(\"no_of_emp\"))"
   ]
  },
  {
   "cell_type": "code",
   "execution_count": 0,
   "metadata": {
    "application/vnd.databricks.v1+cell": {
     "cellMetadata": {
      "byteLimit": 2048000,
      "rowLimit": 10000
     },
     "inputWidgets": {},
     "nuid": "055cd408-81b1-4b6b-9f9a-b8bbe6572389",
     "showTitle": false,
     "title": ""
    }
   },
   "outputs": [
    {
     "output_type": "stream",
     "name": "stdout",
     "output_type": "stream",
     "text": [
      "+----------------+\n|no_of_emp_inside|\n+----------------+\n|               3|\n+----------------+\n\n"
     ]
    }
   ],
   "source": [
    "#Approach-2\n",
    "# Define the window specification\n",
    "window_spec = Window.partitionBy(\"emp_id\").orderBy(\"created_at\")\n",
    "\n",
    "# Add the next_created_at column\n",
    "df_app_2 = df.withColumn(\"next_created_at\", lead(\"created_at\").over(window_spec))\n",
    "\n",
    "# Filter the DataFrame and count the results\n",
    "result = df_app_2.filter(\n",
    "    (col(\"action\") == \"in\") &\n",
    "    (col(\"created_at\") <= \"2019-04-01 19:05:00\") &\n",
    "    (col(\"next_created_at\") >= \"2019-04-01 19:05:00\")\n",
    ").agg(count(\"*\").alias(\"no_of_emp_inside\"))\n",
    "\n",
    "result.show()\n"
   ]
  },
  {
   "cell_type": "code",
   "execution_count": 0,
   "metadata": {
    "application/vnd.databricks.v1+cell": {
     "cellMetadata": {
      "byteLimit": 2048000,
      "rowLimit": 10000
     },
     "inputWidgets": {},
     "nuid": "7cf2dae1-1429-498f-86fb-283f40fdf248",
     "showTitle": false,
     "title": ""
    }
   },
   "outputs": [
    {
     "output_type": "display_data",
     "data": {
      "text/html": [
       "<style scoped>\n",
       "  .table-result-container {\n",
       "    max-height: 300px;\n",
       "    overflow: auto;\n",
       "  }\n",
       "  table, th, td {\n",
       "    border: 1px solid black;\n",
       "    border-collapse: collapse;\n",
       "  }\n",
       "  th, td {\n",
       "    padding: 5px;\n",
       "  }\n",
       "  th {\n",
       "    text-align: left;\n",
       "  }\n",
       "</style><div class='table-result-container'><table class='table-result'><thead style='background-color: white'><tr><th>emp_id</th><th>action</th><th>created_at</th><th>next_created_at</th></tr></thead><tbody><tr><td>1</td><td>in</td><td>2019-04-01T12:00:00.000+0000</td><td>2019-04-01T15:00:00.000+0000</td></tr><tr><td>1</td><td>out</td><td>2019-04-01T15:00:00.000+0000</td><td>2019-04-01T17:00:00.000+0000</td></tr><tr><td>1</td><td>in</td><td>2019-04-01T17:00:00.000+0000</td><td>2019-04-01T21:00:00.000+0000</td></tr><tr><td>1</td><td>out</td><td>2019-04-01T21:00:00.000+0000</td><td>null</td></tr><tr><td>2</td><td>in</td><td>2019-04-01T10:00:00.000+0000</td><td>2019-04-01T16:00:00.000+0000</td></tr><tr><td>2</td><td>out</td><td>2019-04-01T16:00:00.000+0000</td><td>null</td></tr><tr><td>3</td><td>in</td><td>2019-04-01T19:00:00.000+0000</td><td>2019-04-02T05:00:00.000+0000</td></tr><tr><td>3</td><td>out</td><td>2019-04-02T05:00:00.000+0000</td><td>null</td></tr><tr><td>4</td><td>in</td><td>2019-04-01T10:00:00.000+0000</td><td>2019-04-01T20:00:00.000+0000</td></tr><tr><td>4</td><td>out</td><td>2019-04-01T20:00:00.000+0000</td><td>null</td></tr></tbody></table></div>"
      ]
     },
     "metadata": {
      "application/vnd.databricks.v1+output": {
       "addedWidgets": {},
       "aggData": [],
       "aggError": "",
       "aggOverflow": false,
       "aggSchema": [],
       "aggSeriesLimitReached": false,
       "aggType": "",
       "arguments": {},
       "columnCustomDisplayInfos": {},
       "data": [
        [
         1,
         "in",
         "2019-04-01T12:00:00.000+0000",
         "2019-04-01T15:00:00.000+0000"
        ],
        [
         1,
         "out",
         "2019-04-01T15:00:00.000+0000",
         "2019-04-01T17:00:00.000+0000"
        ],
        [
         1,
         "in",
         "2019-04-01T17:00:00.000+0000",
         "2019-04-01T21:00:00.000+0000"
        ],
        [
         1,
         "out",
         "2019-04-01T21:00:00.000+0000",
         null
        ],
        [
         2,
         "in",
         "2019-04-01T10:00:00.000+0000",
         "2019-04-01T16:00:00.000+0000"
        ],
        [
         2,
         "out",
         "2019-04-01T16:00:00.000+0000",
         null
        ],
        [
         3,
         "in",
         "2019-04-01T19:00:00.000+0000",
         "2019-04-02T05:00:00.000+0000"
        ],
        [
         3,
         "out",
         "2019-04-02T05:00:00.000+0000",
         null
        ],
        [
         4,
         "in",
         "2019-04-01T10:00:00.000+0000",
         "2019-04-01T20:00:00.000+0000"
        ],
        [
         4,
         "out",
         "2019-04-01T20:00:00.000+0000",
         null
        ]
       ],
       "datasetInfos": [],
       "dbfsResultPath": null,
       "isJsonSchema": true,
       "metadata": {},
       "overflow": false,
       "plotOptions": {
        "customPlotOptions": {},
        "displayType": "table",
        "pivotAggregation": null,
        "pivotColumns": null,
        "xColumns": null,
        "yColumns": null
       },
       "removedWidgets": [],
       "schema": [
        {
         "metadata": "{}",
         "name": "emp_id",
         "type": "\"integer\""
        },
        {
         "metadata": "{}",
         "name": "action",
         "type": "\"string\""
        },
        {
         "metadata": "{}",
         "name": "created_at",
         "type": "\"timestamp\""
        },
        {
         "metadata": "{}",
         "name": "next_created_at",
         "type": "\"timestamp\""
        }
       ],
       "type": "table"
      }
     },
     "output_type": "display_data"
    }
   ],
   "source": [
    "display(df)"
   ]
  },
  {
   "cell_type": "code",
   "execution_count": 0,
   "metadata": {
    "application/vnd.databricks.v1+cell": {
     "cellMetadata": {},
     "inputWidgets": {},
     "nuid": "b95b6ca3-a044-4bb1-8217-5020ef43b6e1",
     "showTitle": false,
     "title": ""
    }
   },
   "outputs": [],
   "source": []
  }
 ],
 "metadata": {
  "application/vnd.databricks.v1+notebook": {
   "dashboards": [],
   "environmentMetadata": null,
   "language": "python",
   "notebookMetadata": {
    "pythonIndentUnit": 4
   },
   "notebookName": "46 - Employees Inside Office (Part 1)",
   "widgets": {}
  }
 },
 "nbformat": 4,
 "nbformat_minor": 0
}
