{
 "cells": [
  {
   "cell_type": "markdown",
   "metadata": {
    "application/vnd.databricks.v1+cell": {
     "cellMetadata": {
      "byteLimit": 2048000,
      "rowLimit": 10000
     },
     "inputWidgets": {},
     "nuid": "e02c8a50-bb4b-4f8e-985e-b44d83880af6",
     "showTitle": false,
     "title": ""
    }
   },
   "source": [
    "Suppose you are a data analyst working for ride-sharing platform Uber. Uber is interested in analyzing the performance of drivers based on their ratings and wants to categorize them into different performance tiers. \n",
    "\n",
    "Write an SQL query to categorize drivers equally into three performance tiers (Top, Middle, and Bottom) based on their average ratings. Drivers with the highest average ratings should be placed in the top tier, drivers with ratings below the top tier but above the bottom tier should be placed in the middle tier, and drivers with the lowest average ratings should be placed in the bottom tier. Sort the output in decreasing order of average rating"
   ]
  },
  {
   "cell_type": "code",
   "execution_count": 0,
   "metadata": {
    "application/vnd.databricks.v1+cell": {
     "cellMetadata": {
      "byteLimit": 2048000,
      "rowLimit": 10000
     },
     "inputWidgets": {},
     "nuid": "42ce5982-30a2-4d8a-a35c-212b689d51c4",
     "showTitle": false,
     "title": ""
    }
   },
   "outputs": [
    {
     "output_type": "stream",
     "name": "stdout",
     "output_type": "stream",
     "text": [
      "+---------+----------+\n|driver_id|avg_rating|\n+---------+----------+\n|        1|       4.8|\n|        2|       4.5|\n|        3|       3.9|\n|        4|       4.2|\n|        5|       4.7|\n|        6|       3.6|\n|        7|       4.9|\n|        8|       3.8|\n|        9|       4.4|\n|       10|       3.5|\n|       11|       4.1|\n|       12|       4.6|\n+---------+----------+\n\n"
     ]
    }
   ],
   "source": [
    "from pyspark.sql import SparkSession\n",
    "from pyspark.sql.types import StructType, StructField, IntegerType, FloatType\n",
    "from pyspark.sql.window import *\n",
    "from pyspark.sql.functions import *\n",
    "\n",
    "# Create a Spark session\n",
    "spark = SparkSession.builder \\\n",
    "    .appName(\"Driver Ratings\") \\\n",
    "    .getOrCreate()\n",
    "\n",
    "# Define the schema\n",
    "schema = StructType([\n",
    "    StructField(\"driver_id\", IntegerType(), True),\n",
    "    StructField(\"avg_rating\", FloatType(), True)\n",
    "])\n",
    "\n",
    "# Create the data\n",
    "data = [\n",
    "    (1, 4.80),\n",
    "    (2, 4.50),\n",
    "    (3, 3.90),\n",
    "    (4, 4.20),\n",
    "    (5, 4.70),\n",
    "    (6, 3.60),\n",
    "    (7, 4.90),\n",
    "    (8, 3.80),\n",
    "    (9, 4.40),\n",
    "    (10, 3.50),\n",
    "    (11, 4.10),\n",
    "    (12, 4.60)\n",
    "]\n",
    "\n",
    "# Create a DataFrame\n",
    "df = spark.createDataFrame(data, schema)\n",
    "\n",
    "# Show the DataFrame\n",
    "df.show()\n"
   ]
  },
  {
   "cell_type": "code",
   "execution_count": 0,
   "metadata": {
    "application/vnd.databricks.v1+cell": {
     "cellMetadata": {
      "byteLimit": 2048000,
      "rowLimit": 10000
     },
     "inputWidgets": {},
     "nuid": "58f07b68-a340-49b9-a611-dfdd75448efb",
     "showTitle": false,
     "title": ""
    }
   },
   "outputs": [],
   "source": [
    "window_spec=Window.partitionBy().orderBy(col(\"avg_rating\"))\n",
    "df=df.withColumn(\"Bucketing\",ntile(3).over(window_spec)) \\\n",
    "    .withColumn(\"performance_tier\", when(col(\"Bucketing\")==1,\"Top\") \\\n",
    "        .when(col(\"Bucketing\")==2,\"Middle\") \\\n",
    "            .when(col(\"Bucketing\")==3,\"Bottom\") \\\n",
    "                .otherwise(\"Unknown\") \\\n",
    "    \n",
    "        ).select(\"driver_id\",\"avg_rating\",\"performance_tier\")"
   ]
  },
  {
   "cell_type": "code",
   "execution_count": 0,
   "metadata": {
    "application/vnd.databricks.v1+cell": {
     "cellMetadata": {},
     "inputWidgets": {},
     "nuid": "a1804a15-2660-4c6a-9f8c-538290b8d35c",
     "showTitle": false,
     "title": ""
    }
   },
   "outputs": [],
   "source": []
  }
 ],
 "metadata": {
  "application/vnd.databricks.v1+notebook": {
   "dashboards": [],
   "environmentMetadata": null,
   "language": "python",
   "notebookMetadata": {
    "pythonIndentUnit": 4
   },
   "notebookName": "40 – Uber Driver Ratings",
   "widgets": {}
  }
 },
 "nbformat": 4,
 "nbformat_minor": 0
}
