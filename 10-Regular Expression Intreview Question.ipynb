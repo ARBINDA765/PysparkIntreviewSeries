{
 "cells": [
  {
   "cell_type": "markdown",
   "metadata": {
    "application/vnd.databricks.v1+cell": {
     "cellMetadata": {},
     "inputWidgets": {},
     "nuid": "026e0584-03e1-4d5b-919e-29e43c0d8f6c",
     "showTitle": false,
     "title": ""
    }
   },
   "source": [
    "####1-Arabinda-900-BLR-2-Hari-800-BBSR-3-Shyam-100-BLS convert to columns "
   ]
  },
  {
   "cell_type": "code",
   "execution_count": 0,
   "metadata": {
    "application/vnd.databricks.v1+cell": {
     "cellMetadata": {
      "byteLimit": 2048000,
      "rowLimit": 10000
     },
     "inputWidgets": {},
     "nuid": "1a30ace0-cbbc-47fb-9e08-8e865c7743dd",
     "showTitle": false,
     "title": ""
    }
   },
   "outputs": [],
   "source": [
    "from pyspark.sql import SparkSession\n",
    "from pyspark.sql.functions import *\n",
    "from pyspark.sql.types import *\n",
    "from pyspark.sql.window import *\n",
    "\n",
    "# Initialize Spark session\n",
    "spark = SparkSession.builder \\\n",
    "    .appName(\"Create DataFrame and Insert Data\") \\\n",
    "    .getOrCreate()\n",
    "\n",
    "\n"
   ]
  },
  {
   "cell_type": "code",
   "execution_count": 0,
   "metadata": {
    "application/vnd.databricks.v1+cell": {
     "cellMetadata": {
      "byteLimit": 2048000,
      "rowLimit": 10000
     },
     "inputWidgets": {},
     "nuid": "250d2022-fbeb-4ff5-9152-5adc5c375d93",
     "showTitle": false,
     "title": ""
    }
   },
   "outputs": [
    {
     "output_type": "stream",
     "name": "stdout",
     "output_type": "stream",
     "text": [
      "Wrote 50 bytes.\n"
     ]
    }
   ],
   "source": [
    "dbutils.fs.put('/Filestore/tables/regular_expression_intreview.txt','1-Arabinda-900-BLR-2-Hari-800-BBSR-3-Shyam-100-BLS',overwrite=True)\n",
    "df=spark.read.format(\"text\")\\\n",
    "    .option(\"header\",\"True\")\\\n",
    "        .load('/Filestore/tables/regular_expression_intreview.txt')\n",
    "#pattern = r\"(\\d*)-(\\w*)-(\\d*)-(\\w*)\"\n",
    "\n",
    "#df=df.drop(col(\"value\"))\n",
    "\n"
   ]
  },
  {
   "cell_type": "markdown",
   "metadata": {
    "application/vnd.databricks.v1+cell": {
     "cellMetadata": {},
     "inputWidgets": {},
     "nuid": "54dad465-7b0d-43aa-a2af-4d8313de6669",
     "showTitle": false,
     "title": ""
    }
   },
   "source": [
    "####Approach-1"
   ]
  },
  {
   "cell_type": "code",
   "execution_count": 0,
   "metadata": {
    "application/vnd.databricks.v1+cell": {
     "cellMetadata": {
      "byteLimit": 2048000,
      "rowLimit": 10000
     },
     "inputWidgets": {},
     "nuid": "f764cc01-8e1a-45b9-bd6b-c57d43a10012",
     "showTitle": false,
     "title": ""
    }
   },
   "outputs": [
    {
     "output_type": "stream",
     "name": "stdout",
     "output_type": "stream",
     "text": [
      "+---+--------+-----+--------+\n|ID |Name    |Sales|Location|\n+---+--------+-----+--------+\n|1  |Arabinda|900  |BLR     |\n+---+--------+-----+--------+\n\n"
     ]
    }
   ],
   "source": [
    "df1=df.withColumn(\"New_Value\",regexp_replace(\"value\",r\"(.*?\\-){4}\",\"$0,\"))\n",
    "df1=df.withColumn(\"New_Value\",regexp_replace(\"value\",r\"([^\\-]*\\-{4})\",\"$0,\"))\n",
    "\n",
    "\n",
    "df2=df1.withColumn(\"New_Vlaue1\",explode(split(df1[\"New_Value\"],'-,')))\n",
    "df3=df2.withColumn(\"ID\",split(df2[\"New_Vlaue1\"],'-')[0])\\\n",
    "    .withColumn(\"Name\",split(df2[\"New_Vlaue1\"],'-')[1])\\\n",
    "        .withColumn(\"Sales\",split(df2[\"New_Vlaue1\"],'-')[2])\\\n",
    "            .withColumn(\"Location\",split(df2[\"New_Vlaue1\"],'-')[3])\n",
    "df_final=df3.drop(\"value\",\"New_Value\",\"New_Vlaue1\")\n",
    "df_final.show(truncate=0)"
   ]
  },
  {
   "cell_type": "markdown",
   "metadata": {
    "application/vnd.databricks.v1+cell": {
     "cellMetadata": {},
     "inputWidgets": {},
     "nuid": "4a793159-b8e0-442d-90ed-44364a972aea",
     "showTitle": false,
     "title": ""
    }
   },
   "source": [
    "####Approach-2"
   ]
  },
  {
   "cell_type": "markdown",
   "metadata": {
    "application/vnd.databricks.v1+cell": {
     "cellMetadata": {},
     "inputWidgets": {},
     "nuid": "47af00c5-b8ac-47c7-a665-04eaefe971cd",
     "showTitle": false,
     "title": ""
    }
   },
   "source": [
    " ####regular expression pattern:\n",
    "\n",
    "[^\\\\-]*: Matches any character except a hyphen ([^\\\\-]), zero or more times (*).\n",
    "\n",
    "\\\\-: Matches a hyphen -.\n",
    "\n",
    "Together, ([^\\\\-]*\\\\-){4} matches any characters followed by a hyphen exactly four times."
   ]
  },
  {
   "cell_type": "code",
   "execution_count": 0,
   "metadata": {
    "application/vnd.databricks.v1+cell": {
     "cellMetadata": {
      "byteLimit": 2048000,
      "rowLimit": 10000
     },
     "inputWidgets": {},
     "nuid": "c1c1aa57-8a20-48f4-b049-761cee2bf8e4",
     "showTitle": false,
     "title": ""
    }
   },
   "outputs": [
    {
     "output_type": "stream",
     "name": "stdout",
     "output_type": "stream",
     "text": [
      "+---+--------+-----+--------+\n| ID|    Name|Sales|Location|\n+---+--------+-----+--------+\n|  1|Arabinda|  900|     BLR|\n|  2|    Hari|  800|    BBSR|\n|  3|   Shyam|  100|     BLS|\n+---+--------+-----+--------+\n\n"
     ]
    }
   ],
   "source": [
    "pattern = r\"([^\\-]*\\-){4}\"\n",
    "df11=df.withColumn(\"New_Value\",regexp_replace(\"value\", pattern, \"$0,\"))\n",
    "\n",
    "\n",
    "\n",
    "df22=df11.withColumn(\"New_Vlaue1\",explode(split(df11[\"New_Value\"],'-,')))\n",
    "df33=df22.withColumn(\"ID\",split(df22[\"New_Vlaue1\"],'-')[0])\\\n",
    "    .withColumn(\"Name\",split(df22[\"New_Vlaue1\"],'-')[1])\\\n",
    "        .withColumn(\"Sales\",split(df22[\"New_Vlaue1\"],'-')[2])\\\n",
    "            .withColumn(\"Location\",split(df22[\"New_Vlaue1\"],'-')[3])\n",
    "df_final_2=df33.drop(\"value\",\"New_Value\",\"New_Vlaue1\")\n",
    "df_final_2.show()"
   ]
  },
  {
   "cell_type": "code",
   "execution_count": 0,
   "metadata": {
    "application/vnd.databricks.v1+cell": {
     "cellMetadata": {},
     "inputWidgets": {},
     "nuid": "e129ad98-3098-4777-b6f1-b2f2b67bb2e2",
     "showTitle": false,
     "title": ""
    }
   },
   "outputs": [],
   "source": []
  }
 ],
 "metadata": {
  "application/vnd.databricks.v1+notebook": {
   "dashboards": [],
   "language": "python",
   "notebookMetadata": {
    "pythonIndentUnit": 4
   },
   "notebookName": "Regular Expression Intreview Question",
   "widgets": {}
  }
 },
 "nbformat": 4,
 "nbformat_minor": 0
}
