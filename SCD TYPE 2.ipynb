{
 "cells": [
  {
   "cell_type": "code",
   "execution_count": 0,
   "metadata": {
    "application/vnd.databricks.v1+cell": {
     "cellMetadata": {
      "byteLimit": 2048000,
      "rowLimit": 10000
     },
     "inputWidgets": {},
     "nuid": "ded83594-5ab1-489f-9c02-745d6e1f9171",
     "showTitle": false,
     "tableResultSettingsMap": {},
     "title": ""
    }
   },
   "outputs": [
    {
     "output_type": "stream",
     "name": "stdout",
     "output_type": "stream",
     "text": [
      "+---+-------+----------+----------+-----+------+\n| ID|Product|Start_date|  End_date|Price|Status|\n+---+-------+----------+----------+-----+------+\n|  1|      A|2024-02-28|2024-04-13| 2000|     0|\n|  1|      A|2024-02-28|2024-04-13| 2000|     0|\n|  1|      A|2024-02-18|2024-04-13|   12|     0|\n|  1|      A|2024-02-18|2024-04-13|   12|     0|\n|  2|      B|2024-04-17|2024-12-04|   34|     1|\n|  3|      C|2024-04-09|2024-12-04|   35|     1|\n|  4|      D|2024-04-15|2024-12-04|   67|     1|\n| 10|      Z|2023-12-25|2024-12-04|  109|     1|\n+---+-------+----------+----------+-----+------+\n\n"
     ]
    }
   ],
   "source": []
  },
  {
   "cell_type": "code",
   "execution_count": 0,
   "metadata": {
    "application/vnd.databricks.v1+cell": {
     "cellMetadata": {
      "byteLimit": 2048000,
      "rowLimit": 10000
     },
     "inputWidgets": {},
     "nuid": "76638ac3-cf00-4a71-8065-478921f7e17c",
     "showTitle": false,
     "tableResultSettingsMap": {},
     "title": ""
    }
   },
   "outputs": [
    {
     "output_type": "stream",
     "name": "stdout",
     "output_type": "stream",
     "text": [
      "+---+-------+----------+----------+-----+------+\n|ID |Product|Start_date|End_date  |Price|Status|\n+---+-------+----------+----------+-----+------+\n|1  |A      |2024-02-28|2024-04-13|2000 |0     |\n|1  |A      |2024-02-28|2024-04-13|2000 |0     |\n|1  |A      |2024-02-18|2024-04-13|12   |0     |\n|1  |A      |2024-02-18|2024-04-13|12   |0     |\n|2  |B      |2024-04-17|2024-12-04|34   |1     |\n|3  |C      |2024-04-09|2024-12-04|35   |1     |\n|4  |D      |2024-04-15|2024-12-04|67   |1     |\n|10 |Z      |2023-12-25|2024-12-04|109  |1     |\n+---+-------+----------+----------+-----+------+\n\n"
     ]
    }
   ],
   "source": [
    "from pyspark.sql import SparkSession\n",
    "from pyspark.sql.functions import lit, col, current_date, date_sub, to_date, when\n",
    "from pyspark.sql.types import StructType, StructField, IntegerType, StringType, DateType\n",
    "\n",
    "# Initialize Spark session\n",
    "spark = SparkSession.builder \\\n",
    "    .appName(\"SCD Type 2 Implementation\") \\\n",
    "    .getOrCreate()\n",
    "\n",
    "# Define schemas\n",
    "source_schema = StructType([\n",
    "    StructField(\"ID\", IntegerType(), True),\n",
    "    StructField(\"Product\", StringType(), True),\n",
    "    StructField(\"Transaction_date\", StringType(), True),  # Initially as StringType\n",
    "    StructField(\"Price\", IntegerType(), True)\n",
    "])\n",
    "\n",
    "target_schema = StructType([\n",
    "    StructField(\"ID\", IntegerType(), True),\n",
    "    StructField(\"Product\", StringType(), True),\n",
    "    StructField(\"Transaction_date\", StringType(), True),  # Initially as StringType\n",
    "    StructField(\"Price\", IntegerType(), True)\n",
    "])\n",
    "\n",
    "# Sample data\n",
    "source_data = [\n",
    "    (1, \"A\", \"2024-04-14\", 60),\n",
    "    (2, \"B\", \"2024-04-17\", 34),\n",
    "    (3, \"C\", \"2024-04-09\", 35),\n",
    "    (4, \"D\", \"2024-04-15\", 67),\n",
    "    (10, \"Z\", \"2023-12-25\", 109)\n",
    "]\n",
    "\n",
    "target_data = [\n",
    "    (11, \"U\", \"2024-02-28\", 101),\n",
    "    (1, \"A\", \"2024-02-28\", 2000),\n",
    "    (1, \"A\", \"2024-02-18\", 12)\n",
    "]\n",
    "\n",
    "# Create DataFrames\n",
    "source_df = spark.createDataFrame(source_data, schema=source_schema)\n",
    "target_df = spark.createDataFrame(target_data, schema=target_schema)\n",
    "\n",
    "# Convert date columns to DateType\n",
    "source_df = source_df.withColumn(\"Transaction_date\", to_date(col(\"Transaction_date\"), \"yyyy-MM-dd\"))\n",
    "target_df = target_df.withColumn(\"Transaction_date\", to_date(col(\"Transaction_date\"), \"yyyy-MM-dd\"))\n",
    "\n",
    "# Add Start_date and End_date columns to target_df\n",
    "target_df = target_df.withColumnRenamed(\"Transaction_date\", \"Start_date\") \\\n",
    "                     .withColumn(\"End_date\", lit(None).cast(DateType())) \\\n",
    "                     .withColumn(\"Status\", lit(1))\n",
    "\n",
    "# Alias the DataFrames to avoid column name conflicts\n",
    "source_df = source_df.alias(\"source\")\n",
    "target_df = target_df.alias(\"target\")\n",
    "\n",
    "# Join the source and target DataFrames to identify updates\n",
    "joined_df = source_df.join(target_df, (source_df.ID == target_df.ID) & (source_df.Product == target_df.Product), \"left\")\n",
    "\n",
    "# Separate the DataFrames into new records and existing records that need updating\n",
    "new_records = joined_df.filter(col(\"target.ID\").isNull()).select(source_df[\"*\"])\n",
    "existing_records = joined_df.filter(col(\"target.ID\").isNotNull()).select(\n",
    "    source_df[\"*\"],\n",
    "    col(\"target.Start_date\").alias(\"target_Start_date\"),\n",
    "    col(\"target.End_date\").alias(\"target_End_date\"),\n",
    "    col(\"target.Status\").alias(\"target_Status\")\n",
    ")\n",
    "\n",
    "# For existing records, update the End_date in the target DataFrame\n",
    "updated_target_df = target_df.join(existing_records, (target_df.ID == existing_records.ID) & (target_df.Product == existing_records.Product), \"inner\") \\\n",
    "    .withColumn(\"End_date\", when(col(\"source.Transaction_date\") > col(\"target_Start_date\"), date_sub(col(\"source.Transaction_date\"), 1)).otherwise(col(\"target_End_date\"))) \\\n",
    "    .withColumn(\"Status\", when(col(\"source.Transaction_date\") > col(\"target_Start_date\"), lit(0)).otherwise(col(\"target_Status\"))) \\\n",
    "    .select(\"target.ID\", \"target.Product\", \"target.Start_date\", \"End_date\", \"target.Price\", \"Status\")\n",
    "\n",
    "# Add new records to the target DataFrame with Start_date and Status 1\n",
    "new_records = new_records.withColumn(\"Start_date\", col(\"Transaction_date\")) \\\n",
    "    .withColumn(\"End_date\", lit(None).cast(DateType())) \\\n",
    "    .withColumn(\"Status\", lit(1))\n",
    "\n",
    "# Combine the updated target DataFrame with the new records\n",
    "final_target_df = updated_target_df.union(new_records.select(\"ID\", \"Product\", \"Start_date\", \"End_date\", \"Price\", \"Status\"))\n",
    "\n",
    "# Update all active records to have today's date as End_date\n",
    "final_target_df = final_target_df.withColumn(\"End_date\", when(col(\"Status\") == 1, current_date()).otherwise(col(\"End_date\")))\n",
    "\n",
    "# Show the final target DataFrame\n",
    "final_target_df.show(truncate=False)\n"
   ]
  },
  {
   "cell_type": "code",
   "execution_count": 0,
   "metadata": {
    "application/vnd.databricks.v1+cell": {
     "cellMetadata": {
      "byteLimit": 2048000,
      "rowLimit": 10000
     },
     "inputWidgets": {},
     "nuid": "c10f1dc1-880e-4a7c-bed6-1eea0e72d8ee",
     "showTitle": false,
     "tableResultSettingsMap": {},
     "title": ""
    }
   },
   "outputs": [
    {
     "output_type": "stream",
     "name": "stdout",
     "output_type": "stream",
     "text": [
      "+---+-------+----------+----------+-----+------+\n|ID |Product|Start_date|End_date  |Price|Status|\n+---+-------+----------+----------+-----+------+\n|1  |A      |2024-02-28|2024-04-13|2000 |0     |\n|1  |A      |2024-02-28|2024-04-13|2000 |0     |\n|1  |A      |2024-02-18|2024-04-13|12   |0     |\n|1  |A      |2024-02-18|2024-04-13|12   |1     |\n|2  |B      |2024-04-17|2024-12-04|34   |1     |\n|3  |C      |2024-04-09|2024-12-04|35   |1     |\n|4  |D      |2024-04-15|2024-12-04|67   |1     |\n|10 |Z      |2023-12-25|2024-12-04|109  |1     |\n+---+-------+----------+----------+-----+------+\n\n"
     ]
    }
   ],
   "source": [
    "from pyspark.sql import SparkSession\n",
    "from pyspark.sql.functions import lit, col, current_date, date_sub, to_date, when, lead\n",
    "from pyspark.sql.window import Window\n",
    "from pyspark.sql.types import StructType, StructField, IntegerType, StringType, DateType\n",
    "\n",
    "# Initialize Spark session\n",
    "spark = SparkSession.builder \\\n",
    "    .appName(\"SCD Type 2 Implementation\") \\\n",
    "    .getOrCreate()\n",
    "\n",
    "# Define schemas\n",
    "source_schema = StructType([\n",
    "    StructField(\"ID\", IntegerType(), True),\n",
    "    StructField(\"Product\", StringType(), True),\n",
    "    StructField(\"Transaction_date\", StringType(), True),  # Initially as StringType\n",
    "    StructField(\"Price\", IntegerType(), True)\n",
    "])\n",
    "\n",
    "target_schema = StructType([\n",
    "    StructField(\"ID\", IntegerType(), True),\n",
    "    StructField(\"Product\", StringType(), True),\n",
    "    StructField(\"Transaction_date\", StringType(), True),  # Initially as StringType\n",
    "    StructField(\"Price\", IntegerType(), True)\n",
    "])\n",
    "\n",
    "# Sample data\n",
    "source_data = [\n",
    "    (1, \"A\", \"2024-04-14\", 60),\n",
    "    (2, \"B\", \"2024-04-17\", 34),\n",
    "    (3, \"C\", \"2024-04-09\", 35),\n",
    "    (4, \"D\", \"2024-04-15\", 67),\n",
    "    (10, \"Z\", \"2023-12-25\", 109)\n",
    "]\n",
    "\n",
    "target_data = [\n",
    "    (11, \"U\", \"2024-02-28\", 101),\n",
    "    (1, \"A\", \"2024-02-28\", 2000),\n",
    "    (1, \"A\", \"2024-02-18\", 12)\n",
    "]\n",
    "\n",
    "# Create DataFrames\n",
    "source_df = spark.createDataFrame(source_data, schema=source_schema)\n",
    "target_df = spark.createDataFrame(target_data, schema=target_schema)\n",
    "\n",
    "# Convert date columns to DateType\n",
    "source_df = source_df.withColumn(\"Transaction_date\", to_date(col(\"Transaction_date\"), \"yyyy-MM-dd\"))\n",
    "target_df = target_df.withColumn(\"Transaction_date\", to_date(col(\"Transaction_date\"), \"yyyy-MM-dd\"))\n",
    "\n",
    "# Add Start_date and End_date columns to target_df\n",
    "target_df = target_df.withColumnRenamed(\"Transaction_date\", \"Start_date\") \\\n",
    "                     .withColumn(\"End_date\", lit(None).cast(DateType())) \\\n",
    "                     .withColumn(\"Status\", lit(1))\n",
    "\n",
    "# Alias the DataFrames to avoid column name conflicts\n",
    "source_df = source_df.alias(\"source\")\n",
    "target_df = target_df.alias(\"target\")\n",
    "\n",
    "# Join the source and target DataFrames to identify updates\n",
    "joined_df = source_df.join(target_df, (source_df.ID == target_df.ID) & (source_df.Product == target_df.Product), \"left\")\n",
    "\n",
    "# Separate the DataFrames into new records and existing records that need updating\n",
    "new_records = joined_df.filter(col(\"target.ID\").isNull()).select(source_df[\"*\"])\n",
    "existing_records = joined_df.filter(col(\"target.ID\").isNotNull()).select(\n",
    "    source_df[\"*\"],\n",
    "    col(\"target.Start_date\").alias(\"target_Start_date\"),\n",
    "    col(\"target.End_date\").alias(\"target_End_date\"),\n",
    "    col(\"target.Status\").alias(\"target_Status\")\n",
    ")\n",
    "\n",
    "# For existing records, update the End_date in the target DataFrame\n",
    "updated_target_df = target_df.join(existing_records, (target_df.ID == existing_records.ID) & (target_df.Product == existing_records.Product), \"inner\") \\\n",
    "    .withColumn(\"End_date\", when(col(\"source.Transaction_date\") > col(\"target_Start_date\"), date_sub(col(\"source.Transaction_date\"), 1)).otherwise(col(\"target_End_date\"))) \\\n",
    "    .withColumn(\"Status\", when(col(\"source.Transaction_date\") > col(\"target_Start_date\"), lit(0)).otherwise(col(\"target_Status\"))) \\\n",
    "    .select(\"target.ID\", \"target.Product\", \"target.Start_date\", \"End_date\", \"target.Price\", \"Status\")\n",
    "\n",
    "# Add new records to the target DataFrame with Start_date and Status 1\n",
    "new_records = new_records.withColumn(\"Start_date\", col(\"Transaction_date\")) \\\n",
    "    .withColumn(\"End_date\", lit(None).cast(DateType())) \\\n",
    "    .withColumn(\"Status\", lit(1))\n",
    "\n",
    "# Combine the updated target DataFrame with the new records\n",
    "final_target_df = updated_target_df.union(new_records.select(\"ID\", \"Product\", \"Start_date\", \"End_date\", \"Price\", \"Status\"))\n",
    "\n",
    "# Create a window specification for determining the last entry\n",
    "window_spec = Window.partitionBy(\"ID\", \"Product\").orderBy(col(\"Start_date\").desc())\n",
    "\n",
    "# Update all active records to have today's date as End_date and ensure only the last entry is active\n",
    "final_target_df = final_target_df.withColumn(\"next_Start_date\", lead(\"Start_date\").over(window_spec)) \\\n",
    "    .withColumn(\"End_date\", when(col(\"Status\") == 1, when(col(\"next_Start_date\").isNull(), current_date()).otherwise(date_sub(col(\"next_Start_date\"), 1))).otherwise(col(\"End_date\"))) \\\n",
    "    .withColumn(\"Status\", when(col(\"next_Start_date\").isNull(), lit(1)).otherwise(lit(0))) \\\n",
    "    .drop(\"next_Start_date\")\n",
    "\n",
    "# Show the final target DataFrame\n",
    "final_target_df.show(truncate=False)\n"
   ]
  },
  {
   "cell_type": "code",
   "execution_count": 0,
   "metadata": {
    "application/vnd.databricks.v1+cell": {
     "cellMetadata": {},
     "inputWidgets": {},
     "nuid": "5a082b29-7234-468a-8b59-04a3856a44c1",
     "showTitle": false,
     "tableResultSettingsMap": {},
     "title": ""
    }
   },
   "outputs": [],
   "source": []
  }
 ],
 "metadata": {
  "application/vnd.databricks.v1+notebook": {
   "dashboards": [],
   "environmentMetadata": null,
   "language": "python",
   "notebookMetadata": {
    "pythonIndentUnit": 4
   },
   "notebookName": "SCD TYPE 2",
   "widgets": {}
  }
 },
 "nbformat": 4,
 "nbformat_minor": 0
}
