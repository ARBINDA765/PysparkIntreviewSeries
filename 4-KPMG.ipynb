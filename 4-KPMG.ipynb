{
 "cells": [
  {
   "cell_type": "code",
   "execution_count": 0,
   "metadata": {
    "application/vnd.databricks.v1+cell": {
     "cellMetadata": {},
     "inputWidgets": {},
     "nuid": "0a8a92fc-82a8-410a-8bac-43987accf2c0",
     "showTitle": false,
     "title": ""
    }
   },
   "outputs": [],
   "source": [
    "'''KPMG Intreview Question'''"
   ]
  },
  {
   "cell_type": "code",
   "execution_count": 0,
   "metadata": {
    "application/vnd.databricks.v1+cell": {
     "cellMetadata": {
      "byteLimit": 2048000,
      "rowLimit": 10000
     },
     "inputWidgets": {},
     "nuid": "a5719710-261e-48e5-a92b-9ca0bc2a63f6",
     "showTitle": false,
     "title": ""
    }
   },
   "outputs": [
    {
     "output_type": "stream",
     "name": "stdout",
     "output_type": "stream",
     "text": [
      "+-----+-----+-----+\n|city1|city2|city3|\n+-----+-----+-----+\n|Goa  |     |CHN  |\n|     |CHN  |null |\n|null |     |BBSR |\n+-----+-----+-----+\n\n"
     ]
    }
   ],
   "source": [
    "from pyspark.sql.functions import *\n",
    "from pyspark.sql.types import *\n",
    "\n",
    "data=[('Goa','','CHN'),('','CHN',None),(None,'','BBSR')]\n",
    "columns=[\"city1\",\"city2\",\"city3\"]\n",
    "df=spark.createDataFrame(data=data,schema=columns)\n",
    "df.show(truncate=False)\n"
   ]
  },
  {
   "cell_type": "code",
   "execution_count": 0,
   "metadata": {
    "application/vnd.databricks.v1+cell": {
     "cellMetadata": {
      "byteLimit": 2048000,
      "rowLimit": 10000
     },
     "inputWidgets": {},
     "nuid": "11bff590-abc7-4d47-adb1-5e99d228ad1b",
     "showTitle": false,
     "title": ""
    }
   },
   "outputs": [
    {
     "output_type": "stream",
     "name": "stdout",
     "output_type": "stream",
     "text": [
      "+-----+-----+-----+------+\n|city1|city2|city3|Result|\n+-----+-----+-----+------+\n|Goa  |     |CHN  |Goa   |\n|     |CHN  |null |CHN   |\n|null |     |BBSR |BBSR  |\n+-----+-----+-----+------+\n\n"
     ]
    }
   ],
   "source": [
    "df=df.withColumn(\"Result\",coalesce(\\\n",
    "     when(df[\"city1\"]==\"\",None).otherwise(df[\"city1\"]),\\\n",
    "     when(df[\"city2\"]==\"\",None).otherwise(df[\"city2\"]),\\\n",
    "     when(df[\"city3\"]==\"\",None).otherwise(df[\"city3\"])\\\n",
    "   ))\n",
    "df.show(truncate=False)"
   ]
  },
  {
   "cell_type": "code",
   "execution_count": 0,
   "metadata": {
    "application/vnd.databricks.v1+cell": {
     "cellMetadata": {
      "byteLimit": 2048000,
      "rowLimit": 10000
     },
     "inputWidgets": {},
     "nuid": "2638fef6-3ab6-47d8-99c8-2d2acb4132ea",
     "showTitle": false,
     "title": ""
    }
   },
   "outputs": [
    {
     "output_type": "stream",
     "name": "stdout",
     "output_type": "stream",
     "text": [
      "root\n |-- city1: string (nullable = true)\n |-- city2: string (nullable = true)\n |-- city3: string (nullable = true)\n |-- Result: string (nullable = true)\n\n"
     ]
    }
   ],
   "source": [
    "df.printSchema()"
   ]
  },
  {
   "cell_type": "code",
   "execution_count": 0,
   "metadata": {
    "application/vnd.databricks.v1+cell": {
     "cellMetadata": {},
     "inputWidgets": {},
     "nuid": "973db226-126b-42fd-8b7e-5b6dda9b51ae",
     "showTitle": false,
     "title": ""
    }
   },
   "outputs": [],
   "source": []
  }
 ],
 "metadata": {
  "application/vnd.databricks.v1+notebook": {
   "dashboards": [],
   "language": "python",
   "notebookMetadata": {
    "pythonIndentUnit": 4
   },
   "notebookName": "4-KPMG",
   "widgets": {}
  }
 },
 "nbformat": 4,
 "nbformat_minor": 0
}
