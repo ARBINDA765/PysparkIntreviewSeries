{
 "cells": [
  {
   "cell_type": "markdown",
   "metadata": {
    "application/vnd.databricks.v1+cell": {
     "cellMetadata": {},
     "inputWidgets": {},
     "nuid": "ca492f67-f822-4753-a933-da5896265fec",
     "showTitle": false,
     "tableResultSettingsMap": {},
     "title": ""
    }
   },
   "source": [
    "No of records to be generated on Inner/Full/Left"
   ]
  },
  {
   "cell_type": "code",
   "execution_count": 0,
   "metadata": {
    "application/vnd.databricks.v1+cell": {
     "cellMetadata": {
      "byteLimit": 2048000,
      "rowLimit": 10000
     },
     "inputWidgets": {},
     "nuid": "38033b54-a9cb-42d6-a3da-77ee49f606c0",
     "showTitle": false,
     "tableResultSettingsMap": {},
     "title": ""
    }
   },
   "outputs": [
    {
     "output_type": "stream",
     "name": "stdout",
     "output_type": "stream",
     "text": [
      "+----+----+\n|col1|col2|\n+----+----+\n|   1|   1|\n|   2|   1|\n|   3|   1|\n|   4|   1|\n|null|null|\n+----+----+\n\n+----+----+\n|col1|col2|\n+----+----+\n|   1|   1|\n|   2|   1|\n|   3|   1|\n|   4|   1|\n|null|null|\n+----+----+\n\n"
     ]
    }
   ],
   "source": [
    "from pyspark.sql import SparkSession\n",
    "from pyspark.sql.types import StructType, StructField, IntegerType\n",
    "\n",
    "# Initialize Spark session\n",
    "spark = SparkSession.builder.appName(\"CreateTables\").getOrCreate()\n",
    "\n",
    "# Define the schema\n",
    "schema = StructType([\n",
    "    StructField(\"col1\", IntegerType(), True),\n",
    "    StructField(\"col2\", IntegerType(), True)\n",
    "])\n",
    "\n",
    "# Data for table1 and table2\n",
    "data = [\n",
    "    (1, 1),\n",
    "    (2, 1),\n",
    "    (3, 1),\n",
    "    (4, 1),\n",
    "    (None, None)\n",
    "]\n",
    "\n",
    "# Create DataFrames\n",
    "df1 = spark.createDataFrame(data, schema)\n",
    "df2 = spark.createDataFrame(data, schema)\n",
    "\n",
    "# Show the DataFrames (Tables)\n",
    "df1.show()\n",
    "df2.show()\n"
   ]
  },
  {
   "cell_type": "code",
   "execution_count": 0,
   "metadata": {
    "application/vnd.databricks.v1+cell": {
     "cellMetadata": {
      "byteLimit": 2048000,
      "rowLimit": 10000
     },
     "inputWidgets": {},
     "nuid": "83070a46-1ee1-4fd4-a57d-97c558919774",
     "showTitle": false,
     "tableResultSettingsMap": {},
     "title": ""
    }
   },
   "outputs": [],
   "source": [
    "df_inner=df1.join(df2,df1.col2==df2.col2,how=\"inner\")\n",
    "df_fullouter=df1.join(df2,df1.col2==df2.col2,how=\"full\")\n",
    "df_left=df1.join(df2,df1.col2==df2.col2,how=\"left\")\n"
   ]
  },
  {
   "cell_type": "code",
   "execution_count": 0,
   "metadata": {
    "application/vnd.databricks.v1+cell": {
     "cellMetadata": {
      "byteLimit": 2048000,
      "rowLimit": 10000
     },
     "inputWidgets": {},
     "nuid": "59111a98-880a-41c9-8e41-2ddfde85dfc0",
     "showTitle": false,
     "tableResultSettingsMap": {},
     "title": ""
    }
   },
   "outputs": [
    {
     "output_type": "stream",
     "name": "stdout",
     "output_type": "stream",
     "text": [
      "Total number of records:inner Join 16\nTotal number of records:-Full Join 18\nTotal number of records:-Left Join 17\n"
     ]
    }
   ],
   "source": [
    "# Count all the records in the DataFrame\n",
    "record_count_inner = df_inner.count()\n",
    "record_count_full=df_fullouter.count()\n",
    "record_count_left=df_left.count()\n",
    "\n",
    "# Print the count\n",
    "print(\"Total number of records:inner Join\", record_count_inner)\n",
    "print(\"Total number of records:-Full Join\", record_count_full)\n",
    "print(\"Total number of records:-Left Join\", record_count_left)\n"
   ]
  }
 ],
 "metadata": {
  "application/vnd.databricks.v1+notebook": {
   "dashboards": [],
   "environmentMetadata": null,
   "language": "python",
   "notebookMetadata": {
    "pythonIndentUnit": 4
   },
   "notebookName": "NatWest Group",
   "widgets": {}
  }
 },
 "nbformat": 4,
 "nbformat_minor": 0
}
