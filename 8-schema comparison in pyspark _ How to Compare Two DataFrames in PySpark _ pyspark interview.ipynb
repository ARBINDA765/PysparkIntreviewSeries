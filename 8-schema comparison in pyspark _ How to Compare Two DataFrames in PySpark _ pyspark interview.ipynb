{
 "cells": [
  {
   "cell_type": "markdown",
   "metadata": {
    "application/vnd.databricks.v1+cell": {
     "cellMetadata": {},
     "inputWidgets": {},
     "nuid": "faf850ac-66ea-4f08-8f95-1bba117b968e",
     "showTitle": false,
     "title": ""
    }
   },
   "source": [
    "Dynamically Should be happen- \n",
    "schema comparison in pyspark - How to Compare Two DataFrames in PySpark - pyspark interview"
   ]
  },
  {
   "cell_type": "code",
   "execution_count": 0,
   "metadata": {
    "application/vnd.databricks.v1+cell": {
     "cellMetadata": {
      "byteLimit": 2048000,
      "rowLimit": 10000
     },
     "inputWidgets": {},
     "nuid": "97b69027-a804-4adb-97e8-6440a371edab",
     "showTitle": false,
     "title": ""
    }
   },
   "outputs": [],
   "source": [
    "from pyspark.sql.functions import *\n",
    "from pyspark.sql.types import *"
   ]
  },
  {
   "cell_type": "code",
   "execution_count": 0,
   "metadata": {
    "application/vnd.databricks.v1+cell": {
     "cellMetadata": {
      "byteLimit": 2048000,
      "rowLimit": 10000
     },
     "inputWidgets": {},
     "nuid": "0ce376d9-2074-45f1-bf25-dbf8465cfcc1",
     "showTitle": false,
     "title": ""
    }
   },
   "outputs": [
    {
     "output_type": "display_data",
     "data": {
      "text/html": [
       "<style scoped>\n",
       "  .table-result-container {\n",
       "    max-height: 300px;\n",
       "    overflow: auto;\n",
       "  }\n",
       "  table, th, td {\n",
       "    border: 1px solid black;\n",
       "    border-collapse: collapse;\n",
       "  }\n",
       "  th, td {\n",
       "    padding: 5px;\n",
       "  }\n",
       "  th {\n",
       "    text-align: left;\n",
       "  }\n",
       "</style><div class='table-result-container'><table class='table-result'><thead style='background-color: white'><tr><th>Id</th><th>Name</th><th>Gender</th><th>Salary</th></tr></thead><tbody><tr><td>1</td><td>Ram</td><td>Male</td><td>100</td></tr><tr><td>2</td><td>Radhe</td><td>Female</td><td>200</td></tr><tr><td>3</td><td>John</td><td>Male</td><td>250</td></tr></tbody></table></div>"
      ]
     },
     "metadata": {
      "application/vnd.databricks.v1+output": {
       "addedWidgets": {},
       "aggData": [],
       "aggError": "",
       "aggOverflow": false,
       "aggSchema": [],
       "aggSeriesLimitReached": false,
       "aggType": "",
       "arguments": {},
       "columnCustomDisplayInfos": {},
       "data": [
        [
         1,
         "Ram",
         "Male",
         100
        ],
        [
         2,
         "Radhe",
         "Female",
         200
        ],
        [
         3,
         "John",
         "Male",
         250
        ]
       ],
       "datasetInfos": [],
       "dbfsResultPath": null,
       "isJsonSchema": true,
       "metadata": {},
       "overflow": false,
       "plotOptions": {
        "customPlotOptions": {},
        "displayType": "table",
        "pivotAggregation": null,
        "pivotColumns": null,
        "xColumns": null,
        "yColumns": null
       },
       "removedWidgets": [],
       "schema": [
        {
         "metadata": "{}",
         "name": "Id",
         "type": "\"long\""
        },
        {
         "metadata": "{}",
         "name": "Name",
         "type": "\"string\""
        },
        {
         "metadata": "{}",
         "name": "Gender",
         "type": "\"string\""
        },
        {
         "metadata": "{}",
         "name": "Salary",
         "type": "\"long\""
        }
       ],
       "type": "table"
      }
     },
     "output_type": "display_data"
    },
    {
     "output_type": "display_data",
     "data": {
      "text/html": [
       "<style scoped>\n",
       "  .table-result-container {\n",
       "    max-height: 300px;\n",
       "    overflow: auto;\n",
       "  }\n",
       "  table, th, td {\n",
       "    border: 1px solid black;\n",
       "    border-collapse: collapse;\n",
       "  }\n",
       "  th, td {\n",
       "    padding: 5px;\n",
       "  }\n",
       "  th {\n",
       "    text-align: left;\n",
       "  }\n",
       "</style><div class='table-result-container'><table class='table-result'><thead style='background-color: white'><tr><th>Id</th><th>Name</th><th>Gender</th><th>Salary</th></tr></thead><tbody><tr><td>101</td><td>John</td><td>Male</td><td>100</td></tr><tr><td>102</td><td>Joanne</td><td>Female</td><td>250</td></tr><tr><td>103</td><td>Smith</td><td>Male</td><td>250</td></tr></tbody></table></div>"
      ]
     },
     "metadata": {
      "application/vnd.databricks.v1+output": {
       "addedWidgets": {},
       "aggData": [],
       "aggError": "",
       "aggOverflow": false,
       "aggSchema": [],
       "aggSeriesLimitReached": false,
       "aggType": "",
       "arguments": {},
       "columnCustomDisplayInfos": {},
       "data": [
        [
         101,
         "John",
         "Male",
         100
        ],
        [
         102,
         "Joanne",
         "Female",
         250
        ],
        [
         103,
         "Smith",
         "Male",
         250
        ]
       ],
       "datasetInfos": [],
       "dbfsResultPath": null,
       "isJsonSchema": true,
       "metadata": {},
       "overflow": false,
       "plotOptions": {
        "customPlotOptions": {},
        "displayType": "table",
        "pivotAggregation": null,
        "pivotColumns": null,
        "xColumns": null,
        "yColumns": null
       },
       "removedWidgets": [],
       "schema": [
        {
         "metadata": "{}",
         "name": "Id",
         "type": "\"long\""
        },
        {
         "metadata": "{}",
         "name": "Name",
         "type": "\"string\""
        },
        {
         "metadata": "{}",
         "name": "Gender",
         "type": "\"string\""
        },
        {
         "metadata": "{}",
         "name": "Salary",
         "type": "\"long\""
        }
       ],
       "type": "table"
      }
     },
     "output_type": "display_data"
    },
    {
     "output_type": "display_data",
     "data": {
      "text/html": [
       "<style scoped>\n",
       "  .table-result-container {\n",
       "    max-height: 300px;\n",
       "    overflow: auto;\n",
       "  }\n",
       "  table, th, td {\n",
       "    border: 1px solid black;\n",
       "    border-collapse: collapse;\n",
       "  }\n",
       "  th, td {\n",
       "    padding: 5px;\n",
       "  }\n",
       "  th {\n",
       "    text-align: left;\n",
       "  }\n",
       "</style><div class='table-result-container'><table class='table-result'><thead style='background-color: white'><tr><th>Id</th><th>Name</th><th>DeptName</th><th>Salary</th></tr></thead><tbody><tr><td>1001</td><td>Maxwell</td><td>IT</td><td>200</td></tr><tr><td>2</td><td>MSD</td><td>HR</td><td>350</td></tr><tr><td>3</td><td>Virat</td><td>IT</td><td>300</td></tr></tbody></table></div>"
      ]
     },
     "metadata": {
      "application/vnd.databricks.v1+output": {
       "addedWidgets": {},
       "aggData": [],
       "aggError": "",
       "aggOverflow": false,
       "aggSchema": [],
       "aggSeriesLimitReached": false,
       "aggType": "",
       "arguments": {},
       "columnCustomDisplayInfos": {},
       "data": [
        [
         1001,
         "Maxwell",
         "IT",
         200
        ],
        [
         2,
         "MSD",
         "HR",
         350
        ],
        [
         3,
         "Virat",
         "IT",
         300
        ]
       ],
       "datasetInfos": [],
       "dbfsResultPath": null,
       "isJsonSchema": true,
       "metadata": {},
       "overflow": false,
       "plotOptions": {
        "customPlotOptions": {},
        "displayType": "table",
        "pivotAggregation": null,
        "pivotColumns": null,
        "xColumns": null,
        "yColumns": null
       },
       "removedWidgets": [],
       "schema": [
        {
         "metadata": "{}",
         "name": "Id",
         "type": "\"long\""
        },
        {
         "metadata": "{}",
         "name": "Name",
         "type": "\"string\""
        },
        {
         "metadata": "{}",
         "name": "DeptName",
         "type": "\"string\""
        },
        {
         "metadata": "{}",
         "name": "Salary",
         "type": "\"long\""
        }
       ],
       "type": "table"
      }
     },
     "output_type": "display_data"
    }
   ],
   "source": [
    "#Create dataframe:\n",
    "#======================================================\n",
    "data1=[(1,\"Ram\",\"Male\",100),(2,\"Radhe\",\"Female\",200),(3,\"John\",\"Male\",250)]\n",
    "data2=[(101,\"John\",\"Male\",100),(102,\"Joanne\",\"Female\",250),(103,\"Smith\",\"Male\",250)]\n",
    "data3=[(1001,\"Maxwell\",\"IT\",200),(2,\"MSD\",\"HR\",350),(3,\"Virat\",\"IT\",300)]\n",
    "schema1=[\"Id\",\"Name\",\"Gender\",\"Salary\"]\n",
    "schema2=[\"Id\",\"Name\",\"Gender\",\"Salary\"]\n",
    "schema3=[\"Id\",\"Name\",\"DeptName\",\"Salary\"]\n",
    "df1=spark.createDataFrame(data1,schema1)\n",
    "df2=spark.createDataFrame(data2,schema2)\n",
    "df3=spark.createDataFrame(data3,schema3)\n",
    "display(df1)\n",
    "display(df2)\n",
    "display(df3)"
   ]
  },
  {
   "cell_type": "code",
   "execution_count": 0,
   "metadata": {
    "application/vnd.databricks.v1+cell": {
     "cellMetadata": {
      "byteLimit": 2048000,
      "rowLimit": 10000
     },
     "inputWidgets": {},
     "nuid": "3029df80-9510-4173-b5e7-d2c8a5d37f9d",
     "showTitle": false,
     "title": ""
    }
   },
   "outputs": [
    {
     "output_type": "stream",
     "name": "stdout",
     "output_type": "stream",
     "text": [
      "Schema not matched\n[StructField('Gender', StringType(), True)]\n[StructField('DeptName', StringType(), True)]\n"
     ]
    }
   ],
   "source": [
    "\n",
    "#Check schemas are equal or not\n",
    "if df1.schema==df3.schema:\n",
    "    print('Schema Matched')\n",
    "else:\n",
    "    print('Schema not matched')\n",
    "\n",
    "print(list(set(df1.schema)-set(df3.schema)))\n",
    "print(list(set(df3.schema)-set(df1.schema)))"
   ]
  },
  {
   "cell_type": "code",
   "execution_count": 0,
   "metadata": {
    "application/vnd.databricks.v1+cell": {
     "cellMetadata": {
      "byteLimit": 2048000,
      "rowLimit": 10000
     },
     "inputWidgets": {},
     "nuid": "e831b6bd-31a0-4e7d-b7bb-d591e055546d",
     "showTitle": false,
     "title": ""
    }
   },
   "outputs": [],
   "source": [
    "#There are two schemas & will check the schema if it is not equal then will add dummy columns in the respective dataframe \n",
    "# so that will help to do the union \n",
    "if df1.schema.names!=df3.schema.names:\n",
    "    unique_col=df1.schema.names+df3.schema.names\n",
    "    unique_col=list(set(unique_col))\n",
    "    for i in unique_col:\n",
    "        if i not in df1.schema.names:\n",
    "            df1=df1.withColumn(i,lit(None))\n",
    "        elif i not in df3.schema.names:    \n",
    "            df3=df3.withColumn(i,lit(None))\n",
    "else:\n",
    "    print(\"Schemas are Equal\")"
   ]
  },
  {
   "cell_type": "code",
   "execution_count": 0,
   "metadata": {
    "application/vnd.databricks.v1+cell": {
     "cellMetadata": {
      "byteLimit": 2048000,
      "rowLimit": 10000
     },
     "inputWidgets": {},
     "nuid": "fd23e481-5aad-4bf7-a353-2ed291f29028",
     "showTitle": false,
     "title": ""
    }
   },
   "outputs": [
    {
     "output_type": "stream",
     "name": "stdout",
     "output_type": "stream",
     "text": [
      "Out[30]: ['Id', 'Name', 'DeptName', 'Salary', 'Gender']"
     ]
    }
   ],
   "source": [
    "#After the adding the dummy columns \n",
    "df3.schema.names\n"
   ]
  },
  {
   "cell_type": "code",
   "execution_count": 0,
   "metadata": {
    "application/vnd.databricks.v1+cell": {
     "cellMetadata": {
      "byteLimit": 2048000,
      "rowLimit": 10000
     },
     "inputWidgets": {},
     "nuid": "06b9238c-5b36-498c-b6da-6d22080f7d9c",
     "showTitle": false,
     "title": ""
    }
   },
   "outputs": [
    {
     "output_type": "stream",
     "name": "stdout",
     "output_type": "stream",
     "text": [
      "Out[31]: ['Id', 'Name', 'Gender', 'Salary', 'DeptName']"
     ]
    }
   ],
   "source": [
    "#Adding the columns after the operation\n",
    "df1.schema.names"
   ]
  },
  {
   "cell_type": "code",
   "execution_count": 0,
   "metadata": {
    "application/vnd.databricks.v1+cell": {
     "cellMetadata": {
      "byteLimit": 2048000,
      "rowLimit": 10000
     },
     "inputWidgets": {},
     "nuid": "21bb9a88-0a51-4496-836a-4ae9d863b2f8",
     "showTitle": false,
     "title": ""
    }
   },
   "outputs": [],
   "source": []
  }
 ],
 "metadata": {
  "application/vnd.databricks.v1+notebook": {
   "dashboards": [],
   "language": "python",
   "notebookMetadata": {
    "pythonIndentUnit": 4
   },
   "notebookName": "8-schema comparison in pyspark | How to Compare Two DataFrames in PySpark | pyspark interview",
   "widgets": {}
  }
 },
 "nbformat": 4,
 "nbformat_minor": 0
}
