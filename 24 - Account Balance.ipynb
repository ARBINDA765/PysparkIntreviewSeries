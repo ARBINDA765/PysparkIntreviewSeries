{
 "cells": [
  {
   "cell_type": "code",
   "execution_count": 0,
   "metadata": {
    "application/vnd.databricks.v1+cell": {
     "cellMetadata": {
      "byteLimit": 2048000,
      "rowLimit": 10000
     },
     "inputWidgets": {},
     "nuid": "9a4b473d-aa5d-46c1-a1d7-391440f492cb",
     "showTitle": false,
     "title": ""
    }
   },
   "outputs": [
    {
     "output_type": "stream",
     "name": "stdout",
     "output_type": "stream",
     "text": [
      "+---+-----------+---------+------+\n| id|from_userid|to_userid|amount|\n+---+-----------+---------+------+\n|  1|        100|      102|   500|\n|  2|        102|      101|   700|\n|  3|        101|      102|   600|\n|  4|        102|      100|  1500|\n|  5|        102|      101|   800|\n|  6|        102|      101|   300|\n+---+-----------+---------+------+\n\n+-------+--------+---------------+\n|user_id|username|opening_balance|\n+-------+--------+---------------+\n|    100|   Ankit|           1000|\n|    101|   Rahul|           9000|\n|    102|    Amit|           5000|\n|    103|    Agam|           7500|\n+-------+--------+---------------+\n\n"
     ]
    }
   ],
   "source": [
    "from pyspark.sql import SparkSession\n",
    "from pyspark.sql.types import *\n",
    "from pyspark.sql.functions import *\n",
    "\n",
    "# Initialize a SparkSession\n",
    "spark = SparkSession.builder \\\n",
    "    .appName(\"Create DataFrame Example\") \\\n",
    "    .getOrCreate()\n",
    "\n",
    "# Define the schema\n",
    "schema = StructType([\n",
    "    StructField(\"user_id\", IntegerType(), nullable=False),\n",
    "    StructField(\"username\", StringType(), nullable=False),\n",
    "    StructField(\"opening_balance\", IntegerType(), nullable=False)\n",
    "])\n",
    "\n",
    "# Define the data\n",
    "data = [\n",
    "    (100, \"Ankit\", 1000),\n",
    "    (101, \"Rahul\", 9000),\n",
    "    (102, \"Amit\", 5000),\n",
    "    (103, \"Agam\", 7500)\n",
    "]\n",
    "\n",
    "# Create the DataFrame\n",
    "users_df = spark.createDataFrame(data, schema)\n",
    "\n",
    "\n",
    "# Define the schema\n",
    "schema_trans = StructType([\n",
    "    StructField(\"id\", IntegerType(), nullable=False),\n",
    "    StructField(\"from_userid\", IntegerType(), nullable=False),\n",
    "    StructField(\"to_userid\", IntegerType(), nullable=False),\n",
    "    StructField(\"amount\", IntegerType(), nullable=False)\n",
    "])\n",
    "\n",
    "# Define the data\n",
    "data_trans = [\n",
    "    (1, 100, 102, 500),\n",
    "    (2, 102, 101, 700),\n",
    "    (3, 101, 102, 600),\n",
    "    (4, 102, 100, 1500),\n",
    "    (5, 102, 101, 800),\n",
    "    (6, 102, 101, 300)\n",
    "]\n",
    "\n",
    "# Create the DataFrame\n",
    "transactions_df = spark.createDataFrame(data_trans, schema_trans)\n",
    "transactions_df.show()\n",
    "users_df.show()\n"
   ]
  },
  {
   "cell_type": "code",
   "execution_count": 0,
   "metadata": {
    "application/vnd.databricks.v1+cell": {
     "cellMetadata": {
      "byteLimit": 2048000,
      "rowLimit": 10000
     },
     "inputWidgets": {},
     "nuid": "effa4903-0ae8-45a4-9d74-5819b2873010",
     "showTitle": false,
     "title": ""
    }
   },
   "outputs": [
    {
     "output_type": "stream",
     "name": "stdout",
     "output_type": "stream",
     "text": [
      "+-------+--------+---------------+\n|user_id|username|closing_balance|\n+-------+--------+---------------+\n|    100|   Ankit|           2000|\n|    102|    Amit|           2800|\n|    103|    Agam|           7500|\n|    101|   Rahul|          10200|\n+-------+--------+---------------+\n\n"
     ]
    }
   ],
   "source": [
    "credit_df=transactions_df.groupby('to_userid').agg(sum(col('amount')).alias('credit'))\n",
    "debit_df=transactions_df.groupby('from_userid').agg(sum(col('amount')).alias('debit'))\n",
    "credit_debit_df=credit_df.join(debit_df,on=[credit_df.to_userid==debit_df.from_userid],how='inner')\n",
    "credit_debit_df=credit_debit_df.select('to_userid','credit','debit')\n",
    "ans_df=users_df.join(credit_debit_df,on=[users_df.user_id==credit_debit_df.to_userid],how='left')\n",
    "ans_df=ans_df.select('user_id','username','opening_balance','credit','debit')\n",
    "ans_df=ans_df.withColumn('closing_balance',(ans_df['opening_balance'] + ans_df['credit'])-ans_df['debit'])\n",
    "ans_df=ans_df.withColumn('closing_balance', when(col('closing_balance').isNull(), col('opening_balance')).otherwise(col('closing_balance')))\n",
    "ans_df=ans_df.select('user_id','username','closing_balance')\n",
    "ans_df=ans_df.orderBy(col('closing_balance'))\n",
    "ans_df.show()\n"
   ]
  },
  {
   "cell_type": "code",
   "execution_count": 0,
   "metadata": {
    "application/vnd.databricks.v1+cell": {
     "cellMetadata": {},
     "inputWidgets": {},
     "nuid": "8af76fae-3e9d-4ca0-916a-14df7f786650",
     "showTitle": false,
     "title": ""
    }
   },
   "outputs": [],
   "source": []
  }
 ],
 "metadata": {
  "application/vnd.databricks.v1+notebook": {
   "dashboards": [],
   "environmentMetadata": null,
   "language": "python",
   "notebookMetadata": {
    "pythonIndentUnit": 4
   },
   "notebookName": "24 - Account Balance",
   "widgets": {}
  }
 },
 "nbformat": 4,
 "nbformat_minor": 0
}
