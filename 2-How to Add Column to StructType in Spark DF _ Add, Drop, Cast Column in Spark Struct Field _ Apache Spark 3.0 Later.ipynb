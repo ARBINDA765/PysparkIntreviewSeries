{
 "cells": [
  {
   "cell_type": "code",
   "execution_count": 0,
   "metadata": {
    "application/vnd.databricks.v1+cell": {
     "cellMetadata": {},
     "inputWidgets": {},
     "nuid": "95bbc816-2f24-4b69-a44f-130b6f71b763",
     "showTitle": false,
     "title": ""
    }
   },
   "outputs": [],
   "source": [
    "'''  \n",
    "We need to Add column called discount to the fruits, which is of struct type.\n",
    "Remove the column called rate under vegetables.\n",
    "Cast the existing rate column found under Stationary field.\n",
    " /FileStore/tables/mart_in_json.json\n",
    "'''"
   ]
  },
  {
   "cell_type": "code",
   "execution_count": 0,
   "metadata": {
    "application/vnd.databricks.v1+cell": {
     "cellMetadata": {
      "byteLimit": 2048000,
      "rowLimit": 10000
     },
     "inputWidgets": {},
     "nuid": "00caf02a-94b4-435f-9689-bf63fa48ac8d",
     "showTitle": false,
     "title": ""
    }
   },
   "outputs": [],
   "source": [
    "from pyspark.sql.functions import *\n",
    "from pyspark.sql.types import *\n"
   ]
  },
  {
   "cell_type": "code",
   "execution_count": 0,
   "metadata": {
    "application/vnd.databricks.v1+cell": {
     "cellMetadata": {
      "byteLimit": 2048000,
      "rowLimit": 10000
     },
     "inputWidgets": {},
     "nuid": "e366dffe-ae5f-4908-aaa7-f703a7e6dc45",
     "showTitle": false,
     "title": ""
    }
   },
   "outputs": [],
   "source": [
    "#DataFrame Created\n",
    "df_original=spark.read.format(\"json\")\\\n",
    "    .option(\"multiline\",\"true\")\\\n",
    "    .load(\"/FileStore/tables/mart_in_json.json\")"
   ]
  },
  {
   "cell_type": "code",
   "execution_count": 0,
   "metadata": {
    "application/vnd.databricks.v1+cell": {
     "cellMetadata": {
      "byteLimit": 2048000,
      "rowLimit": 10000
     },
     "inputWidgets": {},
     "nuid": "476e6e4d-2c2b-4333-869e-320ee6d11ca7",
     "showTitle": false,
     "title": ""
    }
   },
   "outputs": [
    {
     "output_type": "stream",
     "name": "stdout",
     "output_type": "stream",
     "text": [
      "root\n |-- Appliance: struct (nullable = true)\n |    |-- item: string (nullable = true)\n |    |-- rate: double (nullable = true)\n |-- Area: string (nullable = true)\n |-- Month: long (nullable = true)\n |-- Stationary: struct (nullable = true)\n |    |-- item: string (nullable = true)\n |    |-- rate: double (nullable = true)\n |-- Type: string (nullable = true)\n |-- Vegetable: struct (nullable = true)\n |    |-- item: string (nullable = true)\n |    |-- rate: double (nullable = true)\n |-- fruits: struct (nullable = true)\n |    |-- item: string (nullable = true)\n |    |-- rate: double (nullable = true)\n |-- year: long (nullable = true)\n\n"
     ]
    }
   ],
   "source": [
    "#Checking the schema\n",
    "df_original.printSchema()"
   ]
  },
  {
   "cell_type": "code",
   "execution_count": 0,
   "metadata": {
    "application/vnd.databricks.v1+cell": {
     "cellMetadata": {
      "byteLimit": 2048000,
      "rowLimit": 10000
     },
     "inputWidgets": {},
     "nuid": "654858cd-e29d-4239-b108-28ce10420d45",
     "showTitle": false,
     "title": ""
    }
   },
   "outputs": [
    {
     "output_type": "stream",
     "name": "stdout",
     "output_type": "stream",
     "text": [
      "Out[5]: ['Appliance',\n 'Area',\n 'Month',\n 'Stationary',\n 'Type',\n 'Vegetable',\n 'fruits',\n 'year']"
     ]
    }
   ],
   "source": [
    "#All the struct Names\n",
    "df_original.schema.names"
   ]
  },
  {
   "cell_type": "code",
   "execution_count": 0,
   "metadata": {
    "application/vnd.databricks.v1+cell": {
     "cellMetadata": {
      "byteLimit": 2048000,
      "rowLimit": 10000
     },
     "inputWidgets": {},
     "nuid": "d9a82860-cc57-43d8-8f89-9d36325c77ad",
     "showTitle": false,
     "title": ""
    }
   },
   "outputs": [],
   "source": [
    "\n",
    "#Adding a new column\n",
    "##Column got created WITH EXITING NAME \n",
    "updated_col=df_original[\"fruits\"].withField(\"discount\",lit(10))"
   ]
  },
  {
   "cell_type": "code",
   "execution_count": 0,
   "metadata": {
    "application/vnd.databricks.v1+cell": {
     "cellMetadata": {
      "byteLimit": 2048000,
      "rowLimit": 10000
     },
     "inputWidgets": {},
     "nuid": "915dacac-046a-44a3-805b-1a4b8958e8fb",
     "showTitle": false,
     "title": ""
    }
   },
   "outputs": [
    {
     "output_type": "stream",
     "name": "stdout",
     "output_type": "stream",
     "text": [
      "root\n |-- Appliance: struct (nullable = true)\n |    |-- item: string (nullable = true)\n |    |-- rate: double (nullable = true)\n |-- Area: string (nullable = true)\n |-- Month: long (nullable = true)\n |-- Stationary: struct (nullable = true)\n |    |-- item: string (nullable = true)\n |    |-- rate: double (nullable = true)\n |-- Type: string (nullable = true)\n |-- Vegetable: struct (nullable = true)\n |    |-- item: string (nullable = true)\n |    |-- rate: double (nullable = true)\n |-- fruits: struct (nullable = true)\n |    |-- item: string (nullable = true)\n |    |-- rate: double (nullable = true)\n |    |-- discount: integer (nullable = false)\n |-- year: long (nullable = true)\n\n"
     ]
    }
   ],
   "source": [
    "#Replacing the same column\n",
    "df_original.withColumn(\"fruits\",updated_col).printSchema()"
   ]
  },
  {
   "cell_type": "code",
   "execution_count": 0,
   "metadata": {
    "application/vnd.databricks.v1+cell": {
     "cellMetadata": {
      "byteLimit": 2048000,
      "rowLimit": 10000
     },
     "inputWidgets": {},
     "nuid": "c543f130-17d5-40a0-88c6-212bca4aec68",
     "showTitle": false,
     "title": ""
    }
   },
   "outputs": [
    {
     "output_type": "stream",
     "name": "stdout",
     "output_type": "stream",
     "text": [
      "root\n |-- Appliance: struct (nullable = true)\n |    |-- item: string (nullable = true)\n |    |-- rate: double (nullable = true)\n |-- Area: string (nullable = true)\n |-- Month: long (nullable = true)\n |-- Stationary: struct (nullable = true)\n |    |-- item: string (nullable = true)\n |    |-- rate: double (nullable = true)\n |-- Type: string (nullable = true)\n |-- Vegetable: struct (nullable = true)\n |    |-- item: string (nullable = true)\n |    |-- rate: double (nullable = true)\n |-- fruits: struct (nullable = true)\n |    |-- item: string (nullable = true)\n |    |-- rate: double (nullable = true)\n |    |-- discount: integer (nullable = false)\n |-- year: long (nullable = true)\n\n"
     ]
    }
   ],
   "source": [
    "#Approach-2 withField\n",
    "df_original=df_original.withColumn(\"fruits\",df_original[\"fruits\"].withField(\"discount\",lit(10)))\n",
    "df_original.printSchema()"
   ]
  },
  {
   "cell_type": "code",
   "execution_count": 0,
   "metadata": {
    "application/vnd.databricks.v1+cell": {
     "cellMetadata": {
      "byteLimit": 2048000,
      "rowLimit": 10000
     },
     "inputWidgets": {},
     "nuid": "5c2b95d9-93b0-42b5-9ab1-f6f6de2867ae",
     "showTitle": false,
     "title": ""
    }
   },
   "outputs": [
    {
     "output_type": "stream",
     "name": "stdout",
     "output_type": "stream",
     "text": [
      "root\n |-- Appliance: struct (nullable = true)\n |    |-- item: string (nullable = true)\n |    |-- rate: double (nullable = true)\n |-- Area: string (nullable = true)\n |-- Month: long (nullable = true)\n |-- Stationary: struct (nullable = true)\n |    |-- item: string (nullable = true)\n |    |-- rate: double (nullable = true)\n |-- Type: string (nullable = true)\n |-- Vegetable: struct (nullable = true)\n |    |-- item: string (nullable = true)\n |-- fruits: struct (nullable = true)\n |    |-- item: string (nullable = true)\n |    |-- rate: double (nullable = true)\n |    |-- discount: integer (nullable = false)\n |-- year: long (nullable = true)\n\n"
     ]
    }
   ],
   "source": [
    "#Drop the fields\n",
    "df_original_delete=df_original.withColumn(\"Vegetable\",df_original[\"Vegetable\"].dropFields(\"rate\"))\n",
    "df_original_delete.printSchema()"
   ]
  },
  {
   "cell_type": "code",
   "execution_count": 0,
   "metadata": {
    "application/vnd.databricks.v1+cell": {
     "cellMetadata": {
      "byteLimit": 2048000,
      "rowLimit": 10000
     },
     "inputWidgets": {},
     "nuid": "1622b046-5a3f-44d4-b093-b16758bb1291",
     "showTitle": false,
     "title": ""
    }
   },
   "outputs": [],
   "source": [
    "#3 Cast the existing rate column found under Stationary field.\n",
    "df_original_dtatype=df_original.withColumn(\"Stationary\",df_original[\"Stationary\"].rate.cast(\"int\"))"
   ]
  },
  {
   "cell_type": "code",
   "execution_count": 0,
   "metadata": {
    "application/vnd.databricks.v1+cell": {
     "cellMetadata": {
      "byteLimit": 2048000,
      "rowLimit": 10000
     },
     "inputWidgets": {},
     "nuid": "ca6e6aaf-b2b5-429d-8c90-021f6a47dc46",
     "showTitle": false,
     "title": ""
    }
   },
   "outputs": [
    {
     "output_type": "stream",
     "name": "stdout",
     "output_type": "stream",
     "text": [
      "root\n |-- Appliance: struct (nullable = true)\n |    |-- item: string (nullable = true)\n |    |-- rate: double (nullable = true)\n |-- Area: string (nullable = true)\n |-- Month: long (nullable = true)\n |-- Stationary: integer (nullable = true)\n |-- Type: string (nullable = true)\n |-- Vegetable: struct (nullable = true)\n |    |-- item: string (nullable = true)\n |    |-- rate: double (nullable = true)\n |-- fruits: struct (nullable = true)\n |    |-- item: string (nullable = true)\n |    |-- rate: double (nullable = true)\n |    |-- discount: integer (nullable = false)\n |-- year: long (nullable = true)\n\n"
     ]
    }
   ],
   "source": [
    "df_original_dtatype.printSchema()"
   ]
  },
  {
   "cell_type": "code",
   "execution_count": 0,
   "metadata": {
    "application/vnd.databricks.v1+cell": {
     "cellMetadata": {},
     "inputWidgets": {},
     "nuid": "4d436739-d633-4af1-b99a-a36c4cf0bf8d",
     "showTitle": false,
     "title": ""
    }
   },
   "outputs": [],
   "source": []
  }
 ],
 "metadata": {
  "application/vnd.databricks.v1+notebook": {
   "dashboards": [],
   "language": "python",
   "notebookMetadata": {
    "pythonIndentUnit": 4
   },
   "notebookName": "2-How to Add Column to StructType in Spark DF | Add, Drop, Cast Column in Spark Struct Field | Apache Spark 3.0 Later",
   "widgets": {}
  }
 },
 "nbformat": 4,
 "nbformat_minor": 0
}
