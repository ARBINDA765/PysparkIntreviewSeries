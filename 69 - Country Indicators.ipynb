{
 "cells": [
  {
   "cell_type": "markdown",
   "metadata": {
    "application/vnd.databricks.v1+cell": {
     "cellMetadata": {},
     "inputWidgets": {},
     "nuid": "d2df554b-f649-4e9d-84d2-a4682fc9c740",
     "showTitle": false,
     "tableResultSettingsMap": {},
     "title": ""
    }
   },
   "source": [
    "In the realm of global indicators and country-level assessments, it's imperative to identify the years in which certain indicators hit their lowest values for each country. Leveraging a dataset provided by government, which contains indicators across multiple years for various countries, your task is to formulate an SQL query to find the following information:\n",
    "For each country and indicator combination, determine the year in which the indicator value was lowest, along with the corresponding indicator value. Sort the output by country name and indicator name."
   ]
  },
  {
   "cell_type": "markdown",
   "metadata": {
    "application/vnd.databricks.v1+cell": {
     "cellMetadata": {},
     "inputWidgets": {},
     "nuid": "387e9f8a-6519-448c-bb60-16dde03358fe",
     "showTitle": false,
     "tableResultSettingsMap": {},
     "title": ""
    }
   },
   "source": [
    "What is stack in PySpark?\n",
    "stack is a PySpark function that helps unpivot a DataFrame. It converts multiple columns into rows, which is essential when dealing with wide data formats that need to be transformed into long formats.\n",
    "\n",
    "Syntax:\n",
    "python\n",
    "Copy code\n",
    "stack(n, col1, val1, col2, val2, ..., colN, valN)\n",
    "n: The number of columns to unpivot (must match the number of col and val pairs).\n",
    "col1, val1...: Column names and their corresponding values to create rows.\n",
    "The result of stack will generate two columns:\n",
    "\n",
    "One for the column names (you can rename it later).\n",
    "One for the values associated with those columns."
   ]
  },
  {
   "cell_type": "code",
   "execution_count": 0,
   "metadata": {
    "application/vnd.databricks.v1+cell": {
     "cellMetadata": {
      "byteLimit": 2048000,
      "rowLimit": 10000
     },
     "inputWidgets": {},
     "nuid": "4e15ff1b-5585-4db4-a03d-d3b8bc2a658b",
     "showTitle": false,
     "tableResultSettingsMap": {},
     "title": ""
    }
   },
   "outputs": [
    {
     "output_type": "display_data",
     "data": {
      "text/html": [
       "<style scoped>\n",
       "  .table-result-container {\n",
       "    max-height: 300px;\n",
       "    overflow: auto;\n",
       "  }\n",
       "  table, th, td {\n",
       "    border: 1px solid black;\n",
       "    border-collapse: collapse;\n",
       "  }\n",
       "  th, td {\n",
       "    padding: 5px;\n",
       "  }\n",
       "  th {\n",
       "    text-align: left;\n",
       "  }\n",
       "</style><div class='table-result-container'><table class='table-result'><thead style='background-color: white'><tr><th>country_name</th><th>indicator_name</th><th>indicator_value</th><th>year_number</th></tr></thead><tbody><tr><td>Canada</td><td>Control of Corruption</td><td>1.46</td><td>2010</td></tr><tr><td>Canada</td><td>Government Effectiveness</td><td>1.35</td><td>2013</td></tr><tr><td>Canada</td><td>Regulatory Quality</td><td>1.38</td><td>2010</td></tr><tr><td>Canada</td><td>Rule of Law</td><td>1.42</td><td>2010</td></tr><tr><td>Canada</td><td>Voice and Accountability</td><td>1.09</td><td>2014</td></tr><tr><td>United States</td><td>Control of Corruption</td><td>1.26</td><td>2010</td></tr><tr><td>United States</td><td>Government Effectiveness</td><td>1.25</td><td>2013</td></tr><tr><td>United States</td><td>Regulatory Quality</td><td>1.28</td><td>2010</td></tr><tr><td>United States</td><td>Rule of Law</td><td>1.32</td><td>2010</td></tr><tr><td>United States</td><td>Voice and Accountability</td><td>1.05</td><td>2014</td></tr></tbody></table></div>"
      ]
     },
     "metadata": {
      "application/vnd.databricks.v1+output": {
       "addedWidgets": {},
       "aggData": [],
       "aggError": "",
       "aggOverflow": false,
       "aggSchema": [],
       "aggSeriesLimitReached": false,
       "aggType": "",
       "arguments": {},
       "columnCustomDisplayInfos": {},
       "data": [
        [
         "Canada",
         "Control of Corruption",
         1.46,
         2010
        ],
        [
         "Canada",
         "Government Effectiveness",
         1.35,
         2013
        ],
        [
         "Canada",
         "Regulatory Quality",
         1.38,
         2010
        ],
        [
         "Canada",
         "Rule of Law",
         1.42,
         2010
        ],
        [
         "Canada",
         "Voice and Accountability",
         1.09,
         2014
        ],
        [
         "United States",
         "Control of Corruption",
         1.26,
         2010
        ],
        [
         "United States",
         "Government Effectiveness",
         1.25,
         2013
        ],
        [
         "United States",
         "Regulatory Quality",
         1.28,
         2010
        ],
        [
         "United States",
         "Rule of Law",
         1.32,
         2010
        ],
        [
         "United States",
         "Voice and Accountability",
         1.05,
         2014
        ]
       ],
       "datasetInfos": [],
       "dbfsResultPath": null,
       "isJsonSchema": true,
       "metadata": {},
       "overflow": false,
       "plotOptions": {
        "customPlotOptions": {},
        "displayType": "table",
        "pivotAggregation": null,
        "pivotColumns": null,
        "xColumns": null,
        "yColumns": null
       },
       "removedWidgets": [],
       "schema": [
        {
         "metadata": "{}",
         "name": "country_name",
         "type": "\"string\""
        },
        {
         "metadata": "{}",
         "name": "indicator_name",
         "type": "\"string\""
        },
        {
         "metadata": "{}",
         "name": "indicator_value",
         "type": "\"double\""
        },
        {
         "metadata": "{}",
         "name": "year_number",
         "type": "\"integer\""
        }
       ],
       "type": "table"
      }
     },
     "output_type": "display_data"
    }
   ],
   "source": [
    "from pyspark.sql import SparkSession\n",
    "from pyspark.sql.functions import col, row_number\n",
    "from pyspark.sql.window import Window\n",
    "\n",
    "# Initialize Spark session\n",
    "spark = SparkSession.builder.appName(\"GlobalIndicators\").getOrCreate()\n",
    "\n",
    "# Sample input data\n",
    "data = [\n",
    "    (\"United States\", \"Control of Corruption\", 1.26, 1.51, 1.52, 1.50, 1.46),\n",
    "    (\"United States\", \"Government Effectiveness\", 1.27, 1.45, 1.28, 1.25, 1.27),\n",
    "    (\"United States\", \"Regulatory Quality\", 1.28, 1.63, 1.63, 1.54, 1.62),\n",
    "    (\"United States\", \"Rule of Law\", 1.32, 1.61, 1.60, 1.54, 1.62),\n",
    "    (\"United States\", \"Voice and Accountability\", 1.30, 1.11, 1.13, 1.08, 1.05),\n",
    "    (\"Canada\", \"Control of Corruption\", 1.46, 1.61, 1.71, 1.50, 1.56),\n",
    "    (\"Canada\", \"Government Effectiveness\", 1.47, 1.55, 1.38, 1.35, 1.47),\n",
    "    (\"Canada\", \"Regulatory Quality\", 1.38, 1.73, 1.63, 1.59, 1.68),\n",
    "    (\"Canada\", \"Rule of Law\", 1.42, 1.71, 1.80, 1.64, 1.72),\n",
    "    (\"Canada\", \"Voice and Accountability\", 1.40, 1.19, 1.21, 1.16, 1.09)\n",
    "]\n",
    "\n",
    "schema = [\"country_name\", \"indicator_name\", \"year_2010\", \"year_2011\", \"year_2012\", \"year_2013\", \"year_2014\"]\n",
    "\n",
    "# Create DataFrame\n",
    "df = spark.createDataFrame(data, schema=schema)\n",
    "\n",
    "# Step 1: Unpivot the data\n",
    "unpivoted_df = df.selectExpr(\n",
    "    \"country_name\",\n",
    "    \"indicator_name\",\n",
    "    \"stack(5, '2010', year_2010, '2011', year_2011, '2012', year_2012, '2013', year_2013, '2014', year_2014) as (year_number, indicator_value)\"\n",
    ")\n",
    "\n",
    "# Converting year_number to integer\n",
    "unpivoted_df = unpivoted_df.withColumn(\"year_number\", col(\"year_number\").cast(\"int\"))\n",
    "\n",
    "#  Add row numbers for ranking using row_number by indicator_value ascending\n",
    "window_spec = Window.partitionBy(\"country_name\", \"indicator_name\").orderBy(col(\"indicator_value\").asc())\n",
    "ranked_df = unpivoted_df.withColumn(\"rn\", row_number().over(window_spec))\n",
    "\n",
    "# Step 3: Filter for the minimum indicator value\n",
    "result_df = ranked_df.filter(col(\"rn\") == 1).select(\n",
    "    \"country_name\", \"indicator_name\", \"indicator_value\", \"year_number\"\n",
    ").orderBy(\"country_name\", \"indicator_name\")\n",
    "\n",
    "# Show the result\n",
    "result_df.display()\n"
   ]
  },
  {
   "cell_type": "code",
   "execution_count": 0,
   "metadata": {
    "application/vnd.databricks.v1+cell": {
     "cellMetadata": {},
     "inputWidgets": {},
     "nuid": "87e370d1-f99a-43f0-85f2-fe36ba63ba5a",
     "showTitle": false,
     "tableResultSettingsMap": {},
     "title": ""
    }
   },
   "outputs": [],
   "source": []
  }
 ],
 "metadata": {
  "application/vnd.databricks.v1+notebook": {
   "dashboards": [],
   "environmentMetadata": null,
   "language": "python",
   "notebookMetadata": {
    "pythonIndentUnit": 4
   },
   "notebookName": "69 - Country Indicators",
   "widgets": {}
  }
 },
 "nbformat": 4,
 "nbformat_minor": 0
}
