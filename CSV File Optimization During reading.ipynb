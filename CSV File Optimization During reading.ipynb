{
 "cells": [
  {
   "cell_type": "markdown",
   "metadata": {
    "application/vnd.databricks.v1+cell": {
     "cellMetadata": {},
     "inputWidgets": {},
     "nuid": "dc802851-eaa4-4d33-993a-4228de475b7b",
     "showTitle": false,
     "tableResultSettingsMap": {},
     "title": ""
    }
   },
   "source": [
    "Optimizing the reading of CSV files in PySpark can significantly improve performance, especially when dealing with large datasets. Here are some tips and techniques to optimize CSV file reading in PySpark:\n"
   ]
  },
  {
   "cell_type": "code",
   "execution_count": 0,
   "metadata": {
    "application/vnd.databricks.v1+cell": {
     "cellMetadata": {
      "byteLimit": 2048000,
      "rowLimit": 10000
     },
     "inputWidgets": {},
     "nuid": "82d67974-070d-48bd-ab0a-1f3daab1200f",
     "showTitle": false,
     "tableResultSettingsMap": {},
     "title": ""
    }
   },
   "outputs": [],
   "source": [
    "from pyspark.sql.functions import *\n",
    "from pyspark.sql.types import *\n",
    "from pyspark.sql import SparkSession\n",
    "spark=SparkSession.builder.appName(\"CSV Operation\").getOrCreate()"
   ]
  },
  {
   "cell_type": "code",
   "execution_count": 0,
   "metadata": {
    "application/vnd.databricks.v1+cell": {
     "cellMetadata": {
      "byteLimit": 2048000,
      "rowLimit": 10000
     },
     "inputWidgets": {},
     "nuid": "ead94cd5-2315-481a-a7a1-79354c23a7cc",
     "showTitle": false,
     "tableResultSettingsMap": {},
     "title": ""
    }
   },
   "outputs": [
    {
     "output_type": "display_data",
     "data": {
      "text/html": [
       "<style scoped>\n",
       "  .table-result-container {\n",
       "    max-height: 300px;\n",
       "    overflow: auto;\n",
       "  }\n",
       "  table, th, td {\n",
       "    border: 1px solid black;\n",
       "    border-collapse: collapse;\n",
       "  }\n",
       "  th, td {\n",
       "    padding: 5px;\n",
       "  }\n",
       "  th {\n",
       "    text-align: left;\n",
       "  }\n",
       "</style><div class='table-result-container'><table class='table-result'><thead style='background-color: white'><tr><th>_c0</th><th>_c1</th><th>_c2</th><th>_c3</th></tr></thead><tbody><tr><td>customer_id</td><td>customer_name</td><td>join_date</td><td>location</td></tr><tr><td>105</td><td>Eva</td><td>2022-01-01</td><td>Ohio</td></tr><tr><td>106</td><td>Frank</td><td>2022-02-01</td><td>Nevada</td></tr><tr><td>107</td><td>Grace</td><td>2022-03-01</td><td>Colorado</td></tr><tr><td>108</td><td>Henry</td><td>2022-04-01</td><td>Utah</td></tr></tbody></table></div>"
      ]
     },
     "metadata": {
      "application/vnd.databricks.v1+output": {
       "addedWidgets": {},
       "aggData": [],
       "aggError": "",
       "aggOverflow": false,
       "aggSchema": [],
       "aggSeriesLimitReached": false,
       "aggType": "",
       "arguments": {},
       "columnCustomDisplayInfos": {},
       "data": [
        [
         "customer_id",
         "customer_name",
         "join_date",
         "location"
        ],
        [
         "105",
         "Eva",
         "2022-01-01",
         "Ohio"
        ],
        [
         "106",
         "Frank",
         "2022-02-01",
         "Nevada"
        ],
        [
         "107",
         "Grace",
         "2022-03-01",
         "Colorado"
        ],
        [
         "108",
         "Henry",
         "2022-04-01",
         "Utah"
        ]
       ],
       "datasetInfos": [],
       "dbfsResultPath": null,
       "isJsonSchema": true,
       "metadata": {},
       "overflow": false,
       "plotOptions": {
        "customPlotOptions": {},
        "displayType": "table",
        "pivotAggregation": null,
        "pivotColumns": null,
        "xColumns": null,
        "yColumns": null
       },
       "removedWidgets": [],
       "schema": [
        {
         "metadata": "{}",
         "name": "_c0",
         "type": "\"string\""
        },
        {
         "metadata": "{}",
         "name": "_c1",
         "type": "\"string\""
        },
        {
         "metadata": "{}",
         "name": "_c2",
         "type": "\"string\""
        },
        {
         "metadata": "{}",
         "name": "_c3",
         "type": "\"string\""
        }
       ],
       "type": "table"
      }
     },
     "output_type": "display_data"
    }
   ],
   "source": [
    "spark.read.format(\"csv\").load(\"dbfs:/FileStore/Customer_Updated.csv\").display()"
   ]
  },
  {
   "cell_type": "markdown",
   "metadata": {
    "application/vnd.databricks.v1+cell": {
     "cellMetadata": {},
     "inputWidgets": {},
     "nuid": "a3b9fd05-2322-4782-a501-1b390f097974",
     "showTitle": false,
     "tableResultSettingsMap": {},
     "title": ""
    }
   },
   "source": [
    "1. Specify Schema\n",
    "spark.read.format(\"csv\").option(\"header\",\"True\").load(\"dbfs:/FileStore/Customer_Updated.csv\",schema=schema).display()\n",
    "\n",
    "2.Adjust Partition Size(Increasing the number of partitions can help in parallel processing.)\n",
    "spark.read.format(\"csv\").option(\"header\",\"True\").load(\"dbfs:/FileStore/Customer_Updated.csv\",schema=schema).repartition(10).display()\n",
    "\n",
    "3.Use Appropriate Data Types\n",
    "\n",
    "4 Use Compression\n",
    "(If the CSV files are large, consider using compressed formats like gzip, bzip2, or snappy.)\n",
    "\n",
    "5.Filter Data Early\n",
    "spark.read.format(\"csv\").option(\"header\",\"True\").load(\"dbfs:/FileStore/Customer_Updated.csv\",schema=schema).filter(col(\"customer_id\")>101).display()\n",
    "\n",
    "6.Optimize File Handling(# Coalesce small files into fewer large files)\n",
    "spark.read.format(\"csv\").option(\"header\",\"True\").load(\"dbfs:/FileStore/Customer_Updated.csv\",schema=schema).coalesce(4)\n",
    "\n",
    "7.Pruning Unnecessary Columns:\n",
    "selected_columns = [\"customer_id\", \"location\"]\n",
    "spark.read.format(\"csv\").option(\"header\",\"True\").load(\"dbfs:/FileStore/Customer_Updated.csv\",schema=schema).select(selected_columns).display()\n",
    "\n",
    "8. Optimize Spark Configurations:\n",
    "\n",
    "\n"
   ]
  },
  {
   "cell_type": "code",
   "execution_count": 0,
   "metadata": {
    "application/vnd.databricks.v1+cell": {
     "cellMetadata": {
      "byteLimit": 2048000,
      "rowLimit": 10000
     },
     "inputWidgets": {},
     "nuid": "b97ce1b4-a36a-4f5f-a5bc-9536bf54a1e6",
     "showTitle": false,
     "tableResultSettingsMap": {},
     "title": ""
    }
   },
   "outputs": [
    {
     "output_type": "display_data",
     "data": {
      "text/html": [
       "<style scoped>\n",
       "  .table-result-container {\n",
       "    max-height: 300px;\n",
       "    overflow: auto;\n",
       "  }\n",
       "  table, th, td {\n",
       "    border: 1px solid black;\n",
       "    border-collapse: collapse;\n",
       "  }\n",
       "  th, td {\n",
       "    padding: 5px;\n",
       "  }\n",
       "  th {\n",
       "    text-align: left;\n",
       "  }\n",
       "</style><div class='table-result-container'><table class='table-result'><thead style='background-color: white'><tr><th>customer_id</th><th>customer_name</th><th>join_date</th><th>location</th></tr></thead><tbody><tr><td>105</td><td>Eva</td><td>2022-01-01</td><td>Ohio</td></tr><tr><td>107</td><td>Grace</td><td>2022-03-01</td><td>Colorado</td></tr><tr><td>106</td><td>Frank</td><td>2022-02-01</td><td>Nevada</td></tr><tr><td>108</td><td>Henry</td><td>2022-04-01</td><td>Utah</td></tr></tbody></table></div>"
      ]
     },
     "metadata": {
      "application/vnd.databricks.v1+output": {
       "addedWidgets": {},
       "aggData": [],
       "aggError": "",
       "aggOverflow": false,
       "aggSchema": [],
       "aggSeriesLimitReached": false,
       "aggType": "",
       "arguments": {},
       "columnCustomDisplayInfos": {},
       "data": [
        [
         105,
         "Eva",
         "2022-01-01",
         "Ohio"
        ],
        [
         107,
         "Grace",
         "2022-03-01",
         "Colorado"
        ],
        [
         106,
         "Frank",
         "2022-02-01",
         "Nevada"
        ],
        [
         108,
         "Henry",
         "2022-04-01",
         "Utah"
        ]
       ],
       "datasetInfos": [],
       "dbfsResultPath": null,
       "isJsonSchema": true,
       "metadata": {},
       "overflow": false,
       "plotOptions": {
        "customPlotOptions": {},
        "displayType": "table",
        "pivotAggregation": null,
        "pivotColumns": null,
        "xColumns": null,
        "yColumns": null
       },
       "removedWidgets": [],
       "schema": [
        {
         "metadata": "{}",
         "name": "customer_id",
         "type": "\"integer\""
        },
        {
         "metadata": "{}",
         "name": "customer_name",
         "type": "\"string\""
        },
        {
         "metadata": "{}",
         "name": "join_date",
         "type": "\"string\""
        },
        {
         "metadata": "{}",
         "name": "location",
         "type": "\"string\""
        }
       ],
       "type": "table"
      }
     },
     "output_type": "display_data"
    }
   ],
   "source": [
    "schema=StructType(\n",
    "  [\n",
    "    StructField(\"customer_id\",IntegerType(),True),\n",
    "    StructField(\"customer_name\",StringType(),True),\n",
    "    StructField(\"join_date\",StringType(),True),\n",
    "    StructField(\"location\",StringType(),True)\n",
    "\n",
    "  ]\n",
    ")\n",
    "spark.read.format(\"csv\").option(\"header\",\"True\").load(\"dbfs:/FileStore/Customer_Updated.csv\",schema=schema).repartition(10).display()"
   ]
  },
  {
   "cell_type": "code",
   "execution_count": 0,
   "metadata": {
    "application/vnd.databricks.v1+cell": {
     "cellMetadata": {
      "byteLimit": 2048000,
      "rowLimit": 10000
     },
     "inputWidgets": {},
     "nuid": "8c2a5d6f-6eaa-45e4-90a2-6d8928b9156e",
     "showTitle": false,
     "tableResultSettingsMap": {},
     "title": ""
    }
   },
   "outputs": [
    {
     "output_type": "display_data",
     "data": {
      "text/html": [
       "<style scoped>\n",
       "  .table-result-container {\n",
       "    max-height: 300px;\n",
       "    overflow: auto;\n",
       "  }\n",
       "  table, th, td {\n",
       "    border: 1px solid black;\n",
       "    border-collapse: collapse;\n",
       "  }\n",
       "  th, td {\n",
       "    padding: 5px;\n",
       "  }\n",
       "  th {\n",
       "    text-align: left;\n",
       "  }\n",
       "</style><div class='table-result-container'><table class='table-result'><thead style='background-color: white'><tr><th>customer_id</th><th>customer_name</th><th>join_date</th><th>location</th></tr></thead><tbody><tr><td>105</td><td>Eva</td><td>2022-01-01</td><td>Ohio</td></tr><tr><td>107</td><td>Grace</td><td>2022-03-01</td><td>Colorado</td></tr><tr><td>106</td><td>Frank</td><td>2022-02-01</td><td>Nevada</td></tr><tr><td>108</td><td>Henry</td><td>2022-04-01</td><td>Utah</td></tr></tbody></table></div>"
      ]
     },
     "metadata": {
      "application/vnd.databricks.v1+output": {
       "addedWidgets": {},
       "aggData": [],
       "aggError": "",
       "aggOverflow": false,
       "aggSchema": [],
       "aggSeriesLimitReached": false,
       "aggType": "",
       "arguments": {},
       "columnCustomDisplayInfos": {},
       "data": [
        [
         105,
         "Eva",
         "2022-01-01",
         "Ohio"
        ],
        [
         107,
         "Grace",
         "2022-03-01",
         "Colorado"
        ],
        [
         106,
         "Frank",
         "2022-02-01",
         "Nevada"
        ],
        [
         108,
         "Henry",
         "2022-04-01",
         "Utah"
        ]
       ],
       "datasetInfos": [],
       "dbfsResultPath": null,
       "isJsonSchema": true,
       "metadata": {},
       "overflow": false,
       "plotOptions": {
        "customPlotOptions": {},
        "displayType": "table",
        "pivotAggregation": null,
        "pivotColumns": null,
        "xColumns": null,
        "yColumns": null
       },
       "removedWidgets": [],
       "schema": [
        {
         "metadata": "{}",
         "name": "customer_id",
         "type": "\"integer\""
        },
        {
         "metadata": "{}",
         "name": "customer_name",
         "type": "\"string\""
        },
        {
         "metadata": "{}",
         "name": "join_date",
         "type": "\"string\""
        },
        {
         "metadata": "{}",
         "name": "location",
         "type": "\"string\""
        }
       ],
       "type": "table"
      }
     },
     "output_type": "display_data"
    }
   ],
   "source": [
    "#.Adjust Partition Size(Increasing the number of partitions can help in parallel processing.)\n",
    "spark.read.format(\"csv\").option(\"header\",\"True\").load(\"dbfs:/FileStore/Customer_Updated.csv\",schema=schema).repartition(10).display()"
   ]
  },
  {
   "cell_type": "code",
   "execution_count": 0,
   "metadata": {
    "application/vnd.databricks.v1+cell": {
     "cellMetadata": {
      "byteLimit": 2048000,
      "rowLimit": 10000
     },
     "inputWidgets": {},
     "nuid": "52be2818-eeee-4cc9-b6b5-aa1f3ea0b4e6",
     "showTitle": false,
     "tableResultSettingsMap": {},
     "title": ""
    }
   },
   "outputs": [
    {
     "output_type": "display_data",
     "data": {
      "text/html": [
       "<style scoped>\n",
       "  .table-result-container {\n",
       "    max-height: 300px;\n",
       "    overflow: auto;\n",
       "  }\n",
       "  table, th, td {\n",
       "    border: 1px solid black;\n",
       "    border-collapse: collapse;\n",
       "  }\n",
       "  th, td {\n",
       "    padding: 5px;\n",
       "  }\n",
       "  th {\n",
       "    text-align: left;\n",
       "  }\n",
       "</style><div class='table-result-container'><table class='table-result'><thead style='background-color: white'><tr><th>customer_id</th><th>customer_name</th><th>join_date</th><th>location</th></tr></thead><tbody><tr><td>105</td><td>Eva</td><td>2022-01-01</td><td>Ohio</td></tr><tr><td>106</td><td>Frank</td><td>2022-02-01</td><td>Nevada</td></tr><tr><td>107</td><td>Grace</td><td>2022-03-01</td><td>Colorado</td></tr><tr><td>108</td><td>Henry</td><td>2022-04-01</td><td>Utah</td></tr></tbody></table></div>"
      ]
     },
     "metadata": {
      "application/vnd.databricks.v1+output": {
       "addedWidgets": {},
       "aggData": [],
       "aggError": "",
       "aggOverflow": false,
       "aggSchema": [],
       "aggSeriesLimitReached": false,
       "aggType": "",
       "arguments": {},
       "columnCustomDisplayInfos": {},
       "data": [
        [
         105,
         "Eva",
         "2022-01-01",
         "Ohio"
        ],
        [
         106,
         "Frank",
         "2022-02-01",
         "Nevada"
        ],
        [
         107,
         "Grace",
         "2022-03-01",
         "Colorado"
        ],
        [
         108,
         "Henry",
         "2022-04-01",
         "Utah"
        ]
       ],
       "datasetInfos": [],
       "dbfsResultPath": null,
       "isJsonSchema": true,
       "metadata": {},
       "overflow": false,
       "plotOptions": {
        "customPlotOptions": {},
        "displayType": "table",
        "pivotAggregation": null,
        "pivotColumns": null,
        "xColumns": null,
        "yColumns": null
       },
       "removedWidgets": [],
       "schema": [
        {
         "metadata": "{}",
         "name": "customer_id",
         "type": "\"integer\""
        },
        {
         "metadata": "{}",
         "name": "customer_name",
         "type": "\"string\""
        },
        {
         "metadata": "{}",
         "name": "join_date",
         "type": "\"string\""
        },
        {
         "metadata": "{}",
         "name": "location",
         "type": "\"string\""
        }
       ],
       "type": "table"
      }
     },
     "output_type": "display_data"
    }
   ],
   "source": [
    "#.Filter Data Early\n",
    "spark.read.format(\"csv\").option(\"header\",\"True\").load(\"dbfs:/FileStore/Customer_Updated.csv\",schema=schema).filter(col(\"customer_id\")>101).display()\n"
   ]
  },
  {
   "cell_type": "code",
   "execution_count": 0,
   "metadata": {
    "application/vnd.databricks.v1+cell": {
     "cellMetadata": {
      "byteLimit": 2048000,
      "rowLimit": 10000
     },
     "inputWidgets": {},
     "nuid": "cd1e787e-c6d6-4596-803a-ea957c156c68",
     "showTitle": false,
     "tableResultSettingsMap": {},
     "title": ""
    }
   },
   "outputs": [
    {
     "output_type": "stream",
     "name": "stdout",
     "output_type": "stream",
     "text": [
      "Out[20]: DataFrame[customer_id: int, customer_name: string, join_date: string, location: string]"
     ]
    }
   ],
   "source": [
    "\n",
    "#Optimize File Handling(# Coalesce small files into fewer large files)\n",
    "spark.read.format(\"csv\").option(\"header\",\"True\").load(\"dbfs:/FileStore/Customer_Updated.csv\",schema=schema).coalesce(4)"
   ]
  },
  {
   "cell_type": "code",
   "execution_count": 0,
   "metadata": {
    "application/vnd.databricks.v1+cell": {
     "cellMetadata": {
      "byteLimit": 2048000,
      "rowLimit": 10000
     },
     "inputWidgets": {},
     "nuid": "ad21f492-53af-410c-b232-722a5bdec1e5",
     "showTitle": false,
     "tableResultSettingsMap": {},
     "title": ""
    }
   },
   "outputs": [
    {
     "output_type": "display_data",
     "data": {
      "text/html": [
       "<style scoped>\n",
       "  .table-result-container {\n",
       "    max-height: 300px;\n",
       "    overflow: auto;\n",
       "  }\n",
       "  table, th, td {\n",
       "    border: 1px solid black;\n",
       "    border-collapse: collapse;\n",
       "  }\n",
       "  th, td {\n",
       "    padding: 5px;\n",
       "  }\n",
       "  th {\n",
       "    text-align: left;\n",
       "  }\n",
       "</style><div class='table-result-container'><table class='table-result'><thead style='background-color: white'><tr><th>customer_id</th><th>location</th></tr></thead><tbody><tr><td>105</td><td>Ohio</td></tr><tr><td>106</td><td>Nevada</td></tr><tr><td>107</td><td>Colorado</td></tr><tr><td>108</td><td>Utah</td></tr></tbody></table></div>"
      ]
     },
     "metadata": {
      "application/vnd.databricks.v1+output": {
       "addedWidgets": {},
       "aggData": [],
       "aggError": "",
       "aggOverflow": false,
       "aggSchema": [],
       "aggSeriesLimitReached": false,
       "aggType": "",
       "arguments": {},
       "columnCustomDisplayInfos": {},
       "data": [
        [
         105,
         "Ohio"
        ],
        [
         106,
         "Nevada"
        ],
        [
         107,
         "Colorado"
        ],
        [
         108,
         "Utah"
        ]
       ],
       "datasetInfos": [],
       "dbfsResultPath": null,
       "isJsonSchema": true,
       "metadata": {},
       "overflow": false,
       "plotOptions": {
        "customPlotOptions": {},
        "displayType": "table",
        "pivotAggregation": null,
        "pivotColumns": null,
        "xColumns": null,
        "yColumns": null
       },
       "removedWidgets": [],
       "schema": [
        {
         "metadata": "{}",
         "name": "customer_id",
         "type": "\"integer\""
        },
        {
         "metadata": "{}",
         "name": "location",
         "type": "\"string\""
        }
       ],
       "type": "table"
      }
     },
     "output_type": "display_data"
    }
   ],
   "source": [
    "#Pruning Unnecessary Columns:\n",
    "selected_columns = [\"customer_id\", \"location\"]\n",
    "spark.read.format(\"csv\").option(\"header\",\"True\").load(\"dbfs:/FileStore/Customer_Updated.csv\",schema=schema).select(selected_columns).display()"
   ]
  },
  {
   "cell_type": "code",
   "execution_count": 0,
   "metadata": {
    "application/vnd.databricks.v1+cell": {
     "cellMetadata": {},
     "inputWidgets": {},
     "nuid": "40ecced1-76f1-4206-9d70-34afb0a2a818",
     "showTitle": false,
     "tableResultSettingsMap": {},
     "title": ""
    }
   },
   "outputs": [],
   "source": []
  }
 ],
 "metadata": {
  "application/vnd.databricks.v1+notebook": {
   "dashboards": [],
   "environmentMetadata": null,
   "language": "python",
   "notebookMetadata": {
    "pythonIndentUnit": 4
   },
   "notebookName": "CSV File Optimization During reading",
   "widgets": {}
  }
 },
 "nbformat": 4,
 "nbformat_minor": 0
}
