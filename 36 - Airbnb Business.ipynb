{
 "cells": [
  {
   "cell_type": "markdown",
   "metadata": {
    "application/vnd.databricks.v1+cell": {
     "cellMetadata": {
      "byteLimit": 2048000,
      "rowLimit": 10000
     },
     "inputWidgets": {},
     "nuid": "f450a09f-1a93-4081-98b3-9381816e093c",
     "showTitle": false,
     "title": ""
    }
   },
   "source": [
    "You are planning to list a property on Airbnb. To maximize profits, you need to analyze the Airbnb data for the month of January 2023 to determine the best room type for each location. The best room type is based on the maximum average occupancy during the given month.\n",
    "\n",
    "Write an SQL query to find the best room type for each location based on the average occupancy days. Order the results in descending order of average occupancy days, rounded to 2 decimal places."
   ]
  },
  {
   "cell_type": "code",
   "execution_count": 0,
   "metadata": {
    "application/vnd.databricks.v1+cell": {
     "cellMetadata": {
      "byteLimit": 2048000,
      "rowLimit": 10000
     },
     "inputWidgets": {},
     "nuid": "d371f99b-0885-4da0-b719-46e3bf85b316",
     "showTitle": false,
     "title": ""
    }
   },
   "outputs": [
    {
     "output_type": "stream",
     "name": "stdout",
     "output_type": "stream",
     "text": [
      "+----------+-------+--------+---------------+-----+--------------+\n|listing_id|host_id|location|      room_type|price|minimum_nights|\n+----------+-------+--------+---------------+-----+--------------+\n|         1|    101|Downtown|Entire home/apt|150.0|             2|\n|         2|    101|Downtown|   Private room| 80.0|             1|\n|         3|    101|Downtown|Entire home/apt|200.0|             3|\n|         4|    102|Downtown|Entire home/apt|120.0|             2|\n|         5|    102|Downtown|   Private room|100.0|             1|\n|         6|    102| Midtown|Entire home/apt|250.0|             2|\n|         7|    103| Midtown|Entire home/apt| 70.0|             1|\n|         8|    103| Midtown|   Private room| 90.0|             1|\n|         9|    104| Midtown|   Private room|170.0|             1|\n+----------+-------+--------+---------------+-----+--------------+\n\n+----------+----------+------------+-------------+\n|booking_id|listing_id|checkin_date|checkout_date|\n+----------+----------+------------+-------------+\n|         1|         1|  2023-01-05|   2023-01-10|\n|         2|         1|  2023-01-11|   2023-01-13|\n|         3|         2|  2023-01-15|   2023-01-25|\n|         4|         3|  2023-01-10|   2023-01-17|\n|         5|         3|  2023-01-19|   2023-01-21|\n|         6|         3|  2023-01-22|   2023-01-23|\n|         7|         4|  2023-01-03|   2023-01-05|\n|         8|         5|  2023-01-10|   2023-01-12|\n|         9|         6|  2023-01-15|   2023-01-19|\n|        10|         6|  2023-01-20|   2023-01-22|\n|        11|         7|  2023-01-25|   2023-01-29|\n|        12|         8|  2023-01-05|   2023-01-17|\n|        13|         9|  2023-01-10|   2023-01-12|\n+----------+----------+------------+-------------+\n\n"
     ]
    }
   ],
   "source": [
    "from pyspark.sql import SparkSession\n",
    "from pyspark.sql.types import *\n",
    "from pyspark.sql.functions import *\n",
    "from pyspark.sql.window import *\n",
    "\n",
    "# Initialize Spark Session\n",
    "spark = SparkSession.builder \\\n",
    "    .appName(\"Create DataFrame Example\") \\\n",
    "    .getOrCreate()\n",
    "\n",
    "# Define Schema\n",
    "schema = StructType([\n",
    "    StructField(\"listing_id\", IntegerType(), True),\n",
    "    StructField(\"host_id\", IntegerType(), True),\n",
    "    StructField(\"location\", StringType(), True),\n",
    "    StructField(\"room_type\", StringType(), True),\n",
    "    StructField(\"price\", FloatType(), True),\n",
    "    StructField(\"minimum_nights\", IntegerType(), True)\n",
    "])\n",
    "\n",
    "# Create Data\n",
    "data = [\n",
    "    (1, 101, \"Downtown\", \"Entire home/apt\", 150.00, 2),\n",
    "    (2, 101, \"Downtown\", \"Private room\", 80.00, 1),\n",
    "    (3, 101, \"Downtown\", \"Entire home/apt\", 200.00, 3),\n",
    "    (4, 102, \"Downtown\", \"Entire home/apt\", 120.00, 2),\n",
    "    (5, 102, \"Downtown\", \"Private room\", 100.00, 1),\n",
    "    (6, 102, \"Midtown\", \"Entire home/apt\", 250.00, 2),\n",
    "    (7, 103, \"Midtown\", \"Entire home/apt\", 70.00, 1),\n",
    "    (8, 103, \"Midtown\", \"Private room\", 90.00, 1),\n",
    "    (9, 104, \"Midtown\", \"Private room\", 170.00, 1)\n",
    "]\n",
    "\n",
    "# Create DataFrame\n",
    "listings_df = spark.createDataFrame(data, schema)\n",
    "\n",
    "# Show DataFrame\n",
    "listings_df.show()\n",
    "\n",
    "\n",
    "\n",
    "\n",
    "# Define Schema\n",
    "bookings_schema = StructType([\n",
    "    StructField(\"booking_id\", IntegerType(), True),\n",
    "    StructField(\"listing_id\", IntegerType(), True),\n",
    "    StructField(\"checkin_date\", StringType(), True),\n",
    "    StructField(\"checkout_date\", StringType(), True)\n",
    "])\n",
    "\n",
    "# Create Data\n",
    "bookings_data = [\n",
    "    (1, 1, \"2023-01-05\", \"2023-01-10\"),\n",
    "    (2, 1, \"2023-01-11\", \"2023-01-13\"),\n",
    "    (3, 2, \"2023-01-15\", \"2023-01-25\"),\n",
    "    (4, 3, \"2023-01-10\", \"2023-01-17\"),\n",
    "    (5, 3, \"2023-01-19\", \"2023-01-21\"),\n",
    "    (6, 3, \"2023-01-22\", \"2023-01-23\"),\n",
    "    (7, 4, \"2023-01-03\", \"2023-01-05\"),\n",
    "    (8, 5, \"2023-01-10\", \"2023-01-12\"),\n",
    "    (9, 6, \"2023-01-15\", \"2023-01-19\"),\n",
    "    (10, 6, \"2023-01-20\", \"2023-01-22\"),\n",
    "    (11, 7, \"2023-01-25\", \"2023-01-29\"),\n",
    "    (12, 8, \"2023-01-05\", \"2023-01-17\"),\n",
    "    (13, 9, \"2023-01-10\", \"2023-01-12\")\n",
    "]\n",
    "\n",
    "# Create DataFrame\n",
    "bookings_df = spark.createDataFrame(bookings_data, bookings_schema)\n",
    "\n",
    "# Show DataFrame\n",
    "bookings_df.show()\n",
    "\n"
   ]
  },
  {
   "cell_type": "code",
   "execution_count": 0,
   "metadata": {
    "application/vnd.databricks.v1+cell": {
     "cellMetadata": {
      "byteLimit": 2048000,
      "rowLimit": 10000
     },
     "inputWidgets": {},
     "nuid": "4aec8e39-b3a4-4990-a687-1b5e8bffd96f",
     "showTitle": false,
     "title": ""
    }
   },
   "outputs": [
    {
     "output_type": "stream",
     "name": "stdout",
     "output_type": "stream",
     "text": [
      "Out[62]: ['listing_id', 'host_id', 'location', 'room_type', 'price', 'minimum_nights']"
     ]
    }
   ],
   "source": [
    "listings_df.columns"
   ]
  },
  {
   "cell_type": "code",
   "execution_count": 0,
   "metadata": {
    "application/vnd.databricks.v1+cell": {
     "cellMetadata": {
      "byteLimit": 2048000,
      "rowLimit": 10000
     },
     "inputWidgets": {},
     "nuid": "8fa6a3dc-37b0-4631-b620-a48a9638d68b",
     "showTitle": false,
     "title": ""
    }
   },
   "outputs": [],
   "source": [
    "bookings_df=bookings_df.withColumn(\"book_days\",datediff(col(\"checkout_date\"),col(\"checkin_date\")))\n",
    "\n",
    "bookings_df=bookings_df.groupBy(\"listing_id\").agg(sum(\"book_days\").alias(\"booking_days\"))\n",
    "\n",
    "ans_df=listings_df.join(bookings_df,on=listings_df.listing_id==bookings_df.listing_id,how=\"inner\")\n",
    "\n",
    "ans_df=ans_df.groupBy(\"location\",\"room_type\").agg(avg(\"booking_days\").alias(\"average_booking_days\"))\n",
    "\n",
    "window_spec=Window.partitionBy(\"location\").orderBy(col(\"average_booking_days\").desc())\n",
    "\n",
    "ans_df = ans_df.withColumn(\"Rank_By_Location\", row_number().over(window_spec)) \\\n",
    "    .filter(col(\"Rank_By_Location\")==1).drop(col(\"Rank_By_Location\")) \\\n",
    "        .orderBy(desc(\"average_booking_days\")) \\\n",
    "            .select(\"location\",\"room_type\",round(\"average_booking_days\",2))"
   ]
  },
  {
   "cell_type": "code",
   "execution_count": 0,
   "metadata": {
    "application/vnd.databricks.v1+cell": {
     "cellMetadata": {
      "byteLimit": 2048000,
      "rowLimit": 10000
     },
     "inputWidgets": {},
     "nuid": "479fe4db-bd1b-464f-a4ce-512fd639635c",
     "showTitle": false,
     "title": ""
    }
   },
   "outputs": [
    {
     "output_type": "stream",
     "name": "stdout",
     "output_type": "stream",
     "text": [
      "+--------+---------------+------------------------------+\n|location|      room_type|round(average_booking_days, 2)|\n+--------+---------------+------------------------------+\n| Midtown|   Private room|                           7.0|\n|Downtown|Entire home/apt|                          6.33|\n+--------+---------------+------------------------------+\n\n"
     ]
    }
   ],
   "source": [
    "ans_df.show()"
   ]
  },
  {
   "cell_type": "code",
   "execution_count": 0,
   "metadata": {
    "application/vnd.databricks.v1+cell": {
     "cellMetadata": {
      "byteLimit": 2048000,
      "rowLimit": 10000
     },
     "inputWidgets": {},
     "nuid": "ff33144f-1037-4bab-8b8f-c4fab0e1b208",
     "showTitle": false,
     "title": ""
    }
   },
   "outputs": [],
   "source": []
  }
 ],
 "metadata": {
  "application/vnd.databricks.v1+notebook": {
   "dashboards": [],
   "environmentMetadata": null,
   "language": "python",
   "notebookMetadata": {
    "pythonIndentUnit": 4
   },
   "notebookName": "36 - Airbnb Business",
   "widgets": {}
  }
 },
 "nbformat": 4,
 "nbformat_minor": 0
}
