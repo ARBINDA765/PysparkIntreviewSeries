{
 "cells": [
  {
   "cell_type": "markdown",
   "metadata": {
    "application/vnd.databricks.v1+cell": {
     "cellMetadata": {},
     "inputWidgets": {},
     "nuid": "914e2f49-bb8b-4814-b9f8-bb68abbc95bd",
     "showTitle": false,
     "tableResultSettingsMap": {},
     "title": ""
    }
   },
   "source": [
    "%md\n",
    "**Exploding and Pivoting Multi-Category Data Using PySpark**"
   ]
  },
  {
   "cell_type": "code",
   "execution_count": 0,
   "metadata": {
    "application/vnd.databricks.v1+cell": {
     "cellMetadata": {
      "byteLimit": 2048000,
      "rowLimit": 10000
     },
     "inputWidgets": {},
     "nuid": "f4cd6602-5f30-433e-a3db-88b5e06d5dfd",
     "showTitle": false,
     "tableResultSettingsMap": {},
     "title": ""
    }
   },
   "outputs": [
    {
     "output_type": "display_data",
     "data": {
      "text/html": [
       "<style scoped>\n",
       "  .table-result-container {\n",
       "    max-height: 300px;\n",
       "    overflow: auto;\n",
       "  }\n",
       "  table, th, td {\n",
       "    border: 1px solid black;\n",
       "    border-collapse: collapse;\n",
       "  }\n",
       "  th, td {\n",
       "    padding: 5px;\n",
       "  }\n",
       "  th {\n",
       "    text-align: left;\n",
       "  }\n",
       "</style><div class='table-result-container'><table class='table-result'><thead style='background-color: white'><tr><th>Person</th><th>Basket</th></tr></thead><tbody><tr><td>A</td><td>Apple,Mango,Orange</td></tr><tr><td>B</td><td>Apple</td></tr><tr><td>C</td><td>Guava,Cherry</td></tr><tr><td>D</td><td>Mango,Cherry,Orange</td></tr></tbody></table></div>"
      ]
     },
     "metadata": {
      "application/vnd.databricks.v1+output": {
       "addedWidgets": {},
       "aggData": [],
       "aggError": "",
       "aggOverflow": false,
       "aggSchema": [],
       "aggSeriesLimitReached": false,
       "aggType": "",
       "arguments": {},
       "columnCustomDisplayInfos": {},
       "data": [
        [
         "A",
         "Apple,Mango,Orange"
        ],
        [
         "B",
         "Apple"
        ],
        [
         "C",
         "Guava,Cherry"
        ],
        [
         "D",
         "Mango,Cherry,Orange"
        ]
       ],
       "datasetInfos": [],
       "dbfsResultPath": null,
       "isJsonSchema": true,
       "metadata": {},
       "overflow": false,
       "plotOptions": {
        "customPlotOptions": {},
        "displayType": "table",
        "pivotAggregation": null,
        "pivotColumns": null,
        "xColumns": null,
        "yColumns": null
       },
       "removedWidgets": [],
       "schema": [
        {
         "metadata": "{}",
         "name": "Person",
         "type": "\"string\""
        },
        {
         "metadata": "{}",
         "name": "Basket",
         "type": "\"string\""
        }
       ],
       "type": "table"
      }
     },
     "output_type": "display_data"
    }
   ],
   "source": [
    "from pyspark.sql import SparkSession\n",
    "from pyspark.sql.functions import split\n",
    "from pyspark.sql.functions import explode\n",
    "from pyspark.sql.functions import lit\n",
    "from pyspark.sql.functions import *\n",
    "spark = SparkSession.builder.appName(\"ARAB\").getOrCreate()\n",
    "\n",
    "# Sample input data\n",
    "data = [\n",
    "    (\"A\", \"Apple,Mango,Orange\"),\n",
    "    (\"B\", \"Apple\"),\n",
    "    (\"C\", \"Guava,Cherry\"),\n",
    "    (\"D\", \"Mango,Cherry,Orange\")\n",
    "]\n",
    "\n",
    "# Create DataFrame\n",
    "df_input = spark.createDataFrame(data, [\"Person\", \"Basket\"])\n",
    "df_input.display()\n",
    "\n"
   ]
  },
  {
   "cell_type": "code",
   "execution_count": 0,
   "metadata": {
    "application/vnd.databricks.v1+cell": {
     "cellMetadata": {
      "byteLimit": 2048000,
      "rowLimit": 10000
     },
     "inputWidgets": {},
     "nuid": "9b39d277-2896-4602-960c-5bd1a48e568f",
     "showTitle": false,
     "tableResultSettingsMap": {},
     "title": ""
    }
   },
   "outputs": [
    {
     "output_type": "display_data",
     "data": {
      "text/html": [
       "<style scoped>\n",
       "  .table-result-container {\n",
       "    max-height: 300px;\n",
       "    overflow: auto;\n",
       "  }\n",
       "  table, th, td {\n",
       "    border: 1px solid black;\n",
       "    border-collapse: collapse;\n",
       "  }\n",
       "  th, td {\n",
       "    padding: 5px;\n",
       "  }\n",
       "  th {\n",
       "    text-align: left;\n",
       "  }\n",
       "</style><div class='table-result-container'><table class='table-result'><thead style='background-color: white'><tr><th>Person</th><th>Basket</th></tr></thead><tbody><tr><td>A</td><td>List(Apple, Mango, Orange)</td></tr><tr><td>B</td><td>List(Apple)</td></tr><tr><td>C</td><td>List(Guava, Cherry)</td></tr><tr><td>D</td><td>List(Mango, Cherry, Orange)</td></tr></tbody></table></div>"
      ]
     },
     "metadata": {
      "application/vnd.databricks.v1+output": {
       "addedWidgets": {},
       "aggData": [],
       "aggError": "",
       "aggOverflow": false,
       "aggSchema": [],
       "aggSeriesLimitReached": false,
       "aggType": "",
       "arguments": {},
       "columnCustomDisplayInfos": {},
       "data": [
        [
         "A",
         [
          "Apple",
          "Mango",
          "Orange"
         ]
        ],
        [
         "B",
         [
          "Apple"
         ]
        ],
        [
         "C",
         [
          "Guava",
          "Cherry"
         ]
        ],
        [
         "D",
         [
          "Mango",
          "Cherry",
          "Orange"
         ]
        ]
       ],
       "datasetInfos": [],
       "dbfsResultPath": null,
       "isJsonSchema": true,
       "metadata": {},
       "overflow": false,
       "plotOptions": {
        "customPlotOptions": {},
        "displayType": "table",
        "pivotAggregation": null,
        "pivotColumns": null,
        "xColumns": null,
        "yColumns": null
       },
       "removedWidgets": [],
       "schema": [
        {
         "metadata": "{}",
         "name": "Person",
         "type": "\"string\""
        },
        {
         "metadata": "{}",
         "name": "Basket",
         "type": "{\"containsNull\":false,\"elementType\":\"string\",\"type\":\"array\"}"
        }
       ],
       "type": "table"
      }
     },
     "output_type": "display_data"
    }
   ],
   "source": [
    "# Split the Basket string into an array\n",
    "df_split = df_input.withColumn(\"Basket\", split(\"Basket\", \",\"))\n",
    "df_split.display()"
   ]
  },
  {
   "cell_type": "code",
   "execution_count": 0,
   "metadata": {
    "application/vnd.databricks.v1+cell": {
     "cellMetadata": {
      "byteLimit": 2048000,
      "rowLimit": 10000
     },
     "inputWidgets": {},
     "nuid": "493adc4c-af0b-4385-976d-e44d15044da7",
     "showTitle": false,
     "tableResultSettingsMap": {},
     "title": ""
    }
   },
   "outputs": [
    {
     "output_type": "display_data",
     "data": {
      "text/html": [
       "<style scoped>\n",
       "  .table-result-container {\n",
       "    max-height: 300px;\n",
       "    overflow: auto;\n",
       "  }\n",
       "  table, th, td {\n",
       "    border: 1px solid black;\n",
       "    border-collapse: collapse;\n",
       "  }\n",
       "  th, td {\n",
       "    padding: 5px;\n",
       "  }\n",
       "  th {\n",
       "    text-align: left;\n",
       "  }\n",
       "</style><div class='table-result-container'><table class='table-result'><thead style='background-color: white'><tr><th>Person</th><th>Fruit</th></tr></thead><tbody><tr><td>A</td><td>Apple</td></tr><tr><td>A</td><td>Mango</td></tr><tr><td>A</td><td>Orange</td></tr><tr><td>B</td><td>Apple</td></tr><tr><td>C</td><td>Guava</td></tr><tr><td>C</td><td>Cherry</td></tr><tr><td>D</td><td>Mango</td></tr><tr><td>D</td><td>Cherry</td></tr><tr><td>D</td><td>Orange</td></tr></tbody></table></div>"
      ]
     },
     "metadata": {
      "application/vnd.databricks.v1+output": {
       "addedWidgets": {},
       "aggData": [],
       "aggError": "",
       "aggOverflow": false,
       "aggSchema": [],
       "aggSeriesLimitReached": false,
       "aggType": "",
       "arguments": {},
       "columnCustomDisplayInfos": {},
       "data": [
        [
         "A",
         "Apple"
        ],
        [
         "A",
         "Mango"
        ],
        [
         "A",
         "Orange"
        ],
        [
         "B",
         "Apple"
        ],
        [
         "C",
         "Guava"
        ],
        [
         "C",
         "Cherry"
        ],
        [
         "D",
         "Mango"
        ],
        [
         "D",
         "Cherry"
        ],
        [
         "D",
         "Orange"
        ]
       ],
       "datasetInfos": [],
       "dbfsResultPath": null,
       "isJsonSchema": true,
       "metadata": {},
       "overflow": false,
       "plotOptions": {
        "customPlotOptions": {},
        "displayType": "table",
        "pivotAggregation": null,
        "pivotColumns": null,
        "xColumns": null,
        "yColumns": null
       },
       "removedWidgets": [],
       "schema": [
        {
         "metadata": "{}",
         "name": "Person",
         "type": "\"string\""
        },
        {
         "metadata": "{}",
         "name": "Fruit",
         "type": "\"string\""
        }
       ],
       "type": "table"
      }
     },
     "output_type": "display_data"
    }
   ],
   "source": [
    "\n",
    "\n",
    "# Explode the array to get one fruit per row\n",
    "df_exploded = df_split.withColumn(\"Fruit\", explode(\"Basket\")).drop(\"Basket\")\n",
    "df_exploded.display()"
   ]
  },
  {
   "cell_type": "code",
   "execution_count": 0,
   "metadata": {
    "application/vnd.databricks.v1+cell": {
     "cellMetadata": {
      "byteLimit": 2048000,
      "rowLimit": 10000
     },
     "inputWidgets": {},
     "nuid": "6f8ab9bb-001c-4797-9da0-014c3b00f466",
     "showTitle": false,
     "tableResultSettingsMap": {},
     "title": ""
    }
   },
   "outputs": [
    {
     "output_type": "display_data",
     "data": {
      "text/html": [
       "<style scoped>\n",
       "  .table-result-container {\n",
       "    max-height: 300px;\n",
       "    overflow: auto;\n",
       "  }\n",
       "  table, th, td {\n",
       "    border: 1px solid black;\n",
       "    border-collapse: collapse;\n",
       "  }\n",
       "  th, td {\n",
       "    padding: 5px;\n",
       "  }\n",
       "  th {\n",
       "    text-align: left;\n",
       "  }\n",
       "</style><div class='table-result-container'><table class='table-result'><thead style='background-color: white'><tr><th>Person</th><th>Fruit</th><th>HasFruit</th></tr></thead><tbody><tr><td>A</td><td>Apple</td><td>1</td></tr><tr><td>A</td><td>Mango</td><td>1</td></tr><tr><td>A</td><td>Orange</td><td>1</td></tr><tr><td>B</td><td>Apple</td><td>1</td></tr><tr><td>C</td><td>Guava</td><td>1</td></tr><tr><td>C</td><td>Cherry</td><td>1</td></tr><tr><td>D</td><td>Mango</td><td>1</td></tr><tr><td>D</td><td>Cherry</td><td>1</td></tr><tr><td>D</td><td>Orange</td><td>1</td></tr></tbody></table></div>"
      ]
     },
     "metadata": {
      "application/vnd.databricks.v1+output": {
       "addedWidgets": {},
       "aggData": [],
       "aggError": "",
       "aggOverflow": false,
       "aggSchema": [],
       "aggSeriesLimitReached": false,
       "aggType": "",
       "arguments": {},
       "columnCustomDisplayInfos": {},
       "data": [
        [
         "A",
         "Apple",
         1
        ],
        [
         "A",
         "Mango",
         1
        ],
        [
         "A",
         "Orange",
         1
        ],
        [
         "B",
         "Apple",
         1
        ],
        [
         "C",
         "Guava",
         1
        ],
        [
         "C",
         "Cherry",
         1
        ],
        [
         "D",
         "Mango",
         1
        ],
        [
         "D",
         "Cherry",
         1
        ],
        [
         "D",
         "Orange",
         1
        ]
       ],
       "datasetInfos": [],
       "dbfsResultPath": null,
       "isJsonSchema": true,
       "metadata": {},
       "overflow": false,
       "plotOptions": {
        "customPlotOptions": {},
        "displayType": "table",
        "pivotAggregation": null,
        "pivotColumns": null,
        "xColumns": null,
        "yColumns": null
       },
       "removedWidgets": [],
       "schema": [
        {
         "metadata": "{}",
         "name": "Person",
         "type": "\"string\""
        },
        {
         "metadata": "{}",
         "name": "Fruit",
         "type": "\"string\""
        },
        {
         "metadata": "{}",
         "name": "HasFruit",
         "type": "\"integer\""
        }
       ],
       "type": "table"
      }
     },
     "output_type": "display_data"
    }
   ],
   "source": [
    "\n",
    "\n",
    "# Step 4: Add flag for presence\n",
    "df_flagged = df_exploded.withColumn(\"HasFruit\", lit(1))\n",
    "df_flagged.display()"
   ]
  },
  {
   "cell_type": "code",
   "execution_count": 0,
   "metadata": {
    "application/vnd.databricks.v1+cell": {
     "cellMetadata": {
      "byteLimit": 2048000,
      "rowLimit": 10000
     },
     "inputWidgets": {},
     "nuid": "a5f8d8e8-e27a-4d49-b11b-3c5d77019fe2",
     "showTitle": false,
     "tableResultSettingsMap": {},
     "title": ""
    }
   },
   "outputs": [
    {
     "output_type": "display_data",
     "data": {
      "text/html": [
       "<style scoped>\n",
       "  .table-result-container {\n",
       "    max-height: 300px;\n",
       "    overflow: auto;\n",
       "  }\n",
       "  table, th, td {\n",
       "    border: 1px solid black;\n",
       "    border-collapse: collapse;\n",
       "  }\n",
       "  th, td {\n",
       "    padding: 5px;\n",
       "  }\n",
       "  th {\n",
       "    text-align: left;\n",
       "  }\n",
       "</style><div class='table-result-container'><table class='table-result'><thead style='background-color: white'><tr><th>Person</th><th>Apple</th><th>Cherry</th><th>Guava</th><th>Mango</th><th>Orange</th></tr></thead><tbody><tr><td>A</td><td>1</td><td>null</td><td>null</td><td>1</td><td>1</td></tr><tr><td>B</td><td>1</td><td>null</td><td>null</td><td>null</td><td>null</td></tr><tr><td>C</td><td>null</td><td>1</td><td>1</td><td>null</td><td>null</td></tr><tr><td>D</td><td>null</td><td>1</td><td>null</td><td>1</td><td>1</td></tr></tbody></table></div>"
      ]
     },
     "metadata": {
      "application/vnd.databricks.v1+output": {
       "addedWidgets": {},
       "aggData": [],
       "aggError": "",
       "aggOverflow": false,
       "aggSchema": [],
       "aggSeriesLimitReached": false,
       "aggType": "",
       "arguments": {},
       "columnCustomDisplayInfos": {},
       "data": [
        [
         "A",
         1,
         null,
         null,
         1,
         1
        ],
        [
         "B",
         1,
         null,
         null,
         null,
         null
        ],
        [
         "C",
         null,
         1,
         1,
         null,
         null
        ],
        [
         "D",
         null,
         1,
         null,
         1,
         1
        ]
       ],
       "datasetInfos": [],
       "dbfsResultPath": null,
       "isJsonSchema": true,
       "metadata": {},
       "overflow": false,
       "plotOptions": {
        "customPlotOptions": {},
        "displayType": "table",
        "pivotAggregation": null,
        "pivotColumns": null,
        "xColumns": null,
        "yColumns": null
       },
       "removedWidgets": [],
       "schema": [
        {
         "metadata": "{}",
         "name": "Person",
         "type": "\"string\""
        },
        {
         "metadata": "{}",
         "name": "Apple",
         "type": "\"long\""
        },
        {
         "metadata": "{}",
         "name": "Cherry",
         "type": "\"long\""
        },
        {
         "metadata": "{}",
         "name": "Guava",
         "type": "\"long\""
        },
        {
         "metadata": "{}",
         "name": "Mango",
         "type": "\"long\""
        },
        {
         "metadata": "{}",
         "name": "Orange",
         "type": "\"long\""
        }
       ],
       "type": "table"
      }
     },
     "output_type": "display_data"
    }
   ],
   "source": [
    "\n",
    "# Step 5: Pivot to wide format\n",
    "df_pivoted = df_flagged.groupBy(\"Person\").pivot(\"Fruit\").sum(\"HasFruit\")\n",
    "df_pivoted.display()"
   ]
  },
  {
   "cell_type": "code",
   "execution_count": 0,
   "metadata": {
    "application/vnd.databricks.v1+cell": {
     "cellMetadata": {
      "byteLimit": 2048000,
      "rowLimit": 10000
     },
     "inputWidgets": {},
     "nuid": "a962da95-edd3-4eee-8562-666985232887",
     "showTitle": false,
     "tableResultSettingsMap": {},
     "title": ""
    }
   },
   "outputs": [
    {
     "output_type": "display_data",
     "data": {
      "text/html": [
       "<style scoped>\n",
       "  .table-result-container {\n",
       "    max-height: 300px;\n",
       "    overflow: auto;\n",
       "  }\n",
       "  table, th, td {\n",
       "    border: 1px solid black;\n",
       "    border-collapse: collapse;\n",
       "  }\n",
       "  th, td {\n",
       "    padding: 5px;\n",
       "  }\n",
       "  th {\n",
       "    text-align: left;\n",
       "  }\n",
       "</style><div class='table-result-container'><table class='table-result'><thead style='background-color: white'><tr><th>Person</th><th>Apple</th><th>Cherry</th><th>Guava</th><th>Mango</th><th>Orange</th></tr></thead><tbody><tr><td>A</td><td>Yes</td><td>No</td><td>No</td><td>Yes</td><td>Yes</td></tr><tr><td>B</td><td>Yes</td><td>No</td><td>No</td><td>No</td><td>No</td></tr><tr><td>C</td><td>No</td><td>Yes</td><td>Yes</td><td>No</td><td>No</td></tr><tr><td>D</td><td>No</td><td>Yes</td><td>No</td><td>Yes</td><td>Yes</td></tr></tbody></table></div>"
      ]
     },
     "metadata": {
      "application/vnd.databricks.v1+output": {
       "addedWidgets": {},
       "aggData": [],
       "aggError": "",
       "aggOverflow": false,
       "aggSchema": [],
       "aggSeriesLimitReached": false,
       "aggType": "",
       "arguments": {},
       "columnCustomDisplayInfos": {},
       "data": [
        [
         "A",
         "Yes",
         "No",
         "No",
         "Yes",
         "Yes"
        ],
        [
         "B",
         "Yes",
         "No",
         "No",
         "No",
         "No"
        ],
        [
         "C",
         "No",
         "Yes",
         "Yes",
         "No",
         "No"
        ],
        [
         "D",
         "No",
         "Yes",
         "No",
         "Yes",
         "Yes"
        ]
       ],
       "datasetInfos": [],
       "dbfsResultPath": null,
       "isJsonSchema": true,
       "metadata": {},
       "overflow": false,
       "plotOptions": {
        "customPlotOptions": {},
        "displayType": "table",
        "pivotAggregation": null,
        "pivotColumns": null,
        "xColumns": null,
        "yColumns": null
       },
       "removedWidgets": [],
       "schema": [
        {
         "metadata": "{}",
         "name": "Person",
         "type": "\"string\""
        },
        {
         "metadata": "{}",
         "name": "Apple",
         "type": "\"string\""
        },
        {
         "metadata": "{}",
         "name": "Cherry",
         "type": "\"string\""
        },
        {
         "metadata": "{}",
         "name": "Guava",
         "type": "\"string\""
        },
        {
         "metadata": "{}",
         "name": "Mango",
         "type": "\"string\""
        },
        {
         "metadata": "{}",
         "name": "Orange",
         "type": "\"string\""
        }
       ],
       "type": "table"
      }
     },
     "output_type": "display_data"
    }
   ],
   "source": [
    "\n",
    "\n",
    "#  Fill missing values with 0\n",
    "df_filled = df_pivoted.fillna(0)\n",
    "\n",
    "#  Convert 1/0 to Yes/No\n",
    "df_final = df_filled.select(\n",
    "    \"Person\",\n",
    "    *[when(col(c) == 1, \"Yes\").otherwise(\"No\").alias(c) for c in df_filled.columns if c != \"Person\"]\n",
    ")\n",
    "\n",
    "# Show result\n",
    "df_final.display()"
   ]
  },
  {
   "cell_type": "code",
   "execution_count": 0,
   "metadata": {
    "application/vnd.databricks.v1+cell": {
     "cellMetadata": {},
     "inputWidgets": {},
     "nuid": "2172eb88-bf3e-45dc-a30c-30361e2bad37",
     "showTitle": false,
     "tableResultSettingsMap": {},
     "title": ""
    }
   },
   "outputs": [],
   "source": []
  }
 ],
 "metadata": {
  "application/vnd.databricks.v1+notebook": {
   "computePreferences": {
    "hardware": {
     "accelerator": null,
     "gpuPoolId": null,
     "memory": null
    }
   },
   "dashboards": [],
   "environmentMetadata": {
    "base_environment": "",
    "environment_version": "3"
   },
   "inputWidgetPreferences": null,
   "language": "python",
   "notebookMetadata": {
    "pythonIndentUnit": 4
   },
   "notebookName": "1-Exploding and Pivoting Multi-Category Data Using PySpark",
   "widgets": {}
  },
  "language_info": {
   "name": "python"
  }
 },
 "nbformat": 4,
 "nbformat_minor": 0
}