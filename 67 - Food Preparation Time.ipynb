{
 "cells": [
  {
   "cell_type": "markdown",
   "metadata": {
    "application/vnd.databricks.v1+cell": {
     "cellMetadata": {},
     "inputWidgets": {},
     "nuid": "a35fb5c9-9545-41b4-abe9-6f54ab2e8d03",
     "showTitle": false,
     "tableResultSettingsMap": {},
     "title": ""
    }
   },
   "source": [
    "You're analyzing the efficiency of food delivery on Zomato, focusing on the time taken by restaurants to prepare orders. Total food delivery time for an order is a combination of food preparation time + time taken by rider to deliver the order. \n",
    "Write an SQL to calculate average food preparation time(in minutes) for each restaurant . Round the average to 2 decimal points and sort the output in increasing order of average time."
   ]
  },
  {
   "cell_type": "code",
   "execution_count": 0,
   "metadata": {
    "application/vnd.databricks.v1+cell": {
     "cellMetadata": {
      "byteLimit": 2048000,
      "rowLimit": 10000
     },
     "inputWidgets": {},
     "nuid": "e365c9ae-9777-4900-a833-fc2d055c2b56",
     "showTitle": false,
     "tableResultSettingsMap": {},
     "title": ""
    }
   },
   "outputs": [
    {
     "output_type": "stream",
     "name": "stdout",
     "output_type": "stream",
     "text": [
      "+--------+-------------+----------+----------------------+--------------------+-------------------+\n|order_id|restaurant_id|order_time|expected_delivery_time|actual_delivery_time|rider_delivery_mins|\n+--------+-------------+----------+----------------------+--------------------+-------------------+\n|       1|          101|  12:00:00|              12:30:00|            12:45:00|                 15|\n|       2|          102|  12:15:00|              12:45:00|            12:55:00|                 10|\n|       3|          101|  12:30:00|              13:00:00|            13:10:00|                 15|\n|       4|          101|  12:45:00|              13:15:00|            13:21:00|                  5|\n|       5|          102|  13:00:00|              13:30:00|            13:36:00|                 10|\n|       6|          103|  13:15:00|              13:45:00|            13:58:00|                 10|\n|       7|          101|  13:30:00|              14:00:00|            14:12:00|                 20|\n|       8|          102|  13:45:00|              14:15:00|            14:25:00|                 10|\n|       9|          103|  14:00:00|              14:30:00|            14:30:00|                  5|\n|      10|          101|  14:15:00|              14:45:00|            15:05:00|                 15|\n+--------+-------------+----------+----------------------+--------------------+-------------------+\n\n"
     ]
    }
   ],
   "source": [
    "from pyspark.sql import SparkSession\n",
    "from pyspark.sql.types import StructType, StructField, IntegerType, StringType\n",
    "from pyspark.sql.functions import *\n",
    "from pyspark.sql.window import *\n",
    "\n",
    "# Create a SparkSession\n",
    "spark = SparkSession.builder.appName(\"OrdersTable\").getOrCreate()\n",
    "\n",
    "# Define the schema\n",
    "schema = StructType([\n",
    "    StructField(\"order_id\", IntegerType(), True),\n",
    "    StructField(\"restaurant_id\", IntegerType(), True),\n",
    "    StructField(\"order_time\", StringType(), True),\n",
    "    StructField(\"expected_delivery_time\", StringType(), True),\n",
    "    StructField(\"actual_delivery_time\", StringType(), True),\n",
    "    StructField(\"rider_delivery_mins\", IntegerType(), True)\n",
    "])\n",
    "\n",
    "# Sample data from the table\n",
    "data = [\n",
    "    (1, 101, \"12:00:00\", \"12:30:00\", \"12:45:00\", 15),\n",
    "    (2, 102, \"12:15:00\", \"12:45:00\", \"12:55:00\", 10),\n",
    "    (3, 101, \"12:30:00\", \"13:00:00\", \"13:10:00\", 15),\n",
    "    (4, 101, \"12:45:00\", \"13:15:00\", \"13:21:00\", 5),\n",
    "    (5, 102, \"13:00:00\", \"13:30:00\", \"13:36:00\", 10),\n",
    "    (6, 103, \"13:15:00\", \"13:45:00\", \"13:58:00\", 10),\n",
    "    (7, 101, \"13:30:00\", \"14:00:00\", \"14:12:00\", 20),\n",
    "    (8, 102, \"13:45:00\", \"14:15:00\", \"14:25:00\", 10),\n",
    "    (9, 103, \"14:00:00\", \"14:30:00\", \"14:30:00\", 5),\n",
    "    (10, 101, \"14:15:00\", \"14:45:00\", \"15:05:00\", 15),\n",
    "]\n",
    "\n",
    "# Create the DataFrame using the defined schema\n",
    "orders_df = spark.createDataFrame(data, schema=schema)\n",
    "\n",
    "# Show the DataFrame\n",
    "orders_df.show()\n"
   ]
  },
  {
   "cell_type": "code",
   "execution_count": 0,
   "metadata": {
    "application/vnd.databricks.v1+cell": {
     "cellMetadata": {
      "byteLimit": 2048000,
      "rowLimit": 10000
     },
     "inputWidgets": {},
     "nuid": "58b4c0f3-24b2-4065-b9ef-238f5059953f",
     "showTitle": false,
     "tableResultSettingsMap": {},
     "title": ""
    }
   },
   "outputs": [
    {
     "output_type": "display_data",
     "data": {
      "text/html": [
       "<style scoped>\n",
       "  .table-result-container {\n",
       "    max-height: 300px;\n",
       "    overflow: auto;\n",
       "  }\n",
       "  table, th, td {\n",
       "    border: 1px solid black;\n",
       "    border-collapse: collapse;\n",
       "  }\n",
       "  th, td {\n",
       "    padding: 5px;\n",
       "  }\n",
       "  th {\n",
       "    text-align: left;\n",
       "  }\n",
       "</style><div class='table-result-container'><table class='table-result'><thead style='background-color: white'><tr><th>restaurant_id</th><th>avg_food_prep_mins</th></tr></thead><tbody><tr><td>101</td><td>28.600000</td></tr><tr><td>102</td><td>28.666667</td></tr><tr><td>103</td><td>29.000000</td></tr></tbody></table></div>"
      ]
     },
     "metadata": {
      "application/vnd.databricks.v1+output": {
       "addedWidgets": {},
       "aggData": [],
       "aggError": "",
       "aggOverflow": false,
       "aggSchema": [],
       "aggSeriesLimitReached": false,
       "aggType": "",
       "arguments": {},
       "columnCustomDisplayInfos": {},
       "data": [
        [
         101,
         "28.600000"
        ],
        [
         102,
         "28.666667"
        ],
        [
         103,
         "29.000000"
        ]
       ],
       "datasetInfos": [],
       "dbfsResultPath": null,
       "isJsonSchema": true,
       "metadata": {},
       "overflow": false,
       "plotOptions": {
        "customPlotOptions": {},
        "displayType": "table",
        "pivotAggregation": null,
        "pivotColumns": null,
        "xColumns": null,
        "yColumns": null
       },
       "removedWidgets": [],
       "schema": [
        {
         "metadata": "{}",
         "name": "restaurant_id",
         "type": "\"integer\""
        },
        {
         "metadata": "{}",
         "name": "avg_food_prep_mins",
         "type": "\"decimal(10,6)\""
        }
       ],
       "type": "table"
      }
     },
     "output_type": "display_data"
    }
   ],
   "source": [
    "# Convert string columns to timestamp\n",
    "orders_df = orders_df.withColumn(\"order_time\", to_timestamp(\"order_time\", \"HH:mm:ss\")) \\\n",
    "                     .withColumn(\"actual_delivery_time\", to_timestamp(\"actual_delivery_time\", \"HH:mm:ss\"))\n",
    "\n",
    "# Calculate food preparation time \n",
    "orders_df = orders_df.withColumn(\n",
    "    \"food_process_time\",\n",
    "    abs(expr(\"(unix_timestamp(actual_delivery_time) - unix_timestamp(order_time)) / 60.0\") - col(\"rider_delivery_mins\").cast(\"double\"))\n",
    ")\n",
    "\n",
    "# Calculate the average food preparation time per restaurant_id\n",
    "#group by restaurant_id avg of food_process_time and in ascending order\n",
    "result_df = orders_df.groupBy(\"restaurant_id\") \\\n",
    "    .agg(avg(\"food_process_time\").alias(\"avg_food_prep_mins\")) \\\n",
    "    .orderBy(\"restaurant_id\") \\\n",
    "    .select(\n",
    "        col(\"restaurant_id\"),\n",
    "        col(\"avg_food_prep_mins\").cast(\"decimal(10,6)\").alias(\"avg_food_prep_mins\") \n",
    "    )\n",
    "\n",
    "# Show the final result\n",
    "result_df.display()"
   ]
  },
  {
   "cell_type": "code",
   "execution_count": 0,
   "metadata": {
    "application/vnd.databricks.v1+cell": {
     "cellMetadata": {},
     "inputWidgets": {},
     "nuid": "537cca36-f186-470e-ae8d-a344e3143c80",
     "showTitle": false,
     "tableResultSettingsMap": {},
     "title": ""
    }
   },
   "outputs": [],
   "source": []
  }
 ],
 "metadata": {
  "application/vnd.databricks.v1+notebook": {
   "dashboards": [],
   "environmentMetadata": null,
   "language": "python",
   "notebookMetadata": {
    "pythonIndentUnit": 4
   },
   "notebookName": "67 - Food Preparation Time",
   "widgets": {}
  }
 },
 "nbformat": 4,
 "nbformat_minor": 0
}
