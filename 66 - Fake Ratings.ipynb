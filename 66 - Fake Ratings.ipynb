{
 "cells": [
  {
   "cell_type": "markdown",
   "metadata": {
    "application/vnd.databricks.v1+cell": {
     "cellMetadata": {
      "byteLimit": 2048000,
      "rowLimit": 10000
     },
     "inputWidgets": {},
     "nuid": "849ff89b-9c37-4e12-b15e-e15edfe41ee0",
     "showTitle": false,
     "tableResultSettingsMap": {},
     "title": ""
    }
   },
   "source": [
    "As an analyst at Amazon, you are responsible for ensuring the integrity of product ratings on the platform. Fake ratings can distort the perception of product quality and mislead customers. To maintain trust and reliability, you need to identify potential fake ratings that deviate significantly from the average ratings for each product.\n",
    "Write an SQL query to identify the single rating that is farthest (in absolute value) from the average rating value for each product, display rating details in ascending order of rating id."
   ]
  },
  {
   "cell_type": "code",
   "execution_count": 0,
   "metadata": {
    "application/vnd.databricks.v1+cell": {
     "cellMetadata": {
      "byteLimit": 2048000,
      "rowLimit": 10000
     },
     "inputWidgets": {},
     "nuid": "3dc92a1f-aeaa-4e96-b31c-ac7056ca1879",
     "showTitle": false,
     "tableResultSettingsMap": {},
     "title": ""
    }
   },
   "outputs": [
    {
     "output_type": "stream",
     "name": "stdout",
     "output_type": "stream",
     "text": [
      "+---------+----------+-------+------+\n|rating_id|product_id|user_id|rating|\n+---------+----------+-------+------+\n|        1|       101|   1001|   4.5|\n|        2|       101|   1002|   4.8|\n|        3|       101|   1003|   4.9|\n|        4|       101|   1004|   5.0|\n|        5|       101|   1005|   3.2|\n|        6|       102|   1006|   4.7|\n|        7|       102|   1007|   4.0|\n|        8|       102|   1008|   4.1|\n|        9|       102|   1009|   3.8|\n|       10|       102|   1010|   3.9|\n+---------+----------+-------+------+\n\n"
     ]
    }
   ],
   "source": [
    "from pyspark.sql import SparkSession\n",
    "from pyspark.sql.types import StructType, StructField, IntegerType, FloatType\n",
    "from pyspark.sql.functions import *\n",
    "from pyspark.sql.window import *\n",
    "from pyspark.sql.types import DecimalType\n",
    "from pyspark.sql.functions import col, avg, abs\n",
    "\n",
    "\n",
    "# Initialize a Spark session\n",
    "spark = SparkSession.builder \\\n",
    "    .appName(\"Fake Ratings Table\") \\\n",
    "    .getOrCreate()\n",
    "\n",
    "# Define the schema\n",
    "schema = StructType([\n",
    "    StructField(\"rating_id\", IntegerType(), True),\n",
    "    StructField(\"product_id\", IntegerType(), True),\n",
    "    StructField(\"user_id\", IntegerType(), True),\n",
    "    StructField(\"rating\", FloatType(), True)\n",
    "])\n",
    "\n",
    "# Define the data\n",
    "data = [\n",
    "    (1, 101, 1001, 4.5),\n",
    "    (2, 101, 1002, 4.8),\n",
    "    (3, 101, 1003, 4.9),\n",
    "    (4, 101, 1004, 5.0),\n",
    "    (5, 101, 1005, 3.2),\n",
    "    (6, 102, 1006, 4.7),\n",
    "    (7, 102, 1007, 4.0),\n",
    "    (8, 102, 1008, 4.1),\n",
    "    (9, 102, 1009, 3.8),\n",
    "    (10, 102, 1010, 3.9)\n",
    "]\n",
    "\n",
    "# Create the DataFrame\n",
    "fake_ratings = spark.createDataFrame(data, schema=schema)\n",
    "\n",
    "# Show the DataFrame\n",
    "fake_ratings.show()\n"
   ]
  },
  {
   "cell_type": "code",
   "execution_count": 0,
   "metadata": {
    "application/vnd.databricks.v1+cell": {
     "cellMetadata": {
      "byteLimit": 2048000,
      "rowLimit": 10000
     },
     "inputWidgets": {},
     "nuid": "2171190c-639f-4293-97b8-b804c651286a",
     "showTitle": false,
     "tableResultSettingsMap": {},
     "title": ""
    }
   },
   "outputs": [
    {
     "output_type": "display_data",
     "data": {
      "text/html": [
       "<style scoped>\n",
       "  .table-result-container {\n",
       "    max-height: 300px;\n",
       "    overflow: auto;\n",
       "  }\n",
       "  table, th, td {\n",
       "    border: 1px solid black;\n",
       "    border-collapse: collapse;\n",
       "  }\n",
       "  th, td {\n",
       "    padding: 5px;\n",
       "  }\n",
       "  th {\n",
       "    text-align: left;\n",
       "  }\n",
       "</style><div class='table-result-container'><table class='table-result'><thead style='background-color: white'><tr><th>rating_id</th><th>product_id</th><th>user_id</th><th>rating</th></tr></thead><tbody><tr><td>5</td><td>101</td><td>1005</td><td>3.2</td></tr><tr><td>6</td><td>102</td><td>1006</td><td>4.7</td></tr></tbody></table></div>"
      ]
     },
     "metadata": {
      "application/vnd.databricks.v1+output": {
       "addedWidgets": {},
       "aggData": [],
       "aggError": "",
       "aggOverflow": false,
       "aggSchema": [],
       "aggSeriesLimitReached": false,
       "aggType": "",
       "arguments": {},
       "columnCustomDisplayInfos": {},
       "data": [
        [
         5,
         101,
         1005,
         3.2
        ],
        [
         6,
         102,
         1006,
         4.7
        ]
       ],
       "datasetInfos": [],
       "dbfsResultPath": null,
       "isJsonSchema": true,
       "metadata": {},
       "overflow": false,
       "plotOptions": {
        "customPlotOptions": {},
        "displayType": "table",
        "pivotAggregation": null,
        "pivotColumns": null,
        "xColumns": null,
        "yColumns": null
       },
       "removedWidgets": [],
       "schema": [
        {
         "metadata": "{}",
         "name": "rating_id",
         "type": "\"integer\""
        },
        {
         "metadata": "{}",
         "name": "product_id",
         "type": "\"integer\""
        },
        {
         "metadata": "{}",
         "name": "user_id",
         "type": "\"integer\""
        },
        {
         "metadata": "{}",
         "name": "rating",
         "type": "\"float\""
        }
       ],
       "type": "table"
      }
     },
     "output_type": "display_data"
    }
   ],
   "source": [
    "\n",
    "#window spec for avg_rating\n",
    "window_spec=Window.partitionBy(col(\"product_id\"))\n",
    "#window spec for row_number\n",
    "window_spec_dis=Window.partitionBy(col(\"product_id\")).orderBy(col(\"diff_rating\").desc())\n",
    "\n",
    "#abs(rating-avg_rating)\n",
    "#findout most discerpency rating within each product_id\n",
    "\n",
    "fake_ratings.withColumn(\"avg_rating\", avg(col(\"rating\")).over(window_spec)) \\\n",
    "    .withColumn(\"diff_rating\", abs(col(\"rating\") - col(\"avg_rating\")).cast(DecimalType(10, 4))) \\\n",
    "        .withColumn(\"discprency_rating\",row_number().over(window_spec_dis)) \\\n",
    "            .filter(col(\"discprency_rating\")==1) \\\n",
    "                .select(\"rating_id\",\"product_id\",\"user_id\",\"rating\").display()\n",
    "\n"
   ]
  },
  {
   "cell_type": "code",
   "execution_count": 0,
   "metadata": {
    "application/vnd.databricks.v1+cell": {
     "cellMetadata": {
      "byteLimit": 2048000,
      "rowLimit": 10000
     },
     "inputWidgets": {},
     "nuid": "f62061b2-e7dc-45da-9a1f-3ffe06f9eb65",
     "showTitle": false,
     "tableResultSettingsMap": {},
     "title": ""
    }
   },
   "outputs": [],
   "source": [
    "window_spec=Window.partitionBy(col(\"rating_id\"))"
   ]
  }
 ],
 "metadata": {
  "application/vnd.databricks.v1+notebook": {
   "dashboards": [],
   "environmentMetadata": null,
   "language": "python",
   "notebookMetadata": {
    "pythonIndentUnit": 4
   },
   "notebookName": "66 - Fake Ratings",
   "widgets": {}
  }
 },
 "nbformat": 4,
 "nbformat_minor": 0
}
