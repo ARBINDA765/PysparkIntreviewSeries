{
 "cells": [
  {
   "cell_type": "code",
   "execution_count": 0,
   "metadata": {
    "application/vnd.databricks.v1+cell": {
     "cellMetadata": {
      "byteLimit": 2048000,
      "rowLimit": 10000
     },
     "inputWidgets": {},
     "nuid": "8b6b9a44-90ec-469e-879d-3e558da73920",
     "showTitle": false,
     "tableResultSettingsMap": {},
     "title": ""
    }
   },
   "outputs": [
    {
     "output_type": "stream",
     "name": "stdout",
     "output_type": "stream",
     "text": [
      "+--------+-----------+-------+\n|match_no|runs_scored| status|\n+--------+-----------+-------+\n|       1|         53|    out|\n|       2|         59|not-out|\n|       3|        113|    out|\n|       4|         29|    out|\n|       5|          0|    out|\n|       6|         39|    out|\n|       7|         73|    out|\n|       8|        149|    out|\n|       9|         93|    out|\n|      10|         25|    out|\n+--------+-----------+-------+\n\n"
     ]
    }
   ],
   "source": [
    "from pyspark.sql import SparkSession\n",
    "from pyspark.sql.types import StructType, StructField, IntegerType, StringType\n",
    "from pyspark.sql.functions import *\n",
    "from pyspark.sql.window import *\n",
    "\n",
    "# Initialize Spark session\n",
    "spark = SparkSession.builder.appName(\"Sachin_DataFrame\").getOrCreate()\n",
    "\n",
    "# Define the schema\n",
    "schema = StructType([\n",
    "    StructField(\"match_no\", IntegerType(), True),\n",
    "    StructField(\"runs_scored\", IntegerType(), True),\n",
    "    StructField(\"status\", StringType(), True)\n",
    "])\n",
    "\n",
    "# Define the data\n",
    "data = [\n",
    "    (1, 53, \"out\"),\n",
    "    (2, 59, \"not-out\"),\n",
    "    (3, 113, \"out\"),\n",
    "    (4, 29, \"out\"),\n",
    "    (5, 0, \"out\"),\n",
    "    (6, 39, \"out\"),\n",
    "    (7, 73, \"out\"),\n",
    "    (8, 149, \"out\"),\n",
    "    (9, 93, \"out\"),\n",
    "    (10, 25, \"out\")\n",
    "]\n",
    "\n",
    "# Create the DataFrame\n",
    "sachin = spark.createDataFrame(data, schema=schema)\n",
    "\n",
    "# Show the DataFrame\n",
    "sachin.show()\n"
   ]
  },
  {
   "cell_type": "code",
   "execution_count": 0,
   "metadata": {
    "application/vnd.databricks.v1+cell": {
     "cellMetadata": {
      "byteLimit": 2048000,
      "rowLimit": 10000
     },
     "inputWidgets": {},
     "nuid": "c24a956f-a8a8-4e3e-ac79-91adbbdaf527",
     "showTitle": false,
     "tableResultSettingsMap": {},
     "title": ""
    }
   },
   "outputs": [
    {
     "output_type": "display_data",
     "data": {
      "text/html": [
       "<style scoped>\n",
       "  .table-result-container {\n",
       "    max-height: 300px;\n",
       "    overflow: auto;\n",
       "  }\n",
       "  table, th, td {\n",
       "    border: 1px solid black;\n",
       "    border-collapse: collapse;\n",
       "  }\n",
       "  th, td {\n",
       "    padding: 5px;\n",
       "  }\n",
       "  th {\n",
       "    text-align: left;\n",
       "  }\n",
       "</style><div class='table-result-container'><table class='table-result'><thead style='background-color: white'><tr><th>match_no</th><th>batting_average</th></tr></thead><tbody><tr><td>8</td><td>70.33</td></tr></tbody></table></div>"
      ]
     },
     "metadata": {
      "application/vnd.databricks.v1+output": {
       "addedWidgets": {},
       "aggData": [],
       "aggError": "",
       "aggOverflow": false,
       "aggSchema": [],
       "aggSeriesLimitReached": false,
       "aggType": "",
       "arguments": {},
       "columnCustomDisplayInfos": {},
       "data": [
        [
         8,
         70.33
        ]
       ],
       "datasetInfos": [],
       "dbfsResultPath": null,
       "isJsonSchema": true,
       "metadata": {},
       "overflow": false,
       "plotOptions": {
        "customPlotOptions": {},
        "displayType": "table",
        "pivotAggregation": null,
        "pivotColumns": null,
        "xColumns": null,
        "yColumns": null
       },
       "removedWidgets": [],
       "schema": [
        {
         "metadata": "{}",
         "name": "match_no",
         "type": "\"integer\""
        },
        {
         "metadata": "{}",
         "name": "batting_average",
         "type": "\"double\""
        }
       ],
       "type": "table"
      }
     },
     "output_type": "display_data"
    }
   ],
   "source": [
    "window_spec = Window.orderBy(col(\"match_no\")).rowsBetween(Window.unboundedPreceding, Window.currentRow)\n",
    "window_spec_avg = Window.orderBy(col(\"match_no\")).rowsBetween(Window.unboundedPreceding, Window.unboundedFollowing)\n",
    "window_spec_out=Window.partitionBy(col(\"status\"))\n",
    "\n",
    "ans_df=sachin.withColumn(\"running_sum\",sum(\"runs_scored\").over(window_spec)) \\\n",
    "    .withColumn(\"total_run\",sum(\"runs_scored\").over(window_spec_avg)) \\\n",
    "        .withColumn(\"out\",when(col(\"status\")==\"out\",lit(1)).otherwise(lit(0))) \\\n",
    "            .withColumn(\"total_out\",count(col(\"status\")).over(window_spec_out)) \\\n",
    "                .filter(col(\"running_sum\")>=500) \\\n",
    "                    .withColumn(\"rn\",row_number().over(Window.orderBy(col(\"match_no\")))) \\\n",
    "                        .filter(col(\"rn\")==1) \\\n",
    "                            .withColumn(\"total_run\",col(\"total_run\").cast(IntegerType())) \\\n",
    "                                .withColumn(\"total_out\",col(\"total_out\").cast(IntegerType())) \\\n",
    "                                     .select(\"match_no\", round((col(\"total_run\") / col(\"total_out\")), 2).alias(\"batting_average\"))\n",
    "ans_df.display()\n"
   ]
  },
  {
   "cell_type": "code",
   "execution_count": 0,
   "metadata": {
    "application/vnd.databricks.v1+cell": {
     "cellMetadata": {
      "byteLimit": 2048000,
      "rowLimit": 10000
     },
     "inputWidgets": {},
     "nuid": "b15b8732-4a4d-449a-b8d6-54df6fd21746",
     "showTitle": false,
     "tableResultSettingsMap": {},
     "title": ""
    }
   },
   "outputs": [
    {
     "output_type": "display_data",
     "data": {
      "text/html": [
       "<style scoped>\n",
       "  .table-result-container {\n",
       "    max-height: 300px;\n",
       "    overflow: auto;\n",
       "  }\n",
       "  table, th, td {\n",
       "    border: 1px solid black;\n",
       "    border-collapse: collapse;\n",
       "  }\n",
       "  th, td {\n",
       "    padding: 5px;\n",
       "  }\n",
       "  th {\n",
       "    text-align: left;\n",
       "  }\n",
       "</style><div class='table-result-container'><table class='table-result'><thead style='background-color: white'><tr><th>match_no</th><th>batting_average</th></tr></thead><tbody><tr><td>8</td><td>70.33</td></tr></tbody></table></div>"
      ]
     },
     "metadata": {
      "application/vnd.databricks.v1+output": {
       "addedWidgets": {},
       "aggData": [],
       "aggError": "",
       "aggOverflow": false,
       "aggSchema": [],
       "aggSeriesLimitReached": false,
       "aggType": "",
       "arguments": {},
       "columnCustomDisplayInfos": {},
       "data": [
        [
         8,
         70.33
        ]
       ],
       "datasetInfos": [],
       "dbfsResultPath": null,
       "isJsonSchema": true,
       "metadata": {},
       "overflow": false,
       "plotOptions": {
        "customPlotOptions": {},
        "displayType": "table",
        "pivotAggregation": null,
        "pivotColumns": null,
        "xColumns": null,
        "yColumns": null
       },
       "removedWidgets": [],
       "schema": [
        {
         "metadata": "{}",
         "name": "match_no",
         "type": "\"integer\""
        },
        {
         "metadata": "{}",
         "name": "batting_average",
         "type": "\"double\""
        }
       ],
       "type": "table"
      }
     },
     "output_type": "display_data"
    }
   ],
   "source": []
  },
  {
   "cell_type": "code",
   "execution_count": 0,
   "metadata": {
    "application/vnd.databricks.v1+cell": {
     "cellMetadata": {
      "byteLimit": 2048000,
      "rowLimit": 10000
     },
     "inputWidgets": {},
     "nuid": "164c3f5f-075c-4005-b054-80b51fb00a5b",
     "showTitle": false,
     "tableResultSettingsMap": {},
     "title": ""
    }
   },
   "outputs": [],
   "source": []
  }
 ],
 "metadata": {
  "application/vnd.databricks.v1+notebook": {
   "dashboards": [],
   "environmentMetadata": null,
   "language": "python",
   "notebookMetadata": {
    "pythonIndentUnit": 4
   },
   "notebookName": "10 - The Little Master",
   "widgets": {}
  }
 },
 "nbformat": 4,
 "nbformat_minor": 0
}
