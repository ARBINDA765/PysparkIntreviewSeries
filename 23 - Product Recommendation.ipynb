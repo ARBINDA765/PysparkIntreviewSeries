{
 "cells": [
  {
   "cell_type": "code",
   "execution_count": 0,
   "metadata": {
    "application/vnd.databricks.v1+cell": {
     "cellMetadata": {
      "byteLimit": 2048000,
      "rowLimit": 10000
     },
     "inputWidgets": {},
     "nuid": "ff42e75c-e4e3-4b50-85d3-b0e537b0a91b",
     "showTitle": false,
     "tableResultSettingsMap": {},
     "title": ""
    }
   },
   "outputs": [
    {
     "output_type": "stream",
     "name": "stdout",
     "output_type": "stream",
     "text": [
      "+--------+-----------+----------+\n|order_id|customer_id|product_id|\n+--------+-----------+----------+\n|       1|          1|        p1|\n|       1|          1|        p2|\n|       1|          1|        p3|\n|       2|          2|        p1|\n|       2|          2|        p2|\n|       2|          2|        p4|\n|       3|          1|        p5|\n|       3|          1|        p6|\n|       4|          3|        p1|\n|       4|          3|        p3|\n|       4|          3|        p5|\n|       5|          4|        p2|\n|       5|          4|        p4|\n|       5|          4|        p1|\n+--------+-----------+----------+\n\n"
     ]
    }
   ],
   "source": [
    "from pyspark.sql import SparkSession\n",
    "from pyspark.sql.functions import *\n",
    "\n",
    "\n",
    "# Initialize a Spark session\n",
    "spark = SparkSession.builder.appName(\"CreateOrdersDataFrame\").getOrCreate()\n",
    "\n",
    "# Create a list of tuples with the data\n",
    "data = [\n",
    "    (1, 1, \"p1\"),\n",
    "    (1, 1, \"p2\"),\n",
    "    (1, 1, \"p3\"),\n",
    "    (2, 2, \"p1\"),\n",
    "    (2, 2, \"p2\"),\n",
    "    (2, 2, \"p4\"),\n",
    "    (3, 1, \"p5\"),\n",
    "    (3, 1, \"p6\"),\n",
    "    (4, 3, \"p1\"),\n",
    "    (4, 3, \"p3\"),\n",
    "    (4, 3, \"p5\"),\n",
    "    (5, 4, \"p2\"),\n",
    "    (5, 4, \"p4\"),\n",
    "    (5, 4, \"p1\"),\n",
    "    \n",
    "]\n",
    "\n",
    "# Define the schema\n",
    "columns = [\"order_id\", \"customer_id\", \"product_id\"]\n",
    "\n",
    "# Create the DataFrame\n",
    "orders = spark.createDataFrame(data, schema=columns)\n",
    "\n",
    "# Show the DataFrame\n",
    "orders.show()\n"
   ]
  },
  {
   "cell_type": "code",
   "execution_count": 0,
   "metadata": {
    "application/vnd.databricks.v1+cell": {
     "cellMetadata": {
      "byteLimit": 2048000,
      "rowLimit": 10000
     },
     "inputWidgets": {},
     "nuid": "cc7cf75d-4374-4ee1-ad25-b89847807478",
     "showTitle": false,
     "tableResultSettingsMap": {},
     "title": ""
    }
   },
   "outputs": [
    {
     "output_type": "stream",
     "name": "stdout",
     "output_type": "stream",
     "text": [
      "+---------+---------+------------------+\n|product_1|product_2|purchase_frequency|\n+---------+---------+------------------+\n|       p2|       p1|                 3|\n|       p3|       p1|                 2|\n|       p4|       p1|                 2|\n|       p4|       p2|                 2|\n|       p3|       p2|                 1|\n|       p6|       p5|                 1|\n|       p5|       p3|                 1|\n|       p5|       p1|                 1|\n+---------+---------+------------------+\n\n"
     ]
    }
   ],
   "source": [
    "order_o1 = orders.alias(\"o1\")\n",
    "order_o2 = orders.alias(\"o2\")\n",
    "\n",
    "result = (\n",
    "    order_o1\n",
    "    .join(\n",
    "        order_o2,\n",
    "        [\n",
    "            (col(\"o1.order_id\") == col(\"o2.order_id\")) &\n",
    "            (col(\"o1.product_id\") > col(\"o2.product_id\"))\n",
    "        ],\n",
    "        how=\"inner\"\n",
    "    )\n",
    "    .select(\n",
    "        col(\"o1.product_id\").alias(\"product_1\"),\n",
    "        col(\"o2.product_id\").alias(\"product_2\")\n",
    "    )\n",
    "    .groupBy(col(\"product_1\"), col(\"product_2\"))\n",
    "    .agg(count(\"*\").alias(\"purchase_frequency\"))\n",
    "    .orderBy(col(\"purchase_frequency\").desc())\n",
    ")\n",
    "result.show()\n"
   ]
  },
  {
   "cell_type": "code",
   "execution_count": 0,
   "metadata": {
    "application/vnd.databricks.v1+cell": {
     "cellMetadata": {},
     "inputWidgets": {},
     "nuid": "c41d9dc2-92d0-4e3f-b8d2-dc89d5092031",
     "showTitle": false,
     "tableResultSettingsMap": {},
     "title": ""
    }
   },
   "outputs": [],
   "source": []
  }
 ],
 "metadata": {
  "application/vnd.databricks.v1+notebook": {
   "computePreferences": null,
   "dashboards": [],
   "environmentMetadata": {
    "base_environment": "",
    "client": "1"
   },
   "language": "python",
   "notebookMetadata": {
    "pythonIndentUnit": 4
   },
   "notebookName": "23 - Product Recommendation",
   "widgets": {}
  }
 },
 "nbformat": 4,
 "nbformat_minor": 0
}
