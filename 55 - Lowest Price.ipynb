{
 "cells": [
  {
   "cell_type": "markdown",
   "metadata": {
    "application/vnd.databricks.v1+cell": {
     "cellMetadata": {},
     "inputWidgets": {},
     "nuid": "e7bdab3b-5f01-4add-a05b-5e7b58f9533a",
     "showTitle": false,
     "tableResultSettingsMap": {},
     "title": ""
    }
   },
   "source": [
    "You own a small online store, and want to analyze customer ratings for the products that you're selling. After doing a data pull, you have a list of products and a log of purchases. Within the purchase log, each record includes the number of stars (from 1 to 5) as a customer rating for the product.\n",
    "\n",
    "For each category, find the lowest price among all products that received at least one 4-star or above rating from customers.\n",
    "If a product category did not have any products that received at least one 4-star or above rating, the lowest price is considered to be 0. The final output should be sorted by product category in alphabetical order."
   ]
  },
  {
   "cell_type": "code",
   "execution_count": 0,
   "metadata": {
    "application/vnd.databricks.v1+cell": {
     "cellMetadata": {
      "byteLimit": 2048000,
      "rowLimit": 10000
     },
     "inputWidgets": {},
     "nuid": "280c5155-05a3-415b-a908-ce810c2ba998",
     "showTitle": false,
     "tableResultSettingsMap": {},
     "title": ""
    }
   },
   "outputs": [
    {
     "output_type": "stream",
     "name": "stdout",
     "output_type": "stream",
     "text": [
      "Products Table:\n+---+----------------+--------+-----+\n| id|            name|category|price|\n+---+----------------+--------+-----+\n|  1|     Cripps Pink|   apple|   10|\n|  2|    Navel Orange|  orange|   12|\n|  3|Golden Delicious|   apple|    6|\n|  4|      Clementine|  orange|   14|\n|  5|      Pinot Noir|   grape|   20|\n|  6|   Bing Cherries|  cherry|   36|\n|  7|  Sweet Cherries|  cherry|   40|\n+---+----------------+--------+-----+\n\nPurchases Table:\n+---+----------+-----+\n| id|product_id|stars|\n+---+----------+-----+\n|  1|         1|    2|\n|  2|         3|    3|\n|  3|         2|    2|\n|  4|         4|    4|\n|  5|         6|    5|\n|  6|         6|    4|\n|  7|         7|    5|\n+---+----------+-----+\n\n"
     ]
    }
   ],
   "source": [
    "from pyspark.sql import SparkSession\n",
    "from pyspark.sql.types import StructType, StructField, IntegerType, StringType\n",
    "from pyspark.sql.functions  import *\n",
    "\n",
    "\n",
    "# Initialize Spark session\n",
    "spark = SparkSession.builder.appName(\"Products and Purchases Tables\").getOrCreate()\n",
    "\n",
    "# Define schema for the products table\n",
    "products_schema = StructType([\n",
    "    StructField(\"id\", IntegerType(), True),\n",
    "    StructField(\"name\", StringType(), True),\n",
    "    StructField(\"category\", StringType(), True),\n",
    "    StructField(\"price\", IntegerType(), True)\n",
    "])\n",
    "\n",
    "# Define data for the products table\n",
    "products_data = [\n",
    "    (1, \"Cripps Pink\", \"apple\", 10),\n",
    "    (2, \"Navel Orange\", \"orange\", 12),\n",
    "    (3, \"Golden Delicious\", \"apple\", 6),\n",
    "    (4, \"Clementine\", \"orange\", 14),\n",
    "    (5, \"Pinot Noir\", \"grape\", 20),\n",
    "    (6, \"Bing Cherries\", \"cherry\", 36),\n",
    "    (7, \"Sweet Cherries\", \"cherry\", 40)\n",
    "]\n",
    "\n",
    "# Create DataFrame for the products table\n",
    "products_df = spark.createDataFrame(data=products_data, schema=products_schema)\n",
    "\n",
    "# Define schema for the purchases table\n",
    "purchases_schema = StructType([\n",
    "    StructField(\"id\", IntegerType(), True),\n",
    "    StructField(\"product_id\", IntegerType(), True),\n",
    "    StructField(\"stars\", IntegerType(), True)\n",
    "])\n",
    "\n",
    "# Define data for the purchases table\n",
    "purchases_data = [\n",
    "    (1, 1, 2),\n",
    "    (2, 3, 3),\n",
    "    (3, 2, 2),\n",
    "    (4, 4, 4),\n",
    "    (5, 6, 5),\n",
    "    (6, 6, 4),\n",
    "    (7, 7, 5)\n",
    "]\n",
    "\n",
    "# Create DataFrame for the purchases table\n",
    "purchases_df = spark.createDataFrame(data=purchases_data, schema=purchases_schema)\n",
    "\n",
    "# Show the tables\n",
    "print(\"Products Table:\")\n",
    "products_df.show()\n",
    "\n",
    "print(\"Purchases Table:\")\n",
    "purchases_df.show()\n"
   ]
  },
  {
   "cell_type": "code",
   "execution_count": 0,
   "metadata": {
    "application/vnd.databricks.v1+cell": {
     "cellMetadata": {
      "byteLimit": 2048000,
      "rowLimit": 10000
     },
     "inputWidgets": {},
     "nuid": "61844e99-da60-422c-9ae1-a33e8bbdc469",
     "showTitle": false,
     "tableResultSettingsMap": {},
     "title": ""
    }
   },
   "outputs": [
    {
     "output_type": "stream",
     "name": "stdout",
     "output_type": "stream",
     "text": [
      "+--------+------------+\n|category|lowest_price|\n+--------+------------+\n|   apple|           0|\n|  orange|          14|\n|   grape|           0|\n|  cherry|          36|\n+--------+------------+\n\n"
     ]
    }
   ],
   "source": [
    "from pyspark.sql.functions import col, when, lit, min, coalesce\n",
    "\n",
    "result_df = products_df.join(\n",
    "    purchases_df,\n",
    "    on=[(products_df.id == purchases_df.product_id) & ((purchases_df.stars == 4) | (purchases_df.stars == 5))],\n",
    "    how=\"left\"\n",
    ").select(\"product_id\", \"category\", \"price\", \"stars\") \\\n",
    "  .orderBy(col(\"category\")) \\\n",
    "    .withColumn(\"price_\", when(col(\"stars\").isNotNull(), col(\"price\")).otherwise(lit(None))) \\\n",
    "      .select(\"category\", \"price_\") \\\n",
    "        .groupBy(col(\"category\")).agg(min(col(\"price_\")).alias(\"lowest_price\")) \\\n",
    "          .select(\"category\",coalesce(\"lowest_price\",lit(0)).alias(\"lowest_price\"))\n",
    "# Display the result\n",
    "result_df.show()\n"
   ]
  },
  {
   "cell_type": "code",
   "execution_count": 0,
   "metadata": {
    "application/vnd.databricks.v1+cell": {
     "cellMetadata": {},
     "inputWidgets": {},
     "nuid": "e998b3a5-5705-4056-b7a9-de141b95850c",
     "showTitle": false,
     "tableResultSettingsMap": {},
     "title": ""
    }
   },
   "outputs": [],
   "source": []
  }
 ],
 "metadata": {
  "application/vnd.databricks.v1+notebook": {
   "dashboards": [],
   "environmentMetadata": null,
   "language": "python",
   "notebookMetadata": {
    "pythonIndentUnit": 2
   },
   "notebookName": "55 - Lowest Price",
   "widgets": {}
  }
 },
 "nbformat": 4,
 "nbformat_minor": 0
}
