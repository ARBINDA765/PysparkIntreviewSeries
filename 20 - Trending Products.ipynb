{
 "cells": [
  {
   "cell_type": "markdown",
   "metadata": {
    "application/vnd.databricks.v1+cell": {
     "cellMetadata": {},
     "inputWidgets": {},
     "nuid": "c6ef84d0-e5b1-4a41-ae46-112b907cf88f",
     "showTitle": false,
     "tableResultSettingsMap": {},
     "title": ""
    }
   },
   "source": [
    "Amazon wants to find out the trending products for each month. Trending products are those for which any given month sales are more than the sum of previous 2 months sales for that product.\n",
    "\n",
    "Please note that for first 2 months of operations this metrics does not make sense. So output should start from 3rd month only.  Assume that each product has at least 1 sale each month, display order month and product id. Sort by order month."
   ]
  },
  {
   "cell_type": "code",
   "execution_count": 0,
   "metadata": {
    "application/vnd.databricks.v1+cell": {
     "cellMetadata": {
      "byteLimit": 2048000,
      "rowLimit": 10000
     },
     "inputWidgets": {},
     "nuid": "3e62fd76-5db8-41ac-aa2e-7b5872dcb722",
     "showTitle": false,
     "tableResultSettingsMap": {},
     "title": ""
    }
   },
   "outputs": [
    {
     "output_type": "stream",
     "name": "stdout",
     "output_type": "stream",
     "text": [
      "+-----------+----------+-----+\n|order_month|product_id|sales|\n+-----------+----------+-----+\n|     202301|        p1|  100|\n|     202301|        p2|  500|\n|     202302|        p1|  700|\n|     202302|        p2|  300|\n|     202303|        p1|  900|\n|     202303|        p2|  700|\n|     202304|        p2| 2000|\n|     202305|        p1| 1500|\n|     202305|        p2| 1300|\n|     202306|        p1| 1700|\n|     202306|        p2| 1200|\n|     202304|        p2| 1100|\n|     202307|        p1| 1900|\n|     202307|        p2| 1400|\n|     202308|        p1| 2100|\n|     202308|        p2| 1600|\n|     202309|        p1| 2300|\n|     202309|        p2| 1800|\n|     202310|        p1| 5000|\n|     202310|        p2| 2000|\n+-----------+----------+-----+\n\n"
     ]
    }
   ],
   "source": [
    "from pyspark.sql import SparkSession\n",
    "from pyspark.sql.functions import *\n",
    "from pyspark.sql.window import *\n",
    "\n",
    "# Initialize Spark session\n",
    "spark = SparkSession.builder.appName(\"CreateOrdersDataFrame\").getOrCreate()\n",
    "\n",
    "# Define the data as a list of dictionaries\n",
    "data = [\n",
    "    {\"order_month\": \"202301\", \"product_id\": \"p1\", \"sales\": 100},\n",
    "    {\"order_month\": \"202301\", \"product_id\": \"p2\", \"sales\": 500},\n",
    "    {\"order_month\": \"202302\", \"product_id\": \"p1\", \"sales\": 700},\n",
    "    {\"order_month\": \"202302\", \"product_id\": \"p2\", \"sales\": 300},\n",
    "    {\"order_month\": \"202303\", \"product_id\": \"p1\", \"sales\": 900},\n",
    "    {\"order_month\": \"202303\", \"product_id\": \"p2\", \"sales\": 700},\n",
    "    {\"order_month\": \"202304\", \"product_id\": \"p2\", \"sales\": 2000},\n",
    "    {\"order_month\": \"202305\", \"product_id\": \"p1\", \"sales\": 1500},\n",
    "    {\"order_month\": \"202305\", \"product_id\": \"p2\", \"sales\": 1300},\n",
    "    {\"order_month\": \"202306\", \"product_id\": \"p1\", \"sales\": 1700},\n",
    "    {\"order_month\": \"202306\", \"product_id\": \"p2\", \"sales\": 1200},\n",
    "    {\"order_month\": \"202304\", \"product_id\": \"p2\", \"sales\": 1100},\n",
    "    {\"order_month\": \"202307\", \"product_id\": \"p1\", \"sales\": 1900},\n",
    "    {\"order_month\": \"202307\", \"product_id\": \"p2\", \"sales\": 1400},\n",
    "    {\"order_month\": \"202308\", \"product_id\": \"p1\", \"sales\": 2100},\n",
    "    {\"order_month\": \"202308\", \"product_id\": \"p2\", \"sales\": 1600},\n",
    "    {\"order_month\": \"202309\", \"product_id\": \"p1\", \"sales\": 2300},\n",
    "    {\"order_month\": \"202309\", \"product_id\": \"p2\", \"sales\": 1800},\n",
    "    {\"order_month\": \"202310\", \"product_id\": \"p1\", \"sales\": 5000},\n",
    "    {\"order_month\": \"202310\", \"product_id\": \"p2\", \"sales\": 2000},\n",
    "]\n",
    "\n",
    "# Create the DataFrame\n",
    "orders = spark.createDataFrame(data)\n",
    "\n",
    "# Show the DataFrame\n",
    "orders.show()\n"
   ]
  },
  {
   "cell_type": "code",
   "execution_count": 0,
   "metadata": {
    "application/vnd.databricks.v1+cell": {
     "cellMetadata": {
      "byteLimit": 2048000,
      "rowLimit": 10000
     },
     "inputWidgets": {},
     "nuid": "8a60b794-298e-4f85-874d-91737f480f5e",
     "showTitle": false,
     "tableResultSettingsMap": {},
     "title": ""
    }
   },
   "outputs": [],
   "source": [
    "window_spec = Window.partitionBy(col(\"product_id\")).orderBy(col(\"order_month\").asc())\n",
    "\n",
    "orders.withColumn(\"prev_2_sales\", sum(col(\"sales\")).over(window_spec.rowsBetween(-2, -1))) \\\n",
    "    .withColumn(\"rn\",row_number().over(window_spec)) \\\n",
    "        .filter(\n",
    "            (col(\"rn\")>2) & (col(\"sales\")>col(\"prev_2_sales\"))\n",
    "            ).select(\"order_month\",\"product_id\") \\\n",
    "                .orderBy(col(\"order_month\")).display()\n",
    "\n"
   ]
  },
  {
   "cell_type": "code",
   "execution_count": 0,
   "metadata": {
    "application/vnd.databricks.v1+cell": {
     "cellMetadata": {
      "byteLimit": 2048000,
      "rowLimit": 10000
     },
     "inputWidgets": {},
     "nuid": "4f085651-aece-4104-9fe2-7e883150f3a8",
     "showTitle": false,
     "tableResultSettingsMap": {},
     "title": ""
    }
   },
   "outputs": [
    {
     "output_type": "stream",
     "name": "stdout",
     "output_type": "stream",
     "text": [
      "+-----------+----------+\n|order_month|product_id|\n+-----------+----------+\n|     202303|        p1|\n|     202304|        p2|\n|     202310|        p1|\n+-----------+----------+\n\n"
     ]
    }
   ],
   "source": [
    "\n",
    "# Define a window for partitioning by `product_id` and ordering by `order_month`\n",
    "window_spec_sum = Window.partitionBy(\"product_id\").orderBy(\"order_month\").rowsBetween(-2, -1)\n",
    "window_spec_row_number = Window.partitionBy(\"product_id\").orderBy(\"order_month\")\n",
    "\n",
    "# Add the calculated columns `prev_2` (sum of sales over window) and `rn` (row number)\n",
    "orders_with_windows = orders.withColumn(\n",
    "    \"prev_2\", spark_sum(\"sales\").over(window_spec_sum)\n",
    ").withColumn(\n",
    "    \"rn\", row_number().over(window_spec_row_number)\n",
    ")\n",
    "\n",
    "# Filter rows where `rn > 2` and `sales > prev_2`\n",
    "filtered_orders = orders_with_windows.filter((col(\"rn\") > 2) & (col(\"sales\") > col(\"prev_2\")))\n",
    "\n",
    "# Select the required columns and order by `order_month`\n",
    "result = filtered_orders.select(\"order_month\", \"product_id\").orderBy(\"order_month\")\n",
    "\n",
    "# Show the result\n",
    "result.show()\n"
   ]
  },
  {
   "cell_type": "code",
   "execution_count": 0,
   "metadata": {
    "application/vnd.databricks.v1+cell": {
     "cellMetadata": {},
     "inputWidgets": {},
     "nuid": "53435741-52d1-4eb9-9223-838bbf2890b8",
     "showTitle": false,
     "tableResultSettingsMap": {},
     "title": ""
    }
   },
   "outputs": [],
   "source": []
  }
 ],
 "metadata": {
  "application/vnd.databricks.v1+notebook": {
   "computePreferences": null,
   "dashboards": [],
   "environmentMetadata": {
    "base_environment": "",
    "client": "1"
   },
   "language": "python",
   "notebookMetadata": {
    "pythonIndentUnit": 4
   },
   "notebookName": "20 - Trending Products",
   "widgets": {}
  }
 },
 "nbformat": 4,
 "nbformat_minor": 0
}
