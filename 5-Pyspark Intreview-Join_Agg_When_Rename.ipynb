{
 "cells": [
  {
   "cell_type": "code",
   "execution_count": 0,
   "metadata": {
    "application/vnd.databricks.v1+cell": {
     "cellMetadata": {
      "byteLimit": 2048000,
      "rowLimit": 10000
     },
     "inputWidgets": {},
     "nuid": "4314f643-bdac-4fd3-bbb2-05f80b082754",
     "showTitle": false,
     "title": ""
    }
   },
   "outputs": [],
   "source": [
    "from pyspark.sql.functions import *\n",
    "from pyspark.sql.types import *"
   ]
  },
  {
   "cell_type": "code",
   "execution_count": 0,
   "metadata": {
    "application/vnd.databricks.v1+cell": {
     "cellMetadata": {
      "byteLimit": 2048000,
      "rowLimit": 10000
     },
     "inputWidgets": {},
     "nuid": "86cb5755-a432-4527-91a9-54d9c066e3bc",
     "showTitle": false,
     "title": ""
    }
   },
   "outputs": [
    {
     "output_type": "display_data",
     "data": {
      "text/html": [
       "<style scoped>\n",
       "  .table-result-container {\n",
       "    max-height: 300px;\n",
       "    overflow: auto;\n",
       "  }\n",
       "  table, th, td {\n",
       "    border: 1px solid black;\n",
       "    border-collapse: collapse;\n",
       "  }\n",
       "  th, td {\n",
       "    padding: 5px;\n",
       "  }\n",
       "  th {\n",
       "    text-align: left;\n",
       "  }\n",
       "</style><div class='table-result-container'><table class='table-result'><thead style='background-color: white'><tr><th>Id</th><th>Name</th></tr></thead><tbody><tr><td>1</td><td>Steve</td></tr><tr><td>2</td><td>David</td></tr><tr><td>3</td><td>John</td></tr><tr><td>4</td><td>Shree</td></tr><tr><td>5</td><td>Helen</td></tr></tbody></table></div>"
      ]
     },
     "metadata": {
      "application/vnd.databricks.v1+output": {
       "addedWidgets": {},
       "aggData": [],
       "aggError": "",
       "aggOverflow": false,
       "aggSchema": [],
       "aggSeriesLimitReached": false,
       "aggType": "",
       "arguments": {},
       "columnCustomDisplayInfos": {},
       "data": [
        [
         1,
         "Steve"
        ],
        [
         2,
         "David"
        ],
        [
         3,
         "John"
        ],
        [
         4,
         "Shree"
        ],
        [
         5,
         "Helen"
        ]
       ],
       "datasetInfos": [],
       "dbfsResultPath": null,
       "isJsonSchema": true,
       "metadata": {},
       "overflow": false,
       "plotOptions": {
        "customPlotOptions": {},
        "displayType": "table",
        "pivotAggregation": null,
        "pivotColumns": null,
        "xColumns": null,
        "yColumns": null
       },
       "removedWidgets": [],
       "schema": [
        {
         "metadata": "{}",
         "name": "Id",
         "type": "\"long\""
        },
        {
         "metadata": "{}",
         "name": "Name",
         "type": "\"string\""
        }
       ],
       "type": "table"
      }
     },
     "output_type": "display_data"
    },
    {
     "output_type": "display_data",
     "data": {
      "text/html": [
       "<style scoped>\n",
       "  .table-result-container {\n",
       "    max-height: 300px;\n",
       "    overflow: auto;\n",
       "  }\n",
       "  table, th, td {\n",
       "    border: 1px solid black;\n",
       "    border-collapse: collapse;\n",
       "  }\n",
       "  th, td {\n",
       "    padding: 5px;\n",
       "  }\n",
       "  th {\n",
       "    text-align: left;\n",
       "  }\n",
       "</style><div class='table-result-container'><table class='table-result'><thead style='background-color: white'><tr><th>Id</th><th>Subject</th><th>Mark</th></tr></thead><tbody><tr><td>1</td><td>SQL</td><td>90</td></tr><tr><td>1</td><td>PySpark</td><td>100</td></tr><tr><td>2</td><td>SQL</td><td>70</td></tr><tr><td>2</td><td>PySpark</td><td>60</td></tr><tr><td>3</td><td>SQL</td><td>30</td></tr><tr><td>3</td><td>PySpark</td><td>20</td></tr><tr><td>4</td><td>SQL</td><td>50</td></tr><tr><td>4</td><td>PySpark</td><td>50</td></tr><tr><td>5</td><td>SQL</td><td>45</td></tr><tr><td>5</td><td>PySpark</td><td>45</td></tr></tbody></table></div>"
      ]
     },
     "metadata": {
      "application/vnd.databricks.v1+output": {
       "addedWidgets": {},
       "aggData": [],
       "aggError": "",
       "aggOverflow": false,
       "aggSchema": [],
       "aggSeriesLimitReached": false,
       "aggType": "",
       "arguments": {},
       "columnCustomDisplayInfos": {},
       "data": [
        [
         1,
         "SQL",
         90
        ],
        [
         1,
         "PySpark",
         100
        ],
        [
         2,
         "SQL",
         70
        ],
        [
         2,
         "PySpark",
         60
        ],
        [
         3,
         "SQL",
         30
        ],
        [
         3,
         "PySpark",
         20
        ],
        [
         4,
         "SQL",
         50
        ],
        [
         4,
         "PySpark",
         50
        ],
        [
         5,
         "SQL",
         45
        ],
        [
         5,
         "PySpark",
         45
        ]
       ],
       "datasetInfos": [],
       "dbfsResultPath": null,
       "isJsonSchema": true,
       "metadata": {},
       "overflow": false,
       "plotOptions": {
        "customPlotOptions": {},
        "displayType": "table",
        "pivotAggregation": null,
        "pivotColumns": null,
        "xColumns": null,
        "yColumns": null
       },
       "removedWidgets": [],
       "schema": [
        {
         "metadata": "{}",
         "name": "Id",
         "type": "\"long\""
        },
        {
         "metadata": "{}",
         "name": "Subject",
         "type": "\"string\""
        },
        {
         "metadata": "{}",
         "name": "Mark",
         "type": "\"long\""
        }
       ],
       "type": "table"
      }
     },
     "output_type": "display_data"
    }
   ],
   "source": [
    "#Create dataframe:\n",
    "#Sample data frame \n",
    "#======================================================\n",
    "data1=[(1,\"Steve\"),(2,\"David\"),(3,\"John\"),(4,\"Shree\"),(5,\"Helen\")]\n",
    "data2=[(1,\"SQL\",90),(1,\"PySpark\",100),(2,\"SQL\",70),(2,\"PySpark\",60),(3,\"SQL\",30),(3,\"PySpark\",20),(4,\"SQL\",50),(4,\"PySpark\",50),(5,\"SQL\",45),(5,\"PySpark\",45)]\n",
    "\n",
    "schema1=[\"Id\",\"Name\"]\n",
    "schema2=[\"Id\",\"Subject\",\"Mark\"]\n",
    "\n",
    "df1=spark.createDataFrame(data1,schema1)\n",
    "df2=spark.createDataFrame(data2,schema2)\n",
    "display(df1)\n",
    "display(df2)"
   ]
  },
  {
   "cell_type": "code",
   "execution_count": 0,
   "metadata": {
    "application/vnd.databricks.v1+cell": {
     "cellMetadata": {
      "byteLimit": 2048000,
      "rowLimit": 10000
     },
     "inputWidgets": {},
     "nuid": "126a1225-f910-471b-a4e1-ac9227f150c1",
     "showTitle": false,
     "title": ""
    }
   },
   "outputs": [],
   "source": [
    "#Joining on ID \n",
    "df=df1.join(df2,df1.Id==df2.Id).drop(df2.Id)\n",
    "#Group by and Agg\n",
    "df=df.groupBy('Id','Name').agg((sum('Mark')/count('*')).alias(\"Percentage\"))\n"
   ]
  },
  {
   "cell_type": "code",
   "execution_count": 0,
   "metadata": {
    "application/vnd.databricks.v1+cell": {
     "cellMetadata": {
      "byteLimit": 2048000,
      "rowLimit": 10000
     },
     "inputWidgets": {},
     "nuid": "36a8e097-e9a2-4a2f-9127-301f8e7dcb4a",
     "showTitle": false,
     "title": ""
    }
   },
   "outputs": [
    {
     "output_type": "stream",
     "name": "stdout",
     "output_type": "stream",
     "text": [
      "+---+-----+----------+\n| Id| Name|Percentage|\n+---+-----+----------+\n|  1|Steve|      95.0|\n|  2|David|      65.0|\n|  3| John|      25.0|\n|  4|Shree|      50.0|\n|  5|Helen|      45.0|\n+---+-----+----------+\n\n"
     ]
    }
   ],
   "source": [
    "#Now Check the df\n",
    "df.show()"
   ]
  },
  {
   "cell_type": "code",
   "execution_count": 0,
   "metadata": {
    "application/vnd.databricks.v1+cell": {
     "cellMetadata": {
      "byteLimit": 2048000,
      "rowLimit": 10000
     },
     "inputWidgets": {},
     "nuid": "09a582b5-41ec-4843-b485-158d186d3919",
     "showTitle": false,
     "title": ""
    }
   },
   "outputs": [
    {
     "output_type": "stream",
     "name": "stdout",
     "output_type": "stream",
     "text": [
      "+---+-----+----------+------------+\n| Id| Name|Percentage|     Results|\n+---+-----+----------+------------+\n|  1|Steve|      95.0| Distinction|\n|  2|David|      65.0| First Class|\n|  3| John|      25.0|Second Class|\n|  4|Shree|      50.0|Second Class|\n|  5|Helen|      45.0| Third Class|\n+---+-----+----------+------------+\n\n"
     ]
    }
   ],
   "source": [
    "#Case when statement\n",
    "df=df.withColumn(\"Results\",when(df.Percentage>70.0,'Distinction')\\\n",
    "              .when((df.Percentage<70.0) &(df.Percentage>=60),'First Class')\\\n",
    "              .when((df.Percentage<60.0) &(df.Percentage>=50),'Second Class')\\\n",
    "              .when((df.Percentage<50.0) &(df.Percentage>=40),'Third Class')\\\n",
    "              .when(df.Percentage<40.0,'Second Class')\\\n",
    "              )\n",
    "df.show(truncate=False)"
   ]
  },
  {
   "cell_type": "code",
   "execution_count": 0,
   "metadata": {
    "application/vnd.databricks.v1+cell": {
     "cellMetadata": {},
     "inputWidgets": {},
     "nuid": "8924943c-1f40-4cf2-8f4b-6cd2e2bc88d0",
     "showTitle": false,
     "title": ""
    }
   },
   "outputs": [],
   "source": []
  }
 ],
 "metadata": {
  "application/vnd.databricks.v1+notebook": {
   "dashboards": [],
   "language": "python",
   "notebookMetadata": {
    "pythonIndentUnit": 4
   },
   "notebookName": "5-Pyspark Intreview",
   "widgets": {}
  }
 },
 "nbformat": 4,
 "nbformat_minor": 0
}
