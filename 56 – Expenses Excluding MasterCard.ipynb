{
 "cells": [
  {
   "cell_type": "markdown",
   "metadata": {
    "application/vnd.databricks.v1+cell": {
     "cellMetadata": {},
     "inputWidgets": {},
     "nuid": "e7ce18be-6c32-4ac8-9139-3a43d2f7c494",
     "showTitle": false,
     "tableResultSettingsMap": {},
     "title": ""
    }
   },
   "source": [
    "You're working for a financial analytics company that specializes in analyzing credit card expenditures. You have a dataset containing information about users' credit card expenditures across different card companies.\n",
    "\n",
    "Write an SQL query to find the total expenditure from other cards (excluding Mastercard) for users who hold Mastercard.  Display only the users(along with Mastercard expense and other expense) for which expense from other cards together is more than Mastercard expense.\n"
   ]
  },
  {
   "cell_type": "code",
   "execution_count": 0,
   "metadata": {
    "application/vnd.databricks.v1+cell": {
     "cellMetadata": {
      "byteLimit": 2048000,
      "rowLimit": 10000
     },
     "inputWidgets": {},
     "nuid": "92f2a523-63d3-4fe9-83f0-8bf06c06f8df",
     "showTitle": false,
     "tableResultSettingsMap": {},
     "title": ""
    }
   },
   "outputs": [
    {
     "output_type": "stream",
     "name": "stdout",
     "output_type": "stream",
     "text": [
      "+---------+------------+-----------+\n|user_name|card_company|expenditure|\n+---------+------------+-----------+\n|    user1|  Mastercard|       1000|\n|    user1|        Visa|        500|\n|    user1|       RuPay|       2000|\n|    user2|        Visa|       2000|\n|    user3|  Mastercard|       5000|\n|    user3|        Visa|       2000|\n|    user3|       Slice|        500|\n|    user3|        Amex|       1000|\n|    user4|  Mastercard|       2000|\n+---------+------------+-----------+\n\n"
     ]
    }
   ],
   "source": [
    "from pyspark.sql import SparkSession\n",
    "from pyspark.sql.types import StructType, StructField, StringType, IntegerType\n",
    "\n",
    "# Initialize Spark session\n",
    "spark = SparkSession.builder.appName(\"Expenditures Table\").getOrCreate()\n",
    "\n",
    "# Define schema for the expenditures table\n",
    "expenditures_schema = StructType([\n",
    "    StructField(\"user_name\", StringType(), True),\n",
    "    StructField(\"card_company\", StringType(), True),\n",
    "    StructField(\"expenditure\", IntegerType(), True)\n",
    "])\n",
    "\n",
    "# Define data for the expenditures table\n",
    "expenditures_data = [\n",
    "    (\"user1\", \"Mastercard\", 1000),\n",
    "    (\"user1\", \"Visa\", 500),\n",
    "    (\"user1\", \"RuPay\", 2000),\n",
    "    (\"user2\", \"Visa\", 2000),\n",
    "    (\"user3\", \"Mastercard\", 5000),\n",
    "    (\"user3\", \"Visa\", 2000),\n",
    "    (\"user3\", \"Slice\", 500),\n",
    "    (\"user3\", \"Amex\", 1000),\n",
    "    (\"user4\", \"Mastercard\", 2000)\n",
    "]\n",
    "\n",
    "# Create DataFrame for the expenditures table\n",
    "expenditures_df = spark.createDataFrame(data=expenditures_data, schema=expenditures_schema)\n",
    "\n",
    "# Show the expenditures table\n",
    "expenditures_df.show()\n"
   ]
  },
  {
   "cell_type": "code",
   "execution_count": 0,
   "metadata": {
    "application/vnd.databricks.v1+cell": {
     "cellMetadata": {
      "byteLimit": 2048000,
      "rowLimit": 10000
     },
     "inputWidgets": {},
     "nuid": "2453bda0-14a4-4b4f-97b5-c1562829c554",
     "showTitle": false,
     "tableResultSettingsMap": {},
     "title": ""
    }
   },
   "outputs": [
    {
     "output_type": "stream",
     "name": "stdout",
     "output_type": "stream",
     "text": [
      "+---------+------------------+-------------+\n|user_name|mastercard_expense|other_expense|\n+---------+------------------+-------------+\n|    user1|              1000|         2500|\n+---------+------------------+-------------+\n\n"
     ]
    }
   ],
   "source": [
    "from pyspark.sql.functions import col, when, sum\n",
    "\n",
    "# Step 1: Filter for users who have at least one Mastercard entry\n",
    "users_with_mastercard = expenditures_df.filter(col(\"card_company\") == \"Mastercard\").select(\"user_name\").distinct()\n",
    "\n",
    "# Step 2: Calculate `mastercard_expense` and `other_expense` for each user\n",
    "cte_expenses_df = expenditures_df.join(users_with_mastercard, on=\"user_name\", how=\"inner\") \\\n",
    "    .groupBy(\"user_name\").agg(\n",
    "        sum(when(col(\"card_company\") == \"Mastercard\", col(\"expenditure\")).otherwise(0)).alias(\"mastercard_expense\"),\n",
    "        sum(when(col(\"card_company\") != \"Mastercard\", col(\"expenditure\")).otherwise(0)).alias(\"other_expense\")\n",
    "    )\n",
    "\n",
    "# Step 3: Filter rows where `other_expense` is greater than `mastercard_expense`\n",
    "result_df = cte_expenses_df.filter(col(\"other_expense\") > col(\"mastercard_expense\"))\n",
    "\n",
    "# Display the result\n",
    "result_df.show()\n"
   ]
  },
  {
   "cell_type": "code",
   "execution_count": 0,
   "metadata": {
    "application/vnd.databricks.v1+cell": {
     "cellMetadata": {
      "byteLimit": 2048000,
      "rowLimit": 10000
     },
     "inputWidgets": {},
     "nuid": "874f5ae7-07ca-488a-b426-4d75181a428f",
     "showTitle": false,
     "tableResultSettingsMap": {},
     "title": ""
    }
   },
   "outputs": [
    {
     "output_type": "display_data",
     "data": {
      "text/html": [
       "<style scoped>\n",
       "  .table-result-container {\n",
       "    max-height: 300px;\n",
       "    overflow: auto;\n",
       "  }\n",
       "  table, th, td {\n",
       "    border: 1px solid black;\n",
       "    border-collapse: collapse;\n",
       "  }\n",
       "  th, td {\n",
       "    padding: 5px;\n",
       "  }\n",
       "  th {\n",
       "    text-align: left;\n",
       "  }\n",
       "</style><div class='table-result-container'><table class='table-result'><thead style='background-color: white'><tr><th>user_name</th><th>mastercard_expense</th><th>other_expense</th></tr></thead><tbody><tr><td>user1</td><td>1000</td><td>2500</td></tr><tr><td>user3</td><td>5000</td><td>3500</td></tr><tr><td>user4</td><td>2000</td><td>0</td></tr></tbody></table></div>"
      ]
     },
     "metadata": {
      "application/vnd.databricks.v1+output": {
       "addedWidgets": {},
       "aggData": [],
       "aggError": "",
       "aggOverflow": false,
       "aggSchema": [],
       "aggSeriesLimitReached": false,
       "aggType": "",
       "arguments": {},
       "columnCustomDisplayInfos": {},
       "data": [
        [
         "user1",
         1000,
         2500
        ],
        [
         "user3",
         5000,
         3500
        ],
        [
         "user4",
         2000,
         0
        ]
       ],
       "datasetInfos": [],
       "dbfsResultPath": null,
       "isJsonSchema": true,
       "metadata": {},
       "overflow": false,
       "plotOptions": {
        "customPlotOptions": {},
        "displayType": "table",
        "pivotAggregation": null,
        "pivotColumns": null,
        "xColumns": null,
        "yColumns": null
       },
       "removedWidgets": [],
       "schema": [
        {
         "metadata": "{}",
         "name": "user_name",
         "type": "\"string\""
        },
        {
         "metadata": "{}",
         "name": "mastercard_expense",
         "type": "\"long\""
        },
        {
         "metadata": "{}",
         "name": "other_expense",
         "type": "\"long\""
        }
       ],
       "type": "table"
      }
     },
     "output_type": "display_data"
    }
   ],
   "source": [
    "cte_expenses_df.display()"
   ]
  },
  {
   "cell_type": "code",
   "execution_count": 0,
   "metadata": {
    "application/vnd.databricks.v1+cell": {
     "cellMetadata": {},
     "inputWidgets": {},
     "nuid": "167d4f00-e217-4b3d-8618-851babcb864f",
     "showTitle": false,
     "tableResultSettingsMap": {},
     "title": ""
    }
   },
   "outputs": [],
   "source": []
  }
 ],
 "metadata": {
  "application/vnd.databricks.v1+notebook": {
   "dashboards": [],
   "environmentMetadata": null,
   "language": "python",
   "notebookMetadata": {
    "pythonIndentUnit": 2
   },
   "notebookName": "56 – Expenses Excluding MasterCard",
   "widgets": {}
  }
 },
 "nbformat": 4,
 "nbformat_minor": 0
}
